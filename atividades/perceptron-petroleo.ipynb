{
 "cells": [
  {
   "cell_type": "markdown",
   "id": "f1e80f36",
   "metadata": {},
   "source": [
    "# Atividade: *Perceptron* - Petróleo\n",
    "\n",
    "**INSTITUTO FEDERAL DE MINAS GERAIS**\n",
    "\n",
    "*Departamento de Engenharia e Computação*   \n",
    "\n",
    "*Professor: Ciniro Nametala Leite*\n",
    "\n",
    "*Aluno: Luan Carlos dos Santos*\n",
    "\n",
    "---\n",
    "\n",
    "### Pacotes necessários"
   ]
  },
  {
   "cell_type": "code",
   "execution_count": 2272,
   "id": "ea53fa9e",
   "metadata": {},
   "outputs": [],
   "source": [
    "import numpy as np\n",
    "import pandas as pd\n",
    "import pygwalker as pyg\n",
    "import matplotlib.pyplot as plt\n",
    "from sklearn.metrics import confusion_matrix, classification_report \n",
    "import seaborn as sns\n",
    "import plotly.graph_objects as go\n"
   ]
  },
  {
   "cell_type": "markdown",
   "id": "183cf8c1",
   "metadata": {},
   "source": [
    "---\n",
    "\n",
    "### Funções\n",
    "\n",
    "   - Degrau Bipolar"
   ]
  },
  {
   "cell_type": "code",
   "execution_count": 2273,
   "id": "9ddef730",
   "metadata": {},
   "outputs": [],
   "source": [
    "def degrau_bipolar(u):\n",
    "   if u >= 0:\n",
    "      y = 1 # óleo P1\n",
    "   else:\n",
    "      y = -1 # óleo P2\n",
    "   return y"
   ]
  },
  {
   "cell_type": "markdown",
   "id": "288f2b5f",
   "metadata": {},
   "source": [
    "   - Previsão"
   ]
  },
  {
   "cell_type": "code",
   "execution_count": 2274,
   "id": "2ca096b1",
   "metadata": {},
   "outputs": [],
   "source": [
    "def previsao(w, x):\n",
    "   u = np.dot(w.T, x)\n",
    "   yhat = degrau_bipolar(u)\n",
    "   return yhat # esse y hat é a previsão da perceptron"
   ]
  },
  {
   "cell_type": "markdown",
   "id": "6083b43c",
   "metadata": {},
   "source": [
    "---\n",
    "\n",
    "### Conjunto de dados\n",
    "   - Coletando os dados de treinamento;"
   ]
  },
  {
   "cell_type": "code",
   "execution_count": 2275,
   "id": "56e90684",
   "metadata": {},
   "outputs": [
    {
     "data": {
      "text/html": [
       "<div>\n",
       "<style scoped>\n",
       "    .dataframe tbody tr th:only-of-type {\n",
       "        vertical-align: middle;\n",
       "    }\n",
       "\n",
       "    .dataframe tbody tr th {\n",
       "        vertical-align: top;\n",
       "    }\n",
       "\n",
       "    .dataframe thead th {\n",
       "        text-align: right;\n",
       "    }\n",
       "</style>\n",
       "<table border=\"1\" class=\"dataframe\">\n",
       "  <thead>\n",
       "    <tr style=\"text-align: right;\">\n",
       "      <th></th>\n",
       "      <th>Amostra</th>\n",
       "      <th>x1</th>\n",
       "      <th>x2</th>\n",
       "      <th>x3</th>\n",
       "      <th>d</th>\n",
       "    </tr>\n",
       "  </thead>\n",
       "  <tbody>\n",
       "    <tr>\n",
       "      <th>0</th>\n",
       "      <td>1</td>\n",
       "      <td>-0.6508</td>\n",
       "      <td>0.1097</td>\n",
       "      <td>40.009</td>\n",
       "      <td>-1.0</td>\n",
       "    </tr>\n",
       "    <tr>\n",
       "      <th>1</th>\n",
       "      <td>2</td>\n",
       "      <td>-14.4920</td>\n",
       "      <td>0.8896</td>\n",
       "      <td>44.005</td>\n",
       "      <td>-1.0</td>\n",
       "    </tr>\n",
       "    <tr>\n",
       "      <th>2</th>\n",
       "      <td>3</td>\n",
       "      <td>2.0850</td>\n",
       "      <td>0.6876</td>\n",
       "      <td>79.845</td>\n",
       "      <td>-1.0</td>\n",
       "    </tr>\n",
       "    <tr>\n",
       "      <th>3</th>\n",
       "      <td>4</td>\n",
       "      <td>0.2626</td>\n",
       "      <td>11.4760</td>\n",
       "      <td>12.071</td>\n",
       "      <td>-1.0</td>\n",
       "    </tr>\n",
       "    <tr>\n",
       "      <th>4</th>\n",
       "      <td>5</td>\n",
       "      <td>0.6418</td>\n",
       "      <td>10.2340</td>\n",
       "      <td>77.985</td>\n",
       "      <td>1.0</td>\n",
       "    </tr>\n",
       "  </tbody>\n",
       "</table>\n",
       "</div>"
      ],
      "text/plain": [
       "   Amostra       x1       x2      x3    d\n",
       "0        1  -0.6508   0.1097  40.009 -1.0\n",
       "1        2 -14.4920   0.8896  44.005 -1.0\n",
       "2        3   2.0850   0.6876  79.845 -1.0\n",
       "3        4   0.2626  11.4760  12.071 -1.0\n",
       "4        5   0.6418  10.2340  77.985  1.0"
      ]
     },
     "execution_count": 2275,
     "metadata": {},
     "output_type": "execute_result"
    }
   ],
   "source": [
    "dados = pd.read_csv('../data-sets/tabela_treino.csv', sep=';')\n",
    "dados.head()"
   ]
  },
  {
   "cell_type": "markdown",
   "id": "237bc7e0",
   "metadata": {},
   "source": [
    "   - Armazenando a quantidade de amostras;"
   ]
  },
  {
   "cell_type": "code",
   "execution_count": 2276,
   "id": "a2eb4023",
   "metadata": {},
   "outputs": [],
   "source": [
    "n_amostras = dados.shape[0] "
   ]
  },
  {
   "cell_type": "markdown",
   "id": "63c03aac",
   "metadata": {},
   "source": [
    "   - Armazenando a quantidade de variáveis e a matriz treinamento;\n"
   ]
  },
  {
   "cell_type": "code",
   "execution_count": 2277,
   "id": "aa6034be",
   "metadata": {},
   "outputs": [
    {
     "data": {
      "text/html": [
       "<div>\n",
       "<style scoped>\n",
       "    .dataframe tbody tr th:only-of-type {\n",
       "        vertical-align: middle;\n",
       "    }\n",
       "\n",
       "    .dataframe tbody tr th {\n",
       "        vertical-align: top;\n",
       "    }\n",
       "\n",
       "    .dataframe thead th {\n",
       "        text-align: right;\n",
       "    }\n",
       "</style>\n",
       "<table border=\"1\" class=\"dataframe\">\n",
       "  <thead>\n",
       "    <tr style=\"text-align: right;\">\n",
       "      <th></th>\n",
       "      <th>0</th>\n",
       "      <th>1</th>\n",
       "      <th>2</th>\n",
       "    </tr>\n",
       "  </thead>\n",
       "  <tbody>\n",
       "    <tr>\n",
       "      <th>0</th>\n",
       "      <td>-0.6508</td>\n",
       "      <td>0.1097</td>\n",
       "      <td>40.009</td>\n",
       "    </tr>\n",
       "    <tr>\n",
       "      <th>1</th>\n",
       "      <td>-14.4920</td>\n",
       "      <td>0.8896</td>\n",
       "      <td>44.005</td>\n",
       "    </tr>\n",
       "    <tr>\n",
       "      <th>2</th>\n",
       "      <td>2.0850</td>\n",
       "      <td>0.6876</td>\n",
       "      <td>79.845</td>\n",
       "    </tr>\n",
       "    <tr>\n",
       "      <th>3</th>\n",
       "      <td>0.2626</td>\n",
       "      <td>11.4760</td>\n",
       "      <td>12.071</td>\n",
       "    </tr>\n",
       "    <tr>\n",
       "      <th>4</th>\n",
       "      <td>0.6418</td>\n",
       "      <td>10.2340</td>\n",
       "      <td>77.985</td>\n",
       "    </tr>\n",
       "  </tbody>\n",
       "</table>\n",
       "</div>"
      ],
      "text/plain": [
       "         0        1       2\n",
       "0  -0.6508   0.1097  40.009\n",
       "1 -14.4920   0.8896  44.005\n",
       "2   2.0850   0.6876  79.845\n",
       "3   0.2626  11.4760  12.071\n",
       "4   0.6418  10.2340  77.985"
      ]
     },
     "execution_count": 2277,
     "metadata": {},
     "output_type": "execute_result"
    }
   ],
   "source": [
    "n_variaveis = dados.shape[1] -1\n",
    "x = dados.iloc[:, 1:n_variaveis].values\n",
    "pd.DataFrame(x)[:5]"
   ]
  },
  {
   "cell_type": "markdown",
   "id": "a4c5c12c",
   "metadata": {},
   "source": [
    "   - Inserindo o Bias na matriz de treinamento;"
   ]
  },
  {
   "cell_type": "code",
   "execution_count": 2278,
   "id": "b0d5972e",
   "metadata": {},
   "outputs": [
    {
     "data": {
      "text/html": [
       "<div>\n",
       "<style scoped>\n",
       "    .dataframe tbody tr th:only-of-type {\n",
       "        vertical-align: middle;\n",
       "    }\n",
       "\n",
       "    .dataframe tbody tr th {\n",
       "        vertical-align: top;\n",
       "    }\n",
       "\n",
       "    .dataframe thead th {\n",
       "        text-align: right;\n",
       "    }\n",
       "</style>\n",
       "<table border=\"1\" class=\"dataframe\">\n",
       "  <thead>\n",
       "    <tr style=\"text-align: right;\">\n",
       "      <th></th>\n",
       "      <th>0</th>\n",
       "      <th>1</th>\n",
       "      <th>2</th>\n",
       "      <th>3</th>\n",
       "    </tr>\n",
       "  </thead>\n",
       "  <tbody>\n",
       "    <tr>\n",
       "      <th>0</th>\n",
       "      <td>-0.6508</td>\n",
       "      <td>0.1097</td>\n",
       "      <td>40.009</td>\n",
       "      <td>-1.0</td>\n",
       "    </tr>\n",
       "    <tr>\n",
       "      <th>1</th>\n",
       "      <td>-14.4920</td>\n",
       "      <td>0.8896</td>\n",
       "      <td>44.005</td>\n",
       "      <td>-1.0</td>\n",
       "    </tr>\n",
       "    <tr>\n",
       "      <th>2</th>\n",
       "      <td>2.0850</td>\n",
       "      <td>0.6876</td>\n",
       "      <td>79.845</td>\n",
       "      <td>-1.0</td>\n",
       "    </tr>\n",
       "    <tr>\n",
       "      <th>3</th>\n",
       "      <td>0.2626</td>\n",
       "      <td>11.4760</td>\n",
       "      <td>12.071</td>\n",
       "      <td>-1.0</td>\n",
       "    </tr>\n",
       "    <tr>\n",
       "      <th>4</th>\n",
       "      <td>0.6418</td>\n",
       "      <td>10.2340</td>\n",
       "      <td>77.985</td>\n",
       "      <td>-1.0</td>\n",
       "    </tr>\n",
       "  </tbody>\n",
       "</table>\n",
       "</div>"
      ],
      "text/plain": [
       "         0        1       2    3\n",
       "0  -0.6508   0.1097  40.009 -1.0\n",
       "1 -14.4920   0.8896  44.005 -1.0\n",
       "2   2.0850   0.6876  79.845 -1.0\n",
       "3   0.2626  11.4760  12.071 -1.0\n",
       "4   0.6418  10.2340  77.985 -1.0"
      ]
     },
     "execution_count": 2278,
     "metadata": {},
     "output_type": "execute_result"
    }
   ],
   "source": [
    "# Criando um vetor preenchido com '1s' * -1\n",
    "bias = np.ones((n_amostras, 1)) * -1\n",
    "x = np.hstack((x, bias))\n",
    "pd.DataFrame(x)[:5]"
   ]
  },
  {
   "cell_type": "markdown",
   "id": "326071f6",
   "metadata": {},
   "source": [
    "   - Armazenando o vetor de saida;"
   ]
  },
  {
   "cell_type": "code",
   "execution_count": 2279,
   "id": "5a15d63d",
   "metadata": {},
   "outputs": [
    {
     "name": "stdout",
     "output_type": "stream",
     "text": [
      "[-1. -1. -1. -1.  1.  1. -1.  1. -1.  1. -1. -1. -1. -1. -1. -1.  1.  1.\n",
      "  1.  1. -1.  1.  1.  1.  1. -1. -1.  1. -1.  1.]\n",
      "Quantidade de amostras tipo P1(1): 14\n",
      "Quantidade de amostras tipo P2(-1): 16\n"
     ]
    }
   ],
   "source": [
    "y = dados.iloc[:, n_variaveis].values\n",
    "print(y)\n",
    "print(f\"Quantidade de amostras tipo P1(1): {(y == 1).sum()}\")\n",
    "print(f\"Quantidade de amostras tipo P2(-1): {(y== -1).sum()}\")"
   ]
  },
  {
   "cell_type": "markdown",
   "id": "0795272f",
   "metadata": {},
   "source": [
    "   - Inicializando o vetor de pesos $w$ com valores aleatórios de 0 a 1;"
   ]
  },
  {
   "cell_type": "code",
   "execution_count": 2280,
   "id": "12709469",
   "metadata": {},
   "outputs": [
    {
     "name": "stdout",
     "output_type": "stream",
     "text": [
      "[0.85876398 0.31770244 0.00159796 0.65921372]\n"
     ]
    }
   ],
   "source": [
    "w = np.random.uniform(0, 1, n_variaveis)\n",
    "print(w)"
   ]
  },
  {
   "cell_type": "markdown",
   "id": "c65cfcfa",
   "metadata": {},
   "source": [
    "### Pré configurações de Treinamento\n",
    "\n",
    "   - Definindo a taxa de aprendizagem $η$, a tolerância e o erro médio inicial;"
   ]
  },
  {
   "cell_type": "code",
   "execution_count": 2281,
   "id": "1204e5d6",
   "metadata": {},
   "outputs": [],
   "source": [
    "eta = 0.01\n",
    "tolerancia = 0.01\n",
    "erro_medio = tolerancia + 1"
   ]
  },
  {
   "cell_type": "markdown",
   "id": "e2dc5765",
   "metadata": {},
   "source": [
    "   - Criando um vetor de épocas, um contador e o máximo de épocas;"
   ]
  },
  {
   "cell_type": "code",
   "execution_count": 2282,
   "id": "edcbda9f",
   "metadata": {},
   "outputs": [],
   "source": [
    "erros_epocas = []\n",
    "epoca = 0\n",
    "max_epocas = 800"
   ]
  },
  {
   "cell_type": "markdown",
   "id": "c8b4b25e",
   "metadata": {},
   "source": [
    "   - Inicializando os critérios de parada do treinamento;"
   ]
  },
  {
   "cell_type": "code",
   "execution_count": 2283,
   "id": "96e47934",
   "metadata": {},
   "outputs": [],
   "source": [
    "criterio_erro = True\n",
    "criterio_epoca = True"
   ]
  },
  {
   "cell_type": "markdown",
   "id": "dbbfcbb2",
   "metadata": {},
   "source": [
    "## Treinamento\n",
    "\n",
    "*\"Equanto o erro for maior que a tolerância e o máximo de épocas não for atingido, o treinamento irá se repetir\"*"
   ]
  },
  {
   "cell_type": "code",
   "execution_count": 2284,
   "id": "ca5b32ac",
   "metadata": {},
   "outputs": [
    {
     "data": {
      "text/html": [
       "<div>\n",
       "<style scoped>\n",
       "    .dataframe tbody tr th:only-of-type {\n",
       "        vertical-align: middle;\n",
       "    }\n",
       "\n",
       "    .dataframe tbody tr th {\n",
       "        vertical-align: top;\n",
       "    }\n",
       "\n",
       "    .dataframe thead th {\n",
       "        text-align: right;\n",
       "    }\n",
       "</style>\n",
       "<table border=\"1\" class=\"dataframe\">\n",
       "  <thead>\n",
       "    <tr style=\"text-align: right;\">\n",
       "      <th></th>\n",
       "      <th>Treino</th>\n",
       "      <th>w1</th>\n",
       "      <th>w2</th>\n",
       "      <th>w3</th>\n",
       "      <th>w4</th>\n",
       "      <th>w1</th>\n",
       "      <th>w2</th>\n",
       "      <th>w3</th>\n",
       "      <th>w4</th>\n",
       "    </tr>\n",
       "  </thead>\n",
       "  <tbody>\n",
       "    <tr>\n",
       "      <th>0</th>\n",
       "      <td>Treino 1</td>\n",
       "      <td>0.917757</td>\n",
       "      <td>0.518431</td>\n",
       "      <td>0.985282</td>\n",
       "      <td>0.263550</td>\n",
       "      <td>-1.788005</td>\n",
       "      <td>1.719353</td>\n",
       "      <td>0.047842</td>\n",
       "      <td>10.083550</td>\n",
       "    </tr>\n",
       "    <tr>\n",
       "      <th>1</th>\n",
       "      <td>Treino 2</td>\n",
       "      <td>0.599565</td>\n",
       "      <td>0.170372</td>\n",
       "      <td>0.306524</td>\n",
       "      <td>0.505823</td>\n",
       "      <td>-1.035439</td>\n",
       "      <td>1.107724</td>\n",
       "      <td>-0.841716</td>\n",
       "      <td>9.645823</td>\n",
       "    </tr>\n",
       "    <tr>\n",
       "      <th>2</th>\n",
       "      <td>Treino 3</td>\n",
       "      <td>0.793813</td>\n",
       "      <td>0.914021</td>\n",
       "      <td>0.904940</td>\n",
       "      <td>0.779954</td>\n",
       "      <td>-1.508937</td>\n",
       "      <td>-0.042329</td>\n",
       "      <td>-0.109200</td>\n",
       "      <td>9.199954</td>\n",
       "    </tr>\n",
       "    <tr>\n",
       "      <th>3</th>\n",
       "      <td>Treino 4</td>\n",
       "      <td>0.557972</td>\n",
       "      <td>0.393620</td>\n",
       "      <td>0.471455</td>\n",
       "      <td>0.930546</td>\n",
       "      <td>-1.377002</td>\n",
       "      <td>1.234236</td>\n",
       "      <td>-0.562385</td>\n",
       "      <td>9.650546</td>\n",
       "    </tr>\n",
       "    <tr>\n",
       "      <th>4</th>\n",
       "      <td>Treino 5</td>\n",
       "      <td>0.967017</td>\n",
       "      <td>0.145762</td>\n",
       "      <td>0.155431</td>\n",
       "      <td>0.401817</td>\n",
       "      <td>-1.549567</td>\n",
       "      <td>0.970528</td>\n",
       "      <td>-0.166949</td>\n",
       "      <td>10.141817</td>\n",
       "    </tr>\n",
       "  </tbody>\n",
       "</table>\n",
       "</div>"
      ],
      "text/plain": [
       "     Treino        w1        w2        w3        w4        w1        w2  \\\n",
       "0  Treino 1  0.917757  0.518431  0.985282  0.263550 -1.788005  1.719353   \n",
       "1  Treino 2  0.599565  0.170372  0.306524  0.505823 -1.035439  1.107724   \n",
       "2  Treino 3  0.793813  0.914021  0.904940  0.779954 -1.508937 -0.042329   \n",
       "3  Treino 4  0.557972  0.393620  0.471455  0.930546 -1.377002  1.234236   \n",
       "4  Treino 5  0.967017  0.145762  0.155431  0.401817 -1.549567  0.970528   \n",
       "\n",
       "         w3         w4  \n",
       "0  0.047842  10.083550  \n",
       "1 -0.841716   9.645823  \n",
       "2 -0.109200   9.199954  \n",
       "3 -0.562385   9.650546  \n",
       "4 -0.166949  10.141817  "
      ]
     },
     "execution_count": 2284,
     "metadata": {},
     "output_type": "execute_result"
    }
   ],
   "source": [
    "n_treinamentos = 5\n",
    "pesos_iniciais = []\n",
    "pesos_finais = []\n",
    "\n",
    "for treino in range(n_treinamentos):\n",
    "   \n",
    "   # reinicializando os pesos aleatórios\n",
    "   w = np.random.uniform(0, 1, n_variaveis)\n",
    "   pesos_iniciais.append(w.copy())\n",
    "\n",
    "   # reinicia variáveis de controle\n",
    "   criterio_erro = True\n",
    "   criterio_epoca = True\n",
    "   epoca = 0\n",
    "   erros_epocas = []\n",
    "   \n",
    "   while criterio_erro and criterio_epoca:\n",
    "      erro_atual = 0\n",
    "      epoca += 1\n",
    "      \n",
    "      # embaralhando os indíces pra usar na rede\n",
    "      indice_aleatorios = np.random.permutation(n_amostras)\n",
    "      \n",
    "      # para cada amostra no conjunto de amostras\n",
    "      for i in range(n_amostras):\n",
    "         # pegando indice_aleatorio pra amostra i\n",
    "         i_amostra = indice_aleatorios[i]\n",
    "         \n",
    "         # capturando uma amostra da matriz de treinamento vinculada ao indice coletado do pool de indice_aleatorios\n",
    "         amostra_atual = x[i_amostra,:]\n",
    "         \n",
    "         # calculando o potencial de ativação\n",
    "         u = np.dot(w.T, amostra_atual)\n",
    "         \n",
    "         # obtendo previsão da rede pela Degrau Bipolar\n",
    "         yhat = degrau_bipolar(u)\n",
    "         \n",
    "         # calculando o erro entre a previsão e o esperado\n",
    "         e = y[i_amostra] - yhat\n",
    "         \n",
    "         # atualizando os pesos pela regra de HEBB\n",
    "         w = w + ((eta * e) * amostra_atual)\n",
    "         \n",
    "         # acumulando os erros de de todas as amostras\n",
    "         erro_atual += np.abs(e)\n",
    "         \n",
    "      # calcular o erro médio da época\n",
    "      erro_medio = erro_atual/n_amostras\n",
    "      \n",
    "      # adicionando o erro medio ao vetor de erros do treinamento\n",
    "      erros_epocas.append(erro_medio)\n",
    "      # verificando e atualizando os critérios de parada\n",
    "      criterio_erro = (erro_medio > tolerancia)\n",
    "      criterio_epoca = (epoca < max_epocas) \n",
    "   pesos_finais.append(w.copy())\n",
    "   # print(f'Época: {epoca}')\n",
    "\n",
    "# Cria nomes das colunas\n",
    "colunas_iniciais = [f'w{i+1}' for i in range(n_variaveis)]\n",
    "colunas_finais = [f'w{i+1}' for i in range(n_variaveis)]\n",
    "colunas = colunas_iniciais + colunas_finais\n",
    "\n",
    "# Junta pesos iniciais e finais\n",
    "dados = np.hstack([pesos_iniciais, pesos_finais])\n",
    "\n",
    "# Cria coluna de treinos\n",
    "treinos = [f'Treino {i+1}' for i in range(n_treinamentos)]\n",
    "\n",
    "# Cria DataFrame simples\n",
    "df_pesos = pd.DataFrame(dados, columns=colunas)\n",
    "df_pesos.insert(0, 'Treino', treinos)\n",
    "\n",
    "df_pesos\n"
   ]
  },
  {
   "cell_type": "markdown",
   "id": "60606383",
   "metadata": {},
   "source": [
    "### Análise de Convergência do Algorítmo com base no erro de cada época:"
   ]
  },
  {
   "cell_type": "code",
   "execution_count": 2285,
   "id": "fdd98640",
   "metadata": {},
   "outputs": [
    {
     "data": {
      "image/png": "[encoded data removed]",
      "text/plain": [
       "<Figure size 600x400 with 1 Axes>"
      ]
     },
     "metadata": {},
     "output_type": "display_data"
    }
   ],
   "source": [
    "plt.figure(figsize=(6,4))\n",
    "plt.plot((erros_epocas[:max_epocas]))\n",
    "plt.title('Gráfico de Convergência')\n",
    "plt.xlabel('Número de Épocas')\n",
    "plt.ylabel('Convergência do Erro')\n",
    "plt.grid(True)\n",
    "plt.show()"
   ]
  },
  {
   "cell_type": "markdown",
   "id": "5aee2a78",
   "metadata": {},
   "source": [
    "   - Pesos Ideiais $w*$"
   ]
  },
  {
   "cell_type": "code",
   "execution_count": 2286,
   "id": "21408e92",
   "metadata": {},
   "outputs": [
    {
     "name": "stdout",
     "output_type": "stream",
     "text": [
      "Quantidade de épocas até convergir \"800\"\n",
      "Conjunto ideal de pesos em cada treinamento\n"
     ]
    },
    {
     "data": {
      "text/html": [
       "<div>\n",
       "<style scoped>\n",
       "    .dataframe tbody tr th:only-of-type {\n",
       "        vertical-align: middle;\n",
       "    }\n",
       "\n",
       "    .dataframe tbody tr th {\n",
       "        vertical-align: top;\n",
       "    }\n",
       "\n",
       "    .dataframe thead th {\n",
       "        text-align: right;\n",
       "    }\n",
       "</style>\n",
       "<table border=\"1\" class=\"dataframe\">\n",
       "  <thead>\n",
       "    <tr style=\"text-align: right;\">\n",
       "      <th></th>\n",
       "      <th>w1</th>\n",
       "      <th>w2</th>\n",
       "      <th>w3</th>\n",
       "      <th>w4</th>\n",
       "    </tr>\n",
       "  </thead>\n",
       "  <tbody>\n",
       "    <tr>\n",
       "      <th>0</th>\n",
       "      <td>-1.788005</td>\n",
       "      <td>1.719353</td>\n",
       "      <td>0.047842</td>\n",
       "      <td>10.083550</td>\n",
       "    </tr>\n",
       "    <tr>\n",
       "      <th>1</th>\n",
       "      <td>-1.035439</td>\n",
       "      <td>1.107724</td>\n",
       "      <td>-0.841716</td>\n",
       "      <td>9.645823</td>\n",
       "    </tr>\n",
       "    <tr>\n",
       "      <th>2</th>\n",
       "      <td>-1.508937</td>\n",
       "      <td>-0.042329</td>\n",
       "      <td>-0.109200</td>\n",
       "      <td>9.199954</td>\n",
       "    </tr>\n",
       "    <tr>\n",
       "      <th>3</th>\n",
       "      <td>-1.377002</td>\n",
       "      <td>1.234236</td>\n",
       "      <td>-0.562385</td>\n",
       "      <td>9.650546</td>\n",
       "    </tr>\n",
       "    <tr>\n",
       "      <th>4</th>\n",
       "      <td>-1.549567</td>\n",
       "      <td>0.970528</td>\n",
       "      <td>-0.166949</td>\n",
       "      <td>10.141817</td>\n",
       "    </tr>\n",
       "  </tbody>\n",
       "</table>\n",
       "</div>"
      ],
      "text/plain": [
       "         w1        w2        w3         w4\n",
       "0 -1.788005  1.719353  0.047842  10.083550\n",
       "1 -1.035439  1.107724 -0.841716   9.645823\n",
       "2 -1.508937 -0.042329 -0.109200   9.199954\n",
       "3 -1.377002  1.234236 -0.562385   9.650546\n",
       "4 -1.549567  0.970528 -0.166949  10.141817"
      ]
     },
     "execution_count": 2286,
     "metadata": {},
     "output_type": "execute_result"
    }
   ],
   "source": [
    "print(f'Quantidade de épocas até convergir \"{epoca}\"')\n",
    "#exibindo os pesos calibrados pela regra Regra de Hebb\n",
    "print('Conjunto ideal de pesos em cada treinamento')\n",
    "pd.DataFrame(pesos_finais)\n",
    "colunas_finais = [f'w{i+1}' for i in range(n_variaveis)]\n",
    "colunas = colunas_finais\n",
    "\n",
    "# Junta pesos iniciais e finais\n",
    "dados = np.hstack([pesos_finais])\n",
    "\n",
    "# Cria DataFrame simples\n",
    "df_pesos = pd.DataFrame(dados, columns=colunas)\n",
    "\n",
    "df_pesos"
   ]
  },
  {
   "cell_type": "markdown",
   "id": "b613741a",
   "metadata": {},
   "source": [
    "   - Previsões dos Testes"
   ]
  },
  {
   "cell_type": "code",
   "execution_count": 2287,
   "id": "0d27e80d",
   "metadata": {},
   "outputs": [
    {
     "data": {
      "text/html": [
       "<div>\n",
       "<style scoped>\n",
       "    .dataframe tbody tr th:only-of-type {\n",
       "        vertical-align: middle;\n",
       "    }\n",
       "\n",
       "    .dataframe tbody tr th {\n",
       "        vertical-align: top;\n",
       "    }\n",
       "\n",
       "    .dataframe thead th {\n",
       "        text-align: right;\n",
       "    }\n",
       "</style>\n",
       "<table border=\"1\" class=\"dataframe\">\n",
       "  <thead>\n",
       "    <tr style=\"text-align: right;\">\n",
       "      <th></th>\n",
       "      <th>0</th>\n",
       "      <th>1</th>\n",
       "      <th>2</th>\n",
       "      <th>3</th>\n",
       "      <th>4</th>\n",
       "      <th>5</th>\n",
       "      <th>6</th>\n",
       "      <th>7</th>\n",
       "      <th>8</th>\n",
       "      <th>9</th>\n",
       "      <th>...</th>\n",
       "      <th>20</th>\n",
       "      <th>21</th>\n",
       "      <th>22</th>\n",
       "      <th>23</th>\n",
       "      <th>24</th>\n",
       "      <th>25</th>\n",
       "      <th>26</th>\n",
       "      <th>27</th>\n",
       "      <th>28</th>\n",
       "      <th>29</th>\n",
       "    </tr>\n",
       "  </thead>\n",
       "  <tbody>\n",
       "    <tr>\n",
       "      <th>0</th>\n",
       "      <td>-1.0</td>\n",
       "      <td>1.0</td>\n",
       "      <td>-1.0</td>\n",
       "      <td>1.0</td>\n",
       "      <td>1.0</td>\n",
       "      <td>-1.0</td>\n",
       "      <td>-1.0</td>\n",
       "      <td>-1.0</td>\n",
       "      <td>-1.0</td>\n",
       "      <td>-1.0</td>\n",
       "      <td>...</td>\n",
       "      <td>-1.0</td>\n",
       "      <td>-1.0</td>\n",
       "      <td>1.0</td>\n",
       "      <td>-1.0</td>\n",
       "      <td>-1.0</td>\n",
       "      <td>-1.0</td>\n",
       "      <td>-1.0</td>\n",
       "      <td>-1.0</td>\n",
       "      <td>-1.0</td>\n",
       "      <td>-1.0</td>\n",
       "    </tr>\n",
       "    <tr>\n",
       "      <th>1</th>\n",
       "      <td>-1.0</td>\n",
       "      <td>-1.0</td>\n",
       "      <td>-1.0</td>\n",
       "      <td>-1.0</td>\n",
       "      <td>-1.0</td>\n",
       "      <td>-1.0</td>\n",
       "      <td>-1.0</td>\n",
       "      <td>-1.0</td>\n",
       "      <td>-1.0</td>\n",
       "      <td>-1.0</td>\n",
       "      <td>...</td>\n",
       "      <td>-1.0</td>\n",
       "      <td>-1.0</td>\n",
       "      <td>-1.0</td>\n",
       "      <td>-1.0</td>\n",
       "      <td>-1.0</td>\n",
       "      <td>-1.0</td>\n",
       "      <td>-1.0</td>\n",
       "      <td>-1.0</td>\n",
       "      <td>-1.0</td>\n",
       "      <td>-1.0</td>\n",
       "    </tr>\n",
       "    <tr>\n",
       "      <th>2</th>\n",
       "      <td>-1.0</td>\n",
       "      <td>1.0</td>\n",
       "      <td>-1.0</td>\n",
       "      <td>-1.0</td>\n",
       "      <td>-1.0</td>\n",
       "      <td>-1.0</td>\n",
       "      <td>-1.0</td>\n",
       "      <td>-1.0</td>\n",
       "      <td>-1.0</td>\n",
       "      <td>-1.0</td>\n",
       "      <td>...</td>\n",
       "      <td>-1.0</td>\n",
       "      <td>-1.0</td>\n",
       "      <td>1.0</td>\n",
       "      <td>-1.0</td>\n",
       "      <td>-1.0</td>\n",
       "      <td>-1.0</td>\n",
       "      <td>-1.0</td>\n",
       "      <td>-1.0</td>\n",
       "      <td>-1.0</td>\n",
       "      <td>-1.0</td>\n",
       "    </tr>\n",
       "    <tr>\n",
       "      <th>3</th>\n",
       "      <td>-1.0</td>\n",
       "      <td>-1.0</td>\n",
       "      <td>-1.0</td>\n",
       "      <td>-1.0</td>\n",
       "      <td>-1.0</td>\n",
       "      <td>-1.0</td>\n",
       "      <td>-1.0</td>\n",
       "      <td>-1.0</td>\n",
       "      <td>-1.0</td>\n",
       "      <td>-1.0</td>\n",
       "      <td>...</td>\n",
       "      <td>-1.0</td>\n",
       "      <td>-1.0</td>\n",
       "      <td>-1.0</td>\n",
       "      <td>-1.0</td>\n",
       "      <td>-1.0</td>\n",
       "      <td>-1.0</td>\n",
       "      <td>-1.0</td>\n",
       "      <td>-1.0</td>\n",
       "      <td>-1.0</td>\n",
       "      <td>-1.0</td>\n",
       "    </tr>\n",
       "    <tr>\n",
       "      <th>4</th>\n",
       "      <td>-1.0</td>\n",
       "      <td>1.0</td>\n",
       "      <td>-1.0</td>\n",
       "      <td>-1.0</td>\n",
       "      <td>-1.0</td>\n",
       "      <td>-1.0</td>\n",
       "      <td>-1.0</td>\n",
       "      <td>-1.0</td>\n",
       "      <td>-1.0</td>\n",
       "      <td>-1.0</td>\n",
       "      <td>...</td>\n",
       "      <td>-1.0</td>\n",
       "      <td>-1.0</td>\n",
       "      <td>1.0</td>\n",
       "      <td>-1.0</td>\n",
       "      <td>-1.0</td>\n",
       "      <td>-1.0</td>\n",
       "      <td>-1.0</td>\n",
       "      <td>-1.0</td>\n",
       "      <td>-1.0</td>\n",
       "      <td>-1.0</td>\n",
       "    </tr>\n",
       "  </tbody>\n",
       "</table>\n",
       "<p>5 rows × 30 columns</p>\n",
       "</div>"
      ],
      "text/plain": [
       "    0    1    2    3    4    5    6    7    8    9   ...   20   21   22   23  \\\n",
       "0 -1.0  1.0 -1.0  1.0  1.0 -1.0 -1.0 -1.0 -1.0 -1.0  ... -1.0 -1.0  1.0 -1.0   \n",
       "1 -1.0 -1.0 -1.0 -1.0 -1.0 -1.0 -1.0 -1.0 -1.0 -1.0  ... -1.0 -1.0 -1.0 -1.0   \n",
       "2 -1.0  1.0 -1.0 -1.0 -1.0 -1.0 -1.0 -1.0 -1.0 -1.0  ... -1.0 -1.0  1.0 -1.0   \n",
       "3 -1.0 -1.0 -1.0 -1.0 -1.0 -1.0 -1.0 -1.0 -1.0 -1.0  ... -1.0 -1.0 -1.0 -1.0   \n",
       "4 -1.0  1.0 -1.0 -1.0 -1.0 -1.0 -1.0 -1.0 -1.0 -1.0  ... -1.0 -1.0  1.0 -1.0   \n",
       "\n",
       "    24   25   26   27   28   29  \n",
       "0 -1.0 -1.0 -1.0 -1.0 -1.0 -1.0  \n",
       "1 -1.0 -1.0 -1.0 -1.0 -1.0 -1.0  \n",
       "2 -1.0 -1.0 -1.0 -1.0 -1.0 -1.0  \n",
       "3 -1.0 -1.0 -1.0 -1.0 -1.0 -1.0  \n",
       "4 -1.0 -1.0 -1.0 -1.0 -1.0 -1.0  \n",
       "\n",
       "[5 rows x 30 columns]"
      ]
     },
     "execution_count": 2287,
     "metadata": {},
     "output_type": "execute_result"
    }
   ],
   "source": [
    "previsoes = []\n",
    "\n",
    "for j in range(n_treinamentos):\n",
    "   # vetor que recebe as previsões da rna para o treino j\n",
    "   yhat = np.zeros(n_amostras)\n",
    "   \n",
    "   for i in range(n_amostras):\n",
    "      yhat[i] = previsao(pesos_finais[j], x[i, :])\n",
    "   \n",
    "   # adiciona o vetor completo de previsões à lista\n",
    "   previsoes.append(yhat)\n",
    "pd.DataFrame(previsoes)"
   ]
  },
  {
   "cell_type": "markdown",
   "id": "88cc4e59",
   "metadata": {},
   "source": [
    "### Análise da Qualidade da Classificação"
   ]
  },
  {
   "cell_type": "markdown",
   "id": "6b6283f5",
   "metadata": {},
   "source": [
    "   - Matriz de confusão"
   ]
  },
  {
   "cell_type": "code",
   "execution_count": 2288,
   "id": "b28c1a64",
   "metadata": {},
   "outputs": [
    {
     "data": {
      "image/png": "[encoded data removed]",
      "text/plain": [
       "<Figure size 600x400 with 2 Axes>"
      ]
     },
     "metadata": {},
     "output_type": "display_data"
    },
    {
     "name": "stdout",
     "output_type": "stream",
     "text": [
      "Acerto percentual do treinamento: 56.666666666666664%\n"
     ]
    },
    {
     "data": {
      "image/png": "[encoded data removed]",
      "text/plain": [
       "<Figure size 600x400 with 2 Axes>"
      ]
     },
     "metadata": {},
     "output_type": "display_data"
    },
    {
     "name": "stdout",
     "output_type": "stream",
     "text": [
      "Acerto percentual do treinamento: 53.333333333333336%\n"
     ]
    },
    {
     "data": {
      "image/png": "[encoded data removed]",
      "text/plain": [
       "<Figure size 600x400 with 2 Axes>"
      ]
     },
     "metadata": {},
     "output_type": "display_data"
    },
    {
     "name": "stdout",
     "output_type": "stream",
     "text": [
      "Acerto percentual do treinamento: 53.333333333333336%\n"
     ]
    },
    {
     "data": {
      "image/png": "[encoded data removed]",
      "text/plain": [
       "<Figure size 600x400 with 2 Axes>"
      ]
     },
     "metadata": {},
     "output_type": "display_data"
    },
    {
     "name": "stdout",
     "output_type": "stream",
     "text": [
      "Acerto percentual do treinamento: 53.333333333333336%\n"
     ]
    },
    {
     "data": {
      "image/png": "[encoded data removed]",
      "text/plain": [
       "<Figure size 600x400 with 2 Axes>"
      ]
     },
     "metadata": {},
     "output_type": "display_data"
    },
    {
     "name": "stdout",
     "output_type": "stream",
     "text": [
      "Acerto percentual do treinamento: 53.333333333333336%\n"
     ]
    }
   ],
   "source": [
    "\n",
    "# imprimir todas as previsões\n",
    "for j, yhat in enumerate(previsoes):\n",
    "    #converter -1 em 0 para melhor visualizar a matriz de confusão\n",
    "   yhat_display = np.where(yhat == -1, 0, yhat)\n",
    "   y_display = np.where(y == -1, 0, y)\n",
    "\n",
    "   #gera a matriz de confusão\n",
    "   cm = confusion_matrix(y_display, yhat_display)\n",
    "\n",
    "   #plotar matriz de confusão crocante\n",
    "   plt.figure(figsize=(6, 4))\n",
    "   sns.heatmap(cm, annot=True, fmt='d', cmap='Blues',\n",
    "               xticklabels=['Óleo P1', 'Óleo P2'],\n",
    "               yticklabels=['Óleo P1', 'Óleo P2'])\n",
    "   plt.title(f'Matriz de Confusão para o teste:{j+1}')\n",
    "   plt.xlabel('Valor Predito')\n",
    "   plt.ylabel('Valor Real')\n",
    "   plt.show()\n",
    "   acuracia = (np.sum(yhat == y) / n_amostras) * 100\n",
    "   print(f'Acerto percentual do treinamento: {acuracia}%')"
   ]
  },
  {
   "cell_type": "markdown",
   "id": "ec7254fe",
   "metadata": {},
   "source": [
    "## Implementação da rede *Perceptron*"
   ]
  },
  {
   "cell_type": "code",
   "execution_count": 2299,
   "id": "4da20838",
   "metadata": {},
   "outputs": [
    {
     "data": {
      "text/html": [
       "<div>\n",
       "<style scoped>\n",
       "    .dataframe tbody tr th:only-of-type {\n",
       "        vertical-align: middle;\n",
       "    }\n",
       "\n",
       "    .dataframe tbody tr th {\n",
       "        vertical-align: top;\n",
       "    }\n",
       "\n",
       "    .dataframe thead th {\n",
       "        text-align: right;\n",
       "    }\n",
       "</style>\n",
       "<table border=\"1\" class=\"dataframe\">\n",
       "  <thead>\n",
       "    <tr style=\"text-align: right;\">\n",
       "      <th></th>\n",
       "      <th>x1</th>\n",
       "      <th>x2</th>\n",
       "      <th>x3</th>\n",
       "      <th>ŷ treino 1</th>\n",
       "      <th>ŷ treino 2</th>\n",
       "      <th>ŷ treino 3</th>\n",
       "      <th>ŷ treino 4</th>\n",
       "      <th>ŷ treino 5</th>\n",
       "    </tr>\n",
       "  </thead>\n",
       "  <tbody>\n",
       "    <tr>\n",
       "      <th>0</th>\n",
       "      <td>-0.3665</td>\n",
       "      <td>0.0620</td>\n",
       "      <td>5.9891</td>\n",
       "      <td>-1.0</td>\n",
       "      <td>-1.0</td>\n",
       "      <td>-1.0</td>\n",
       "      <td>-1.0</td>\n",
       "      <td>-1.0</td>\n",
       "    </tr>\n",
       "    <tr>\n",
       "      <th>1</th>\n",
       "      <td>-0.7842</td>\n",
       "      <td>1.1267</td>\n",
       "      <td>5.5912</td>\n",
       "      <td>-1.0</td>\n",
       "      <td>-1.0</td>\n",
       "      <td>-1.0</td>\n",
       "      <td>-1.0</td>\n",
       "      <td>-1.0</td>\n",
       "    </tr>\n",
       "    <tr>\n",
       "      <th>2</th>\n",
       "      <td>0.3012</td>\n",
       "      <td>0.5611</td>\n",
       "      <td>5.8234</td>\n",
       "      <td>-1.0</td>\n",
       "      <td>-1.0</td>\n",
       "      <td>-1.0</td>\n",
       "      <td>-1.0</td>\n",
       "      <td>-1.0</td>\n",
       "    </tr>\n",
       "    <tr>\n",
       "      <th>3</th>\n",
       "      <td>0.7757</td>\n",
       "      <td>1.0648</td>\n",
       "      <td>8.0677</td>\n",
       "      <td>-1.0</td>\n",
       "      <td>-1.0</td>\n",
       "      <td>-1.0</td>\n",
       "      <td>-1.0</td>\n",
       "      <td>-1.0</td>\n",
       "    </tr>\n",
       "    <tr>\n",
       "      <th>4</th>\n",
       "      <td>0.1570</td>\n",
       "      <td>0.8028</td>\n",
       "      <td>6.3040</td>\n",
       "      <td>-1.0</td>\n",
       "      <td>-1.0</td>\n",
       "      <td>-1.0</td>\n",
       "      <td>-1.0</td>\n",
       "      <td>-1.0</td>\n",
       "    </tr>\n",
       "    <tr>\n",
       "      <th>5</th>\n",
       "      <td>-0.7014</td>\n",
       "      <td>1.0316</td>\n",
       "      <td>3.6005</td>\n",
       "      <td>-1.0</td>\n",
       "      <td>-1.0</td>\n",
       "      <td>-1.0</td>\n",
       "      <td>-1.0</td>\n",
       "      <td>-1.0</td>\n",
       "    </tr>\n",
       "    <tr>\n",
       "      <th>6</th>\n",
       "      <td>0.3748</td>\n",
       "      <td>0.1536</td>\n",
       "      <td>6.1537</td>\n",
       "      <td>-1.0</td>\n",
       "      <td>-1.0</td>\n",
       "      <td>-1.0</td>\n",
       "      <td>-1.0</td>\n",
       "      <td>-1.0</td>\n",
       "    </tr>\n",
       "    <tr>\n",
       "      <th>7</th>\n",
       "      <td>-0.6920</td>\n",
       "      <td>0.9404</td>\n",
       "      <td>4.4058</td>\n",
       "      <td>-1.0</td>\n",
       "      <td>-1.0</td>\n",
       "      <td>-1.0</td>\n",
       "      <td>-1.0</td>\n",
       "      <td>-1.0</td>\n",
       "    </tr>\n",
       "    <tr>\n",
       "      <th>8</th>\n",
       "      <td>-1.3970</td>\n",
       "      <td>0.7141</td>\n",
       "      <td>4.9263</td>\n",
       "      <td>-1.0</td>\n",
       "      <td>-1.0</td>\n",
       "      <td>-1.0</td>\n",
       "      <td>-1.0</td>\n",
       "      <td>-1.0</td>\n",
       "    </tr>\n",
       "    <tr>\n",
       "      <th>9</th>\n",
       "      <td>-1.8842</td>\n",
       "      <td>0.2805</td>\n",
       "      <td>1.2548</td>\n",
       "      <td>-1.0</td>\n",
       "      <td>-1.0</td>\n",
       "      <td>-1.0</td>\n",
       "      <td>-1.0</td>\n",
       "      <td>-1.0</td>\n",
       "    </tr>\n",
       "  </tbody>\n",
       "</table>\n",
       "</div>"
      ],
      "text/plain": [
       "       x1      x2      x3  ŷ treino 1  ŷ treino 2  ŷ treino 3  ŷ treino 4  \\\n",
       "0 -0.3665  0.0620  5.9891        -1.0        -1.0        -1.0        -1.0   \n",
       "1 -0.7842  1.1267  5.5912        -1.0        -1.0        -1.0        -1.0   \n",
       "2  0.3012  0.5611  5.8234        -1.0        -1.0        -1.0        -1.0   \n",
       "3  0.7757  1.0648  8.0677        -1.0        -1.0        -1.0        -1.0   \n",
       "4  0.1570  0.8028  6.3040        -1.0        -1.0        -1.0        -1.0   \n",
       "5 -0.7014  1.0316  3.6005        -1.0        -1.0        -1.0        -1.0   \n",
       "6  0.3748  0.1536  6.1537        -1.0        -1.0        -1.0        -1.0   \n",
       "7 -0.6920  0.9404  4.4058        -1.0        -1.0        -1.0        -1.0   \n",
       "8 -1.3970  0.7141  4.9263        -1.0        -1.0        -1.0        -1.0   \n",
       "9 -1.8842  0.2805  1.2548        -1.0        -1.0        -1.0        -1.0   \n",
       "\n",
       "   ŷ treino 5  \n",
       "0        -1.0  \n",
       "1        -1.0  \n",
       "2        -1.0  \n",
       "3        -1.0  \n",
       "4        -1.0  \n",
       "5        -1.0  \n",
       "6        -1.0  \n",
       "7        -1.0  \n",
       "8        -1.0  \n",
       "9        -1.0  "
      ]
     },
     "execution_count": 2299,
     "metadata": {},
     "output_type": "execute_result"
    }
   ],
   "source": [
    "# lê os dados de teste\n",
    "dados_classificacao = pd.read_csv('../data-sets/tabela_classificacao.csv', sep=';', usecols=['x1', 'x2', 'x3'])\n",
    "n_amostras = dados_classificacao.shape[0]\n",
    "\n",
    "# adiciona bias\n",
    "bias = np.ones((n_amostras, 1)) * -1  # usar 1 se os pesos foram treinados com bias 1\n",
    "x_novo = np.hstack((dados_classificacao.to_numpy(), bias))\n",
    "\n",
    "\n",
    "# calcula previsões para cada treino\n",
    "previsoes = []\n",
    "for j in range(n_treinamentos):\n",
    "    yhat = np.zeros(n_amostras)\n",
    "    for i in range(n_amostras):\n",
    "        yhat[i] = previsao(pesos_finais[j], x_novo[i, :])\n",
    "    previsoes.append(yhat)\n",
    "\n",
    "# transforma previsões em DataFrame (uma coluna por treino)\n",
    "df_previsoes = pd.DataFrame(\n",
    "    np.column_stack(previsoes),\n",
    "    columns=[f'ŷ treino {j+1}' for j in range(n_treinamentos)]\n",
    ")\n",
    "\n",
    "# junta previsões com os dados originais do teste\n",
    "df_final = pd.concat([dados_classificacao.reset_index(drop=True), df_previsoes], axis=1)\n",
    "\n",
    "# exibe a tabela final\n",
    "df_final\n"
   ]
  },
  {
   "cell_type": "code",
   "execution_count": null,
   "id": "434e2b49",
   "metadata": {},
   "outputs": [],
   "source": []
  }
 ],
 "metadata": {
  "kernelspec": {
   "display_name": "rna",
   "language": "python",
   "name": "python3"
  },
  "language_info": {
   "codemirror_mode": {
    "name": "ipython",
    "version": 3
   },
   "file_extension": ".py",
   "mimetype": "text/x-python",
   "name": "python",
   "nbconvert_exporter": "python",
   "pygments_lexer": "ipython3",
   "version": "3.8.20"
  }
 },
 "nbformat": 4,
 "nbformat_minor": 5
}
