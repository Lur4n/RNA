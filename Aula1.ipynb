{
 "cells": [
  {
   "cell_type": "markdown",
   "id": "da6c645e",
   "metadata": {},
   "source": [
    "# Aula 1 de RNA"
   ]
  },
  {
   "cell_type": "code",
   "execution_count": 2,
   "id": "8a476304",
   "metadata": {},
   "outputs": [
    {
     "name": "stdout",
     "output_type": "stream",
     "text": [
      "Testando o notebook\n"
     ]
    }
   ],
   "source": [
    "print(\"Testando o notebook\")"
   ]
  }
 ],
 "metadata": {
  "kernelspec": {
   "display_name": "rna",
   "language": "python",
   "name": "python3"
  },
  "language_info": {
   "codemirror_mode": {
    "name": "ipython",
    "version": 3
   },
   "file_extension": ".py",
   "mimetype": "text/x-python",
   "name": "python",
   "nbconvert_exporter": "python",
   "pygments_lexer": "ipython3",
   "version": "3.8.20"
  }
 },
 "nbformat": 4,
 "nbformat_minor": 5
}
