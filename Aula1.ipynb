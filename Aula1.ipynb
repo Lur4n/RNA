{
 "cells": [
  {
   "cell_type": "markdown",
   "id": "da6c645e",
   "metadata": {},
   "source": [
    "# Aula 1 de RNA"
   ]
  }
 ],
 "metadata": {
  "language_info": {
   "name": "python"
  }
 },
 "nbformat": 4,
 "nbformat_minor": 5
}
