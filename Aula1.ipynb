{
 "cells": [
  {
   "cell_type": "markdown",
   "id": "3f572c70",
   "metadata": {},
   "source": [
    "# Atividade: Neurônio Artificial\n",
    "\n",
    "**INSTITUTO FEDERAL DE MINAS GERAIS**\n",
    "\n",
    "*Departamento de Engenharia e Computação*   \n",
    "\n",
    "*Professor: Ciniro Nametala Leite*\n",
    "\n",
    "*Aluno: Luan Carlos dos Santos*\n",
    "\n",
    "---"
   ]
  },
  {
   "cell_type": "code",
   "execution_count": 391,
   "id": "0e22687a",
   "metadata": {},
   "outputs": [
    {
     "data": {
      "image/png": "[encoded data removed]",
      "text/plain": [
       "<Figure size 400x400 with 1 Axes>"
      ]
     },
     "metadata": {},
     "output_type": "display_data"
    }
   ],
   "source": [
    "import numpy as np\n",
    "import pandas as pd\n",
    "import matplotlib.pyplot as plt\n",
    "\n",
    "# somatorio do produto de x pelo seu erro \n",
    "def neuronio(x1, x2, bias, w0, w1, w2):\n",
    "   u = (x1 * w1) + (x2 * w2) + (bias * w0)\n",
    "   print('(', x1, ' * ', w1, ') + (', x2, ' * ' , w2, ') + (', bias, '*', w0, ') = ', u)\n",
    "   return 1 if u > 0 else 0  \n",
    "\n",
    "# leitura dos dados\n",
    "dataset = pd.read_csv('amostravariada.csv', sep=';', decimal=',')\n",
    "\n",
    "# convertendo os dados\n",
    "dataset['x'] = pd.to_numeric(dataset['x'], errors='coerce')\n",
    "dataset['y'] = pd.to_numeric(dataset['y'], errors='coerce')\n",
    "\n",
    "# dando uma espiadinha no tail do dataset\n",
    "# dataset.tail()\n",
    "\n",
    "plt.figure(figsize=(4, 4))# definindo o tamanho do grafico\n",
    "plt.scatter(dataset['x'], dataset['y'], c='black', s=10)# configurações do gráfico de dispersão, com um par ordenado(vetor(x), vetor(y)), uma cor e o size do ponto, passados no parâmetro\n",
    "plt.xlim(0,6)# tamanho do eixo x\n",
    "plt.ylim(0,6)# tamanho do eixo y\n",
    "plt.xlabel(\"legenda do eixo x\")\n",
    "plt.ylabel(\"legenda do eixo y\")\n",
    "plt.grid(True, alpha=0.3) # opacidade das linhas do grid\n",
    "plt.show()# plotando o gráfico"
   ]
  },
  {
   "cell_type": "markdown",
   "id": "508fa61f",
   "metadata": {},
   "source": [
    "## Classificação"
   ]
  },
  {
   "cell_type": "code",
   "execution_count": 392,
   "id": "b5b1b7f7",
   "metadata": {},
   "outputs": [
    {
     "name": "stdout",
     "output_type": "stream",
     "text": [
      "( 1.18398790740307  *  1 ) + ( 1.83287999771689  *  1 ) + ( -1 * 6 ) =  -2.98313209488004\n",
      "( 1.52356516357191  *  1 ) + ( 2.29333685523262  *  1 ) + ( -1 * 6 ) =  -2.18309798119547\n",
      "( 2.19924087622042  *  1 ) + ( 2.34288018532788  *  1 ) + ( -1 * 6 ) =  -1.4578789384517004\n",
      "( 2.76805184861864  *  1 ) + ( 2.17913556946165  *  1 ) + ( -1 * 6 ) =  -1.05281258191971\n",
      "( 2.16537433370448  *  1 ) + ( 1.88844541988585  *  1 ) + ( -1 * 6 ) =  -1.9461802464096696\n",
      "( 1.45446236284786  *  1 ) + ( 2.09191160206588  *  1 ) + ( -1 * 6 ) =  -2.45362603508626\n",
      "( 2.30104662826981  *  1 ) + ( 2.31984965144235  *  1 ) + ( -1 * 6 ) =  -1.3791037202878407\n",
      "( 2.24828267756297  *  1 ) + ( 1.84995568277446  *  1 ) + ( -1 * 6 ) =  -1.9017616396625705\n",
      "( 1.7889555497517  *  1 ) + ( 1.72701318108685  *  1 ) + ( -1 * 6 ) =  -2.48403126916145\n",
      "( 1.62767198038996  *  1 ) + ( 2.34194095125992  *  1 ) + ( -1 * 6 ) =  -2.0303870683501204\n",
      "( 1.84740962792448  *  1 ) + ( 1.00965128435936  *  1 ) + ( -1 * 6 ) =  -3.14293908771616\n",
      "( 1.32046090690918  *  1 ) + ( 1.80856893702056  *  1 ) + ( -1 * 6 ) =  -2.87097015607026\n",
      "( 1.89806537828555  *  1 ) + ( 1.14872195980847  *  1 ) + ( -1 * 6 ) =  -2.95321266190598\n",
      "( 1.19454064059099  *  1 ) + ( 1.91888226689764  *  1 ) + ( -1 * 6 ) =  -2.88657709251137\n",
      "( 1.93203727480959  *  1 ) + ( 2.00424008901609  *  1 ) + ( -1 * 6 ) =  -2.06372263617432\n",
      "( 2.35696102085689  *  1 ) + ( 2.53235570442818  *  1 ) + ( -1 * 6 ) =  -1.1106832747149298\n",
      "( 2.53565930286736  *  1 ) + ( 2.47362674060157  *  1 ) + ( -1 * 6 ) =  -0.9907139565310699\n",
      "( 1.3322421571756  *  1 ) + ( 2.20557338103902  *  1 ) + ( -1 * 6 ) =  -2.46218446178538\n",
      "( 1.93076102143239  *  1 ) + ( 2.72118322987762  *  1 ) + ( -1 * 6 ) =  -1.3480557486899905\n",
      "( 1.77903420439585  *  1 ) + ( 1.10022851647571  *  1 ) + ( -1 * 6 ) =  -3.12073727912844\n",
      "( 1.31625763478565  *  1 ) + ( 2.37172890715328  *  1 ) + ( -1 * 6 ) =  -2.31201345806107\n",
      "( 1.90132548198995  *  1 ) + ( 1.31359817331041  *  1 ) + ( -1 * 6 ) =  -2.7850763446996396\n",
      "( 1.69200574035754  *  1 ) + ( 1.93608207720993  *  1 ) + ( -1 * 6 ) =  -2.37191218243253\n",
      "( 2.18559964925523  *  1 ) + ( 2.46279227719724  *  1 ) + ( -1 * 6 ) =  -1.3516080735475295\n",
      "( 2.03448376539866  *  1 ) + ( 1.79768160825111  *  1 ) + ( -1 * 6 ) =  -2.1678346263502304\n",
      "( 1.80392913849044  *  1 ) + ( 2.05950192860475  *  1 ) + ( -1 * 6 ) =  -2.13656893290481\n",
      "( 1.25364980783725  *  1 ) + ( 1.6746964743208  *  1 ) + ( -1 * 6 ) =  -3.07165371784195\n",
      "( 2.65202456909683  *  1 ) + ( 2.97353057388571  *  1 ) + ( -1 * 6 ) =  -0.3744448570174601\n",
      "( 1.03091220366027  *  1 ) + ( 1.37440338063412  *  1 ) + ( -1 * 6 ) =  -3.59468441570561\n",
      "( 2.16727312061183  *  1 ) + ( 2.68911040976549  *  1 ) + ( -1 * 6 ) =  -1.14361646962268\n",
      "( 4.16021244703408  *  1 ) + ( 4.56308169411618  *  1 ) + ( -1 * 6 ) =  2.7232941411502605\n",
      "( 3.429360965574  *  1 ) + ( 3.22657875991159  *  1 ) + ( -1 * 6 ) =  0.6559397254855899\n",
      "( 3.68468497968349  *  1 ) + ( 3.91620442179036  *  1 ) + ( -1 * 6 ) =  1.6008894014738502\n",
      "( 3.36553860174183  *  1 ) + ( 4.0080231717267  *  1 ) + ( -1 * 6 ) =  1.3735617734685306\n",
      "( 3.37941513674389  *  1 ) + ( 4.22980732116152  *  1 ) + ( -1 * 6 ) =  1.6092224579054095\n",
      "( 3.49306799025529  *  1 ) + ( 3.54097187879817  *  1 ) + ( -1 * 6 ) =  1.0340398690534602\n",
      "( 4.09788138809244  *  1 ) + ( 4.17756431902457  *  1 ) + ( -1 * 6 ) =  2.2754457071170098\n",
      "( 4.2542762393862  *  1 ) + ( 2.94775932914696  *  1 ) + ( -1 * 6 ) =  1.2020355685331596\n",
      "( 4.96141738995942  *  1 ) + ( 5.01764124371554  *  1 ) + ( -1 * 6 ) =  3.97905863367496\n",
      "( 3.6786161369237  *  1 ) + ( 3.67994268047642  *  1 ) + ( -1 * 6 ) =  1.3585588174001195\n",
      "( 3.99384179878187  *  1 ) + ( 4.49630207552492  *  1 ) + ( -1 * 6 ) =  2.4901438743067903\n",
      "( 4.31423077065109  *  1 ) + ( 3.05196510366728  *  1 ) + ( -1 * 6 ) =  1.36619587431837\n",
      "( 3.56112341165036  *  1 ) + ( 4.62212503202353  *  1 ) + ( -1 * 6 ) =  2.1832484436738895\n",
      "( 4.13586703777435  *  1 ) + ( 3.59561304285638  *  1 ) + ( -1 * 6 ) =  1.73148008063073\n",
      "( 3.903900628398  *  1 ) + ( 3.25526042556417  *  1 ) + ( -1 * 6 ) =  1.15916105396217\n",
      "( 3.59823742245538  *  1 ) + ( 3.17072707586747  *  1 ) + ( -1 * 6 ) =  0.7689644983228501\n",
      "( 3.52292263787447  *  1 ) + ( 4.23427037611838  *  1 ) + ( -1 * 6 ) =  1.7571930139928504\n",
      "( 4.11233373979942  *  1 ) + ( 4.12226952558418  *  1 ) + ( -1 * 6 ) =  2.234603265383601\n",
      "( 4.01133263040324  *  1 ) + ( 3.55181217630668  *  1 ) + ( -1 * 6 ) =  1.5631448067099196\n",
      "( 3.90330230587025  *  1 ) + ( 3.83430257315781  *  1 ) + ( -1 * 6 ) =  1.7376048790280603\n",
      "( 3.03920362619232  *  1 ) + ( 3.82467125622757  *  1 ) + ( -1 * 6 ) =  0.8638748824198901\n",
      "( 3.91177346540771  *  1 ) + ( 3.9581457865223  *  1 ) + ( -1 * 6 ) =  1.8699192519300105\n",
      "( 4.10730576158489  *  1 ) + ( 2.7585025493138  *  1 ) + ( -1 * 6 ) =  0.8658083108986894\n",
      "( 3.90783807596665  *  1 ) + ( 4.20163904640691  *  1 ) + ( -1 * 6 ) =  2.10947712237356\n",
      "( 5.05747437296559  *  1 ) + ( 3.64845219236415  *  1 ) + ( -1 * 6 ) =  2.70592656532974\n",
      "( 3.15357271983956  *  1 ) + ( 4.03180319326502  *  1 ) + ( -1 * 6 ) =  1.18537591310458\n",
      "( 3.9967990961187  *  1 ) + ( 4.97481062320664  *  1 ) + ( -1 * 6 ) =  2.9716097193253397\n",
      "( 3.54346782335604  *  1 ) + ( 4.75027228356205  *  1 ) + ( -1 * 6 ) =  2.29374010691809\n"
     ]
    },
    {
     "data": {
      "text/html": [
       "<div>\n",
       "<style scoped>\n",
       "    .dataframe tbody tr th:only-of-type {\n",
       "        vertical-align: middle;\n",
       "    }\n",
       "\n",
       "    .dataframe tbody tr th {\n",
       "        vertical-align: top;\n",
       "    }\n",
       "\n",
       "    .dataframe thead th {\n",
       "        text-align: right;\n",
       "    }\n",
       "</style>\n",
       "<table border=\"1\" class=\"dataframe\">\n",
       "  <thead>\n",
       "    <tr style=\"text-align: right;\">\n",
       "      <th></th>\n",
       "      <th>x</th>\n",
       "      <th>y</th>\n",
       "      <th>classe</th>\n",
       "    </tr>\n",
       "  </thead>\n",
       "  <tbody>\n",
       "    <tr>\n",
       "      <th>0</th>\n",
       "      <td>1.183988</td>\n",
       "      <td>1.832880</td>\n",
       "      <td>0</td>\n",
       "    </tr>\n",
       "    <tr>\n",
       "      <th>1</th>\n",
       "      <td>1.523565</td>\n",
       "      <td>2.293337</td>\n",
       "      <td>0</td>\n",
       "    </tr>\n",
       "    <tr>\n",
       "      <th>2</th>\n",
       "      <td>2.199241</td>\n",
       "      <td>2.342880</td>\n",
       "      <td>0</td>\n",
       "    </tr>\n",
       "    <tr>\n",
       "      <th>3</th>\n",
       "      <td>2.768052</td>\n",
       "      <td>2.179136</td>\n",
       "      <td>0</td>\n",
       "    </tr>\n",
       "    <tr>\n",
       "      <th>4</th>\n",
       "      <td>2.165374</td>\n",
       "      <td>1.888445</td>\n",
       "      <td>0</td>\n",
       "    </tr>\n",
       "  </tbody>\n",
       "</table>\n",
       "</div>"
      ],
      "text/plain": [
       "          x         y  classe\n",
       "0  1.183988  1.832880       0\n",
       "1  1.523565  2.293337       0\n",
       "2  2.199241  2.342880       0\n",
       "3  2.768052  2.179136       0\n",
       "4  2.165374  1.888445       0"
      ]
     },
     "execution_count": 392,
     "metadata": {},
     "output_type": "execute_result"
    }
   ],
   "source": [
    "# Erros \n",
    "w0 = 6 # termo do viés\n",
    "w1 = 1 # erro 1\n",
    "w2 = 1 # erro 2\n",
    "bias = -1 # viés\n",
    "\n",
    "# ----------------\n",
    "classificacoes = []\n",
    "\n",
    "for i, linha in dataset.iterrows():\n",
    "   classe = neuronio(linha['x'], linha['y'], bias, w0, w1, w2)\n",
    "   classificacoes.append(classe)\n",
    "\n",
    "dataset['classe'] = classificacoes\n",
    "dataset.head()\n",
    "# dataset.tail()\n",
    "# print(dataset)"
   ]
  },
  {
   "cell_type": "markdown",
   "id": "594ea3aa",
   "metadata": {},
   "source": [
    "## Gráfico"
   ]
  },
  {
   "cell_type": "code",
   "execution_count": 393,
   "id": "08b3573f",
   "metadata": {},
   "outputs": [
    {
     "data": {
      "image/png": "[encoded data removed]",
      "text/plain": [
       "<Figure size 400x400 with 1 Axes>"
      ]
     },
     "metadata": {},
     "output_type": "display_data"
    }
   ],
   "source": [
    "plt.figure(figsize=(4,4))\n",
    "cores = ['blue' if c == 0 else 'green' for c in dataset['classe']]\n",
    "\n",
    "# gerando a  reta de separação\n",
    "eixox = np.linspace(0, 6, 100)\n",
    "eixoy = w0 - eixox\n",
    "\n",
    "plt.scatter(dataset['x'], dataset['y'], c = cores, s=10)\n",
    "plt.plot(eixox, eixoy, 'r-', linewidth=1)\n",
    "plt.xlim(0,6)\n",
    "plt.ylim(0,6)\n",
    "plt.xlabel(\"Eixo x\")\n",
    "plt.ylabel(\"Eixo y\")\n",
    "plt.grid(True, alpha=0.5)\n",
    "plt.show()\n",
    "\n",
    "# dataset.tail()"
   ]
  }
 ],
 "metadata": {
  "kernelspec": {
   "display_name": "rna",
   "language": "python",
   "name": "python3"
  },
  "language_info": {
   "codemirror_mode": {
    "name": "ipython",
    "version": 3
   },
   "file_extension": ".py",
   "mimetype": "text/x-python",
   "name": "python",
   "nbconvert_exporter": "python",
   "pygments_lexer": "ipython3",
   "version": "3.8.20"
  }
 },
 "nbformat": 4,
 "nbformat_minor": 5
}
