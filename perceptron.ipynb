{
 "cells": [
  {
   "cell_type": "markdown",
   "id": "4e02addb",
   "metadata": {},
   "source": [
    "# Atividade: Perceptron\n",
    "\n",
    "**INSTITUTO FEDERAL DE MINAS GERAIS**\n",
    "\n",
    "*Departamento de Engenharia e Computação*   \n",
    "\n",
    "*Professor: Ciniro Nametala Leite*\n",
    "\n",
    "*Aluno: Luan Carlos dos Santos*\n",
    "\n",
    "---"
   ]
  },
  {
   "cell_type": "markdown",
   "id": "06e84c82",
   "metadata": {},
   "source": [
    "## Dependencias instaladas\n",
    "### **Perguntar pro Ciniro por que usando o conda install pygwalker é mais rapido do que o pip install pygwalker**"
   ]
  },
  {
   "cell_type": "code",
   "execution_count": 3,
   "id": "3f647004",
   "metadata": {},
   "outputs": [],
   "source": [
    "import numpy as np\n",
    "import pandas as pd\n",
    "import pygwalker as pyg\n",
    "import matplotlib.pyplot as plt\n",
    "from sklearn.metrics import confusion_matrix, classification_report\n",
    "import seaborn as sns\n",
    "import plotly.graph_objects as go\n",
    "\n"
   ]
  }
 ],
 "metadata": {
  "kernelspec": {
   "display_name": "rna",
   "language": "python",
   "name": "python3"
  },
  "language_info": {
   "codemirror_mode": {
    "name": "ipython",
    "version": 3
   },
   "file_extension": ".py",
   "mimetype": "text/x-python",
   "name": "python",
   "nbconvert_exporter": "python",
   "pygments_lexer": "ipython3",
   "version": "3.8.20"
  }
 },
 "nbformat": 4,
 "nbformat_minor": 5
}
