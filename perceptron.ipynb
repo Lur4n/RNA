{
 "cells": [
  {
   "cell_type": "markdown",
   "id": "4e02addb",
   "metadata": {},
   "source": [
    "# Atividade: Perceptron\n",
    "\n",
    "**INSTITUTO FEDERAL DE MINAS GERAIS**\n",
    "\n",
    "*Departamento de Engenharia e Computação*   \n",
    "\n",
    "*Professor: Ciniro Nametala Leite*\n",
    "\n",
    "*Aluno: Luan Carlos dos Santos*\n",
    "\n",
    "---"
   ]
  },
  {
   "cell_type": "markdown",
   "id": "06e84c82",
   "metadata": {},
   "source": [
    "## Dependencias instaladas\n",
    "### **Perguntar pro Ciniro por que usando o conda install pygwalker é mais rapido do que o pip install pygwalker**"
   ]
  },
  {
   "cell_type": "code",
   "execution_count": 1,
   "id": "3f647004",
   "metadata": {},
   "outputs": [],
   "source": [
    "#importação de pacotes\n",
    "import numpy as np\n",
    "import pandas as pd\n",
    "import pygwalker as pyg #exploração de dados crocante\n",
    "import matplotlib.pyplot as plt\n",
    "from sklearn.metrics import confusion_matrix, classification_report # machinelearning\n",
    "import seaborn as sns\n",
    "import plotly.graph_objects as go"
   ]
  },
  {
   "cell_type": "code",
   "execution_count": 2,
   "id": "82a0c2f2",
   "metadata": {},
   "outputs": [],
   "source": [
    "#funcoes\n",
    "#degrau bipolar\n",
    "def degrau_bipolar(u):\n",
    "   if u >= 0:\n",
    "      y = 1\n",
    "   else:\n",
    "      y = -1\n",
    "   return y\n",
    "\n",
    "#funcao que classifica a amostra com base na rede ja treinada\n",
    "def previsao(w, x):\n",
    "   u = np.dot(w.T, x)\n",
    "   yhat = degrau_bipolar(u)\n",
    "   return yhat"
   ]
  },
  {
   "cell_type": "code",
   "execution_count": 3,
   "id": "619b49d8",
   "metadata": {},
   "outputs": [],
   "source": [
    "#Passo 1: OBTER O CONJUNTO DE DADOS DE TREINAMENTO X\n",
    "\n",
    "#carregar a tabela de dados\n",
    "dados = pd.read_csv('data-sets/dataset_iris.csv', sep=';')\n",
    "\n",
    "#Analise exploratoria de dados\n",
    "# walker = pyg.walk(dados))"
   ]
  },
  {
   "cell_type": "code",
   "execution_count": 4,
   "id": "1755514d",
   "metadata": {},
   "outputs": [
    {
     "name": "stdout",
     "output_type": "stream",
     "text": [
      "30\n",
      "3\n",
      "[[-0.6508  0.1097  4.0009]\n",
      " [-1.4492  0.8896  4.4005]\n",
      " [ 2.085   0.6876 12.071 ]\n",
      " [ 0.2626  1.1476  7.7985]\n",
      " [ 0.6418  1.0234  7.0427]\n",
      " [ 0.2569  0.673   8.3265]\n",
      " [ 1.1155  0.6043  7.4446]\n",
      " [ 0.0914  0.3399  7.0677]\n",
      " [ 0.0121  0.5256  4.6316]\n",
      " [-0.0429  0.466   5.4323]\n",
      " [ 0.434   0.687   8.2287]\n",
      " [ 0.2735  1.0287  7.1934]\n",
      " [ 0.4839  0.4851  7.485 ]\n",
      " [ 0.4089 -0.1267  5.5019]\n",
      " [ 1.4391  0.1614  8.5843]\n",
      " [-0.9115 -0.1973  2.1962]\n",
      " [ 0.3654  1.0475  7.4858]\n",
      " [ 0.2144  0.7515  7.1699]\n",
      " [ 0.2013  1.0014  6.5489]\n",
      " [ 0.6483  0.2183  5.8991]\n",
      " [-0.1147  0.2242  7.2435]\n",
      " [-0.797   0.8795  3.8762]\n",
      " [-1.0625  0.6366  2.4707]\n",
      " [ 0.5307  0.1285  5.6883]\n",
      " [-1.22    0.7777  1.7252]\n",
      " [ 0.3957  0.1076  5.6623]\n",
      " [-0.1013  0.5989  7.1812]\n",
      " [ 2.4482  0.9455 11.2095]\n",
      " [ 2.0149  0.6192 10.9263]\n",
      " [ 0.2012  0.2611  5.4631]]\n"
     ]
    }
   ],
   "source": [
    "#quantidade de elementos na amostra\n",
    "n_amostras = dados.shape[0]\n",
    "print(n_amostras)\n",
    "\n",
    "#quantidade de variaveis de entrada (subtrair a coluna tipo)\n",
    "n_variaveis = dados.shape[1] -1\n",
    "print(n_variaveis)\n",
    "\n",
    "#separando os dadso contendo apenas as variáveis de entrada\n",
    "x = dados.iloc[:, 0:n_variaveis].values\n",
    "print(x)"
   ]
  },
  {
   "cell_type": "code",
   "execution_count": 5,
   "id": "d5e12333",
   "metadata": {},
   "outputs": [
    {
     "name": "stdout",
     "output_type": "stream",
     "text": [
      "[[-0.6508  0.1097  4.0009 -1.    ]\n",
      " [-1.4492  0.8896  4.4005 -1.    ]\n",
      " [ 2.085   0.6876 12.071  -1.    ]\n",
      " [ 0.2626  1.1476  7.7985 -1.    ]\n",
      " [ 0.6418  1.0234  7.0427 -1.    ]\n",
      " [ 0.2569  0.673   8.3265 -1.    ]\n",
      " [ 1.1155  0.6043  7.4446 -1.    ]\n",
      " [ 0.0914  0.3399  7.0677 -1.    ]\n",
      " [ 0.0121  0.5256  4.6316 -1.    ]\n",
      " [-0.0429  0.466   5.4323 -1.    ]\n",
      " [ 0.434   0.687   8.2287 -1.    ]\n",
      " [ 0.2735  1.0287  7.1934 -1.    ]\n",
      " [ 0.4839  0.4851  7.485  -1.    ]\n",
      " [ 0.4089 -0.1267  5.5019 -1.    ]\n",
      " [ 1.4391  0.1614  8.5843 -1.    ]\n",
      " [-0.9115 -0.1973  2.1962 -1.    ]\n",
      " [ 0.3654  1.0475  7.4858 -1.    ]\n",
      " [ 0.2144  0.7515  7.1699 -1.    ]\n",
      " [ 0.2013  1.0014  6.5489 -1.    ]\n",
      " [ 0.6483  0.2183  5.8991 -1.    ]\n",
      " [-0.1147  0.2242  7.2435 -1.    ]\n",
      " [-0.797   0.8795  3.8762 -1.    ]\n",
      " [-1.0625  0.6366  2.4707 -1.    ]\n",
      " [ 0.5307  0.1285  5.6883 -1.    ]\n",
      " [-1.22    0.7777  1.7252 -1.    ]\n",
      " [ 0.3957  0.1076  5.6623 -1.    ]\n",
      " [-0.1013  0.5989  7.1812 -1.    ]\n",
      " [ 2.4482  0.9455 11.2095 -1.    ]\n",
      " [ 2.0149  0.6192 10.9263 -1.    ]\n",
      " [ 0.2012  0.2611  5.4631 -1.    ]]\n"
     ]
    }
   ],
   "source": [
    "#inserindo bias\n",
    "bias = np.ones((n_amostras, 1)) * -1\n",
    "\n",
    "x = np.hstack((x, bias))\n",
    "\n",
    "print(x)"
   ]
  },
  {
   "cell_type": "code",
   "execution_count": 6,
   "id": "14b95ead",
   "metadata": {},
   "outputs": [
    {
     "name": "stdout",
     "output_type": "stream",
     "text": [
      "[-1. -1. -1.  1.  1. -1.  1. -1.  1.  1. -1.  1. -1. -1. -1. -1.  1.  1.\n",
      "  1.  1. -1.  1.  1.  1.  1. -1. -1.  1. -1.  1.]\n",
      "-1: 14\n",
      "-1: 30\n"
     ]
    }
   ],
   "source": [
    "#PASSO 2: do vetor de saida y, associar a saida esperada y para cada x\n",
    "y = dados.iloc[:, n_variaveis].values\n",
    "print(y)\n",
    "#contar quatas amostras de cada classe existem no dataset\n",
    "print(f\"-1: {(y == -1).sum()}\")\n",
    "print(f\"-1: {(x == -1).sum()}\")"
   ]
  },
  {
   "cell_type": "code",
   "execution_count": 7,
   "id": "f4e22a30",
   "metadata": {},
   "outputs": [
    {
     "name": "stdout",
     "output_type": "stream",
     "text": [
      "[ 0.24832255 -0.22306719  0.19602724 -0.2574868 ]\n"
     ]
    }
   ],
   "source": [
    "# inicializar o vetor de pesos w com valores aleatorios\n",
    "w = np.random.uniform(-1, 1, n_variaveis + 1)\n",
    "print(w)"
   ]
  },
  {
   "cell_type": "code",
   "execution_count": 8,
   "id": "04230c08",
   "metadata": {},
   "outputs": [],
   "source": [
    "#PASSO 4: DEFINIR A TAXA DE APRENDIZAGEM COM VALOR ENTRE 0 E 1\n",
    "#taxa de aprendizagem eta\n",
    "eta = 0.01\n",
    "\n",
    "#PASSO 5: CALCULAR O NUMERO DE AMOSTRAS EM X\n",
    "#ja foi feito e esta em n_amostras\n",
    "\n",
    "#PASSO 6: DEFINIR A TOLERÂNCIA AO ERRO - onde eu aceito que o resultado ta bom \n",
    "tolerancia = 0.01\n",
    "\n",
    "#PASSO 7: SETAR O ERRO INICIAL MAIOR QUE A TOLERANCIA\n",
    "erro_medio = tolerancia + 1 \n",
    "\n",
    "#PASSO 8: CRIAR O VETOR QUE IRA ARMAZENAR O ERRO DE TODAS AS EPOCAS, EPOCA A EPOCA\n",
    "erros_epocas = []\n",
    "\n",
    "#PASSO 9: INICIALIZA O CONTADOR DE EPOCAS\n",
    "epoca = 0\n",
    "\n",
    "#PASSO 10: DEFINE O MÁXIMO DE ÉPOCAS \n",
    "max_epocas = 160"
   ]
  },
  {
   "cell_type": "code",
   "execution_count": 9,
   "id": "508492a0",
   "metadata": {},
   "outputs": [
    {
     "name": "stdout",
     "output_type": "stream",
     "text": [
      "Época: 11\n"
     ]
    }
   ],
   "source": [
    "#PASSO 11 E 12: SETA OS CRITERIOS DE PARADA\n",
    "criterio_erro = True\n",
    "criterio_epoca = True\n",
    "\n",
    "#PASSO 13: ENQUANTO O ERRO FOR MAIOR QUE A TOLERANCIA E MAXEPOCAS NAO FOR ATINGIDO, CONTINUE O TREINO\n",
    "while criterio_erro and criterio_epoca:\n",
    "   #PASSO 14: SETA O ERRO DA EPOCA ATUAL COM ZERO NO INICIO DE CADA EPOCA\n",
    "   erro_atual = 0\n",
    "   \n",
    "   #PASSO 15: INCREMENTA O CONTADOR DE EPOCAS PARA SABER EM QUE ÉPOCA A RNA ESTA TREINANDO\n",
    "   epoca += 1\n",
    "   \n",
    "   #PASSO 16: EMBARALHA OS INDICES PARA BUSCAR AMOSTRAS ALEATORIAMENTE NO CONJUNTO X\n",
    "   indices_embaralhados = np.random.permutation(n_amostras) \n",
    "   \n",
    "   #PASSO 17: PARA CADA AMOSTRA NO CONJUNTO X FAÇA\n",
    "   for i in range(n_amostras):\n",
    "      #captura o indice da amostra atual a ser apresentada da RNA\n",
    "      indice_amostra = indices_embaralhados[i]\n",
    "      \n",
    "      #captura a amostra atual a ser apresentada a RNA\n",
    "      xi_amostra = x[indice_amostra, :]\n",
    "      \n",
    "      #PASSO 18: CALCULA O POTENCIAL DE ATIVAÇÃO U\n",
    "      u = np.dot(w.T, xi_amostra)\n",
    "      \n",
    "      #PASSO 19: CALCULA A SAÍDA PREVISTA COM BASE NA FUNCAO DE ATIVAÇAO\n",
    "      yhat = degrau_bipolar(u)\n",
    "      \n",
    "      #PASSO 20: CALCULA O ERRO ENTRE O VALOR ESPERADO E O VALOR PREVISTO\n",
    "      e = y[indice_amostra] - yhat\n",
    "      \n",
    "      #PASSO 21: ATUALIZA OS PESOS APLICANDO A REGRA DE HEBB\n",
    "      w = w + ((eta * e) * xi_amostra)\n",
    "      \n",
    "      #PASSO 22: ACUMULADOR DE ERROS DE TODAS AS AMOSTRAS\n",
    "      erro_atual = erro_atual + np.abs(e)\n",
    "   \n",
    "   #PASSO 23: CALCULA O ERRO MEDIO DA EPOCA\n",
    "   erro_medio = erro_atual/n_amostras\n",
    "   \n",
    "   #PASSO 24: ARMAZENA O ERRO MEDIO DA EPOCA ATUAL NO VETOR DE ERROS DE TODAS AS EPOCAS\n",
    "   erros_epocas.append(erro_medio)\n",
    "   \n",
    "   #PASSO 25 E 26: VERIFICA E ATUALIZA OS CRITERIOS DE PARADA\n",
    "   criterio_erro = (erro_medio > tolerancia)\n",
    "   criterio_epoca = (epoca < max_epocas)  \n",
    "print(f'Época: {epoca}')"
   ]
  },
  {
   "cell_type": "code",
   "execution_count": 10,
   "id": "5fbd5786",
   "metadata": {},
   "outputs": [
    {
     "data": {
      "image/png": "[encoded data removed]",
      "text/plain": [
       "<Figure size 400x400 with 1 Axes>"
      ]
     },
     "metadata": {},
     "output_type": "display_data"
    }
   ],
   "source": [
    "#PLOTANDO A CONVERGENCIA DO ALGORITMO COM BASE NO ERRO EPOCA A EPOCA\n",
    "plt.figure(figsize=(4,4))\n",
    "plt.plot((erros_epocas[:max_epocas]))\n",
    "plt.title('Gráfico de Convergência')\n",
    "plt.xlabel('Número de Épocas')\n",
    "plt.ylabel('Convergência do Erro')\n",
    "plt.grid(True)"
   ]
  },
  {
   "cell_type": "markdown",
   "id": "e415a720",
   "metadata": {},
   "source": [
    "## IMPLEMENTAÇÃO DO PERCEPTRON"
   ]
  },
  {
   "cell_type": "code",
   "execution_count": 11,
   "id": "9e31cde4",
   "metadata": {},
   "outputs": [
    {
     "name": "stdout",
     "output_type": "stream",
     "text": [
      "Conjunto ideal de pesos w*\n",
      "[ 0.19094455  0.32391481 -0.08851276 -0.3774868 ]\n",
      "Quantidade de épocas até convergir\n",
      "11\n"
     ]
    }
   ],
   "source": [
    "#exibindo os pesos calibrados pela regra Regra de Hebb\n",
    "print('Conjunto ideal de pesos w*')\n",
    "print(w)\n",
    "print('Quantidade de épocas até convergir')\n",
    "print(epoca)"
   ]
  },
  {
   "cell_type": "code",
   "execution_count": 12,
   "id": "8b7d7ce5",
   "metadata": {},
   "outputs": [
    {
     "name": "stdout",
     "output_type": "stream",
     "text": [
      "[-1. -1. -1.  1.  1. -1.  1. -1.  1.  1. -1.  1. -1. -1. -1. -1.  1.  1.\n",
      "  1.  1. -1.  1.  1.  1.  1. -1. -1.  1. -1.  1.]\n"
     ]
    }
   ],
   "source": [
    "#cria um vetor para receber todas a previsões realizadas pela rna\n",
    "yhat = np.zeros(n_amostras)\n",
    "\n",
    "#armazenar todas a previsoes uma para cada amostras\n",
    "for i in range(n_amostras):\n",
    "   yhat[i] = previsao(w, x[i,:])\n",
    "   \n",
    "print(yhat)"
   ]
  },
  {
   "cell_type": "markdown",
   "id": "68d09ee6",
   "metadata": {},
   "source": [
    "## ANÁLISE DA QUALIDADE DE CLASSIFICAÇÃO"
   ]
  },
  {
   "cell_type": "code",
   "execution_count": 13,
   "id": "8ea39550",
   "metadata": {},
   "outputs": [
    {
     "name": "stdout",
     "output_type": "stream",
     "text": [
      "Matriz de Confusão\n",
      "[[14  0]\n",
      " [ 0 16]]\n"
     ]
    },
    {
     "data": {
      "image/png": "[encoded data removed]",
      "text/plain": [
       "<Figure size 400x300 with 2 Axes>"
      ]
     },
     "metadata": {},
     "output_type": "display_data"
    }
   ],
   "source": [
    "#converter -1 em 0 para melhor visualizar a matriz de confusão\n",
    "yhat_display = np.where(yhat == -1, 0, yhat)\n",
    "y_display = np.where(y == -1, 0, yhat)\n",
    "\n",
    "#gera a matriz de confusão\n",
    "cm = confusion_matrix(y_display, yhat_display)\n",
    "print(\"Matriz de Confusão\")\n",
    "print(cm)\n",
    "\n",
    "#plotar matriz de confusão crocante\n",
    "plt.figure(figsize=(4, 3))\n",
    "sns.heatmap(cm, annot=True, fmt='d', cmap='Blues',\n",
    "            xticklabels=['Setosa', 'Versicolor'],\n",
    "            yticklabels=['Setosa', 'Versicolor'])\n",
    "plt.title('Matriz de Confusão')\n",
    "plt.xlabel('Valor Predito')\n",
    "plt.ylabel('Valor Real')\n",
    "plt.show()\n"
   ]
  },
  {
   "cell_type": "code",
   "execution_count": 14,
   "id": "97a5b17a",
   "metadata": {},
   "outputs": [
    {
     "name": "stdout",
     "output_type": "stream",
     "text": [
      "100.0\n"
     ]
    }
   ],
   "source": [
    "#calculo acuracia\n",
    "\n",
    "acuracia = (np.sum(yhat == y) / n_amostras) * 100\n",
    "print(acuracia)"
   ]
  },
  {
   "cell_type": "code",
   "execution_count": 15,
   "id": "740a1969",
   "metadata": {},
   "outputs": [
    {
     "data": {
      "image/png": "[encoded data removed]",
      "text/plain": [
       "<Figure size 400x400 with 1 Axes>"
      ]
     },
     "metadata": {},
     "output_type": "display_data"
    }
   ],
   "source": [
    "if cm.shape == (2, 2):\n",
    "   resultado = [cm[0, 0], cm[0, 1], cm[1, 1], cm[1, 0]]\n",
    "   labels = ['VV', 'VS', 'SS', 'SV']\n",
    "   colors = ['green', 'red', 'green', 'red']\n",
    "   \n",
    "   plt.figure(figsize=(4, 4))\n",
    "   plt.bar(labels, resultado, color=colors)\n",
    "   plt.xlabel('Previsões')\n",
    "   plt.ylabel('Quantidade')\n",
    "   plt.title('Resultado das Classificações')\n",
    "   plt.ylim(0, 20)\n",
    "   for i, v in enumerate(resultado):\n",
    "      plt.text(i, v + 0.2, str(v), ha='center')\n",
    "   plt.show()"
   ]
  },
  {
   "cell_type": "code",
   "execution_count": 16,
   "id": "79a53a52",
   "metadata": {},
   "outputs": [
    {
     "data": {
      "application/vnd.plotly.v1+json": {
       "config": {
        "plotlyServerURL": "https://plot.ly"
       },
       "data": [
        {
         "colorscale": [
          [
           0,
           "rgb(0, 0, 0)"
          ],
          [
           0.09090909090909091,
           "rgb(16, 16, 16)"
          ],
          [
           0.18181818181818182,
           "rgb(38, 38, 38)"
          ],
          [
           0.2727272727272727,
           "rgb(59, 59, 59)"
          ],
          [
           0.36363636363636365,
           "rgb(81, 80, 80)"
          ],
          [
           0.45454545454545453,
           "rgb(102, 101, 101)"
          ],
          [
           0.5454545454545454,
           "rgb(124, 123, 122)"
          ],
          [
           0.6363636363636364,
           "rgb(146, 146, 145)"
          ],
          [
           0.7272727272727273,
           "rgb(171, 171, 170)"
          ],
          [
           0.8181818181818182,
           "rgb(197, 197, 195)"
          ],
          [
           0.9090909090909091,
           "rgb(224, 224, 223)"
          ],
          [
           1,
           "rgb(254, 254, 253)"
          ]
         ],
         "name": "Hiperplano",
         "opacity": 0.3,
         "showscale": false,
         "type": "surface",
         "x": [
          [
           -1.9492,
           -1.6914421052631579,
           -1.433684210526316,
           -1.1759263157894737,
           -0.9181684210526315,
           -0.6604105263157893,
           -0.4026526315789474,
           -0.1448947368421052,
           0.112863157894737,
           0.3706210526315792,
           0.6283789473684214,
           0.8861368421052636,
           1.1438947368421053,
           1.4016526315789475,
           1.6594105263157897,
           1.9171684210526319,
           2.174926315789474,
           2.4326842105263156,
           2.690442105263158,
           2.9482
          ],
          [
           -1.9492,
           -1.6914421052631579,
           -1.433684210526316,
           -1.1759263157894737,
           -0.9181684210526315,
           -0.6604105263157893,
           -0.4026526315789474,
           -0.1448947368421052,
           0.112863157894737,
           0.3706210526315792,
           0.6283789473684214,
           0.8861368421052636,
           1.1438947368421053,
           1.4016526315789475,
           1.6594105263157897,
           1.9171684210526319,
           2.174926315789474,
           2.4326842105263156,
           2.690442105263158,
           2.9482
          ],
          [
           -1.9492,
           -1.6914421052631579,
           -1.433684210526316,
           -1.1759263157894737,
           -0.9181684210526315,
           -0.6604105263157893,
           -0.4026526315789474,
           -0.1448947368421052,
           0.112863157894737,
           0.3706210526315792,
           0.6283789473684214,
           0.8861368421052636,
           1.1438947368421053,
           1.4016526315789475,
           1.6594105263157897,
           1.9171684210526319,
           2.174926315789474,
           2.4326842105263156,
           2.690442105263158,
           2.9482
          ],
          [
           -1.9492,
           -1.6914421052631579,
           -1.433684210526316,
           -1.1759263157894737,
           -0.9181684210526315,
           -0.6604105263157893,
           -0.4026526315789474,
           -0.1448947368421052,
           0.112863157894737,
           0.3706210526315792,
           0.6283789473684214,
           0.8861368421052636,
           1.1438947368421053,
           1.4016526315789475,
           1.6594105263157897,
           1.9171684210526319,
           2.174926315789474,
           2.4326842105263156,
           2.690442105263158,
           2.9482
          ],
          [
           -1.9492,
           -1.6914421052631579,
           -1.433684210526316,
           -1.1759263157894737,
           -0.9181684210526315,
           -0.6604105263157893,
           -0.4026526315789474,
           -0.1448947368421052,
           0.112863157894737,
           0.3706210526315792,
           0.6283789473684214,
           0.8861368421052636,
           1.1438947368421053,
           1.4016526315789475,
           1.6594105263157897,
           1.9171684210526319,
           2.174926315789474,
           2.4326842105263156,
           2.690442105263158,
           2.9482
          ],
          [
           -1.9492,
           -1.6914421052631579,
           -1.433684210526316,
           -1.1759263157894737,
           -0.9181684210526315,
           -0.6604105263157893,
           -0.4026526315789474,
           -0.1448947368421052,
           0.112863157894737,
           0.3706210526315792,
           0.6283789473684214,
           0.8861368421052636,
           1.1438947368421053,
           1.4016526315789475,
           1.6594105263157897,
           1.9171684210526319,
           2.174926315789474,
           2.4326842105263156,
           2.690442105263158,
           2.9482
          ],
          [
           -1.9492,
           -1.6914421052631579,
           -1.433684210526316,
           -1.1759263157894737,
           -0.9181684210526315,
           -0.6604105263157893,
           -0.4026526315789474,
           -0.1448947368421052,
           0.112863157894737,
           0.3706210526315792,
           0.6283789473684214,
           0.8861368421052636,
           1.1438947368421053,
           1.4016526315789475,
           1.6594105263157897,
           1.9171684210526319,
           2.174926315789474,
           2.4326842105263156,
           2.690442105263158,
           2.9482
          ],
          [
           -1.9492,
           -1.6914421052631579,
           -1.433684210526316,
           -1.1759263157894737,
           -0.9181684210526315,
           -0.6604105263157893,
           -0.4026526315789474,
           -0.1448947368421052,
           0.112863157894737,
           0.3706210526315792,
           0.6283789473684214,
           0.8861368421052636,
           1.1438947368421053,
           1.4016526315789475,
           1.6594105263157897,
           1.9171684210526319,
           2.174926315789474,
           2.4326842105263156,
           2.690442105263158,
           2.9482
          ],
          [
           -1.9492,
           -1.6914421052631579,
           -1.433684210526316,
           -1.1759263157894737,
           -0.9181684210526315,
           -0.6604105263157893,
           -0.4026526315789474,
           -0.1448947368421052,
           0.112863157894737,
           0.3706210526315792,
           0.6283789473684214,
           0.8861368421052636,
           1.1438947368421053,
           1.4016526315789475,
           1.6594105263157897,
           1.9171684210526319,
           2.174926315789474,
           2.4326842105263156,
           2.690442105263158,
           2.9482
          ],
          [
           -1.9492,
           -1.6914421052631579,
           -1.433684210526316,
           -1.1759263157894737,
           -0.9181684210526315,
           -0.6604105263157893,
           -0.4026526315789474,
           -0.1448947368421052,
           0.112863157894737,
           0.3706210526315792,
           0.6283789473684214,
           0.8861368421052636,
           1.1438947368421053,
           1.4016526315789475,
           1.6594105263157897,
           1.9171684210526319,
           2.174926315789474,
           2.4326842105263156,
           2.690442105263158,
           2.9482
          ],
          [
           -1.9492,
           -1.6914421052631579,
           -1.433684210526316,
           -1.1759263157894737,
           -0.9181684210526315,
           -0.6604105263157893,
           -0.4026526315789474,
           -0.1448947368421052,
           0.112863157894737,
           0.3706210526315792,
           0.6283789473684214,
           0.8861368421052636,
           1.1438947368421053,
           1.4016526315789475,
           1.6594105263157897,
           1.9171684210526319,
           2.174926315789474,
           2.4326842105263156,
           2.690442105263158,
           2.9482
          ],
          [
           -1.9492,
           -1.6914421052631579,
           -1.433684210526316,
           -1.1759263157894737,
           -0.9181684210526315,
           -0.6604105263157893,
           -0.4026526315789474,
           -0.1448947368421052,
           0.112863157894737,
           0.3706210526315792,
           0.6283789473684214,
           0.8861368421052636,
           1.1438947368421053,
           1.4016526315789475,
           1.6594105263157897,
           1.9171684210526319,
           2.174926315789474,
           2.4326842105263156,
           2.690442105263158,
           2.9482
          ],
          [
           -1.9492,
           -1.6914421052631579,
           -1.433684210526316,
           -1.1759263157894737,
           -0.9181684210526315,
           -0.6604105263157893,
           -0.4026526315789474,
           -0.1448947368421052,
           0.112863157894737,
           0.3706210526315792,
           0.6283789473684214,
           0.8861368421052636,
           1.1438947368421053,
           1.4016526315789475,
           1.6594105263157897,
           1.9171684210526319,
           2.174926315789474,
           2.4326842105263156,
           2.690442105263158,
           2.9482
          ],
          [
           -1.9492,
           -1.6914421052631579,
           -1.433684210526316,
           -1.1759263157894737,
           -0.9181684210526315,
           -0.6604105263157893,
           -0.4026526315789474,
           -0.1448947368421052,
           0.112863157894737,
           0.3706210526315792,
           0.6283789473684214,
           0.8861368421052636,
           1.1438947368421053,
           1.4016526315789475,
           1.6594105263157897,
           1.9171684210526319,
           2.174926315789474,
           2.4326842105263156,
           2.690442105263158,
           2.9482
          ],
          [
           -1.9492,
           -1.6914421052631579,
           -1.433684210526316,
           -1.1759263157894737,
           -0.9181684210526315,
           -0.6604105263157893,
           -0.4026526315789474,
           -0.1448947368421052,
           0.112863157894737,
           0.3706210526315792,
           0.6283789473684214,
           0.8861368421052636,
           1.1438947368421053,
           1.4016526315789475,
           1.6594105263157897,
           1.9171684210526319,
           2.174926315789474,
           2.4326842105263156,
           2.690442105263158,
           2.9482
          ],
          [
           -1.9492,
           -1.6914421052631579,
           -1.433684210526316,
           -1.1759263157894737,
           -0.9181684210526315,
           -0.6604105263157893,
           -0.4026526315789474,
           -0.1448947368421052,
           0.112863157894737,
           0.3706210526315792,
           0.6283789473684214,
           0.8861368421052636,
           1.1438947368421053,
           1.4016526315789475,
           1.6594105263157897,
           1.9171684210526319,
           2.174926315789474,
           2.4326842105263156,
           2.690442105263158,
           2.9482
          ],
          [
           -1.9492,
           -1.6914421052631579,
           -1.433684210526316,
           -1.1759263157894737,
           -0.9181684210526315,
           -0.6604105263157893,
           -0.4026526315789474,
           -0.1448947368421052,
           0.112863157894737,
           0.3706210526315792,
           0.6283789473684214,
           0.8861368421052636,
           1.1438947368421053,
           1.4016526315789475,
           1.6594105263157897,
           1.9171684210526319,
           2.174926315789474,
           2.4326842105263156,
           2.690442105263158,
           2.9482
          ],
          [
           -1.9492,
           -1.6914421052631579,
           -1.433684210526316,
           -1.1759263157894737,
           -0.9181684210526315,
           -0.6604105263157893,
           -0.4026526315789474,
           -0.1448947368421052,
           0.112863157894737,
           0.3706210526315792,
           0.6283789473684214,
           0.8861368421052636,
           1.1438947368421053,
           1.4016526315789475,
           1.6594105263157897,
           1.9171684210526319,
           2.174926315789474,
           2.4326842105263156,
           2.690442105263158,
           2.9482
          ],
          [
           -1.9492,
           -1.6914421052631579,
           -1.433684210526316,
           -1.1759263157894737,
           -0.9181684210526315,
           -0.6604105263157893,
           -0.4026526315789474,
           -0.1448947368421052,
           0.112863157894737,
           0.3706210526315792,
           0.6283789473684214,
           0.8861368421052636,
           1.1438947368421053,
           1.4016526315789475,
           1.6594105263157897,
           1.9171684210526319,
           2.174926315789474,
           2.4326842105263156,
           2.690442105263158,
           2.9482
          ],
          [
           -1.9492,
           -1.6914421052631579,
           -1.433684210526316,
           -1.1759263157894737,
           -0.9181684210526315,
           -0.6604105263157893,
           -0.4026526315789474,
           -0.1448947368421052,
           0.112863157894737,
           0.3706210526315792,
           0.6283789473684214,
           0.8861368421052636,
           1.1438947368421053,
           1.4016526315789475,
           1.6594105263157897,
           1.9171684210526319,
           2.174926315789474,
           2.4326842105263156,
           2.690442105263158,
           2.9482
          ]
         ],
         "y": [
          [
           -0.6973,
           -0.6973,
           -0.6973,
           -0.6973,
           -0.6973,
           -0.6973,
           -0.6973,
           -0.6973,
           -0.6973,
           -0.6973,
           -0.6973,
           -0.6973,
           -0.6973,
           -0.6973,
           -0.6973,
           -0.6973,
           -0.6973,
           -0.6973,
           -0.6973,
           -0.6973
          ],
          [
           -0.5738842105263158,
           -0.5738842105263158,
           -0.5738842105263158,
           -0.5738842105263158,
           -0.5738842105263158,
           -0.5738842105263158,
           -0.5738842105263158,
           -0.5738842105263158,
           -0.5738842105263158,
           -0.5738842105263158,
           -0.5738842105263158,
           -0.5738842105263158,
           -0.5738842105263158,
           -0.5738842105263158,
           -0.5738842105263158,
           -0.5738842105263158,
           -0.5738842105263158,
           -0.5738842105263158,
           -0.5738842105263158,
           -0.5738842105263158
          ],
          [
           -0.45046842105263163,
           -0.45046842105263163,
           -0.45046842105263163,
           -0.45046842105263163,
           -0.45046842105263163,
           -0.45046842105263163,
           -0.45046842105263163,
           -0.45046842105263163,
           -0.45046842105263163,
           -0.45046842105263163,
           -0.45046842105263163,
           -0.45046842105263163,
           -0.45046842105263163,
           -0.45046842105263163,
           -0.45046842105263163,
           -0.45046842105263163,
           -0.45046842105263163,
           -0.45046842105263163,
           -0.45046842105263163,
           -0.45046842105263163
          ],
          [
           -0.3270526315789474,
           -0.3270526315789474,
           -0.3270526315789474,
           -0.3270526315789474,
           -0.3270526315789474,
           -0.3270526315789474,
           -0.3270526315789474,
           -0.3270526315789474,
           -0.3270526315789474,
           -0.3270526315789474,
           -0.3270526315789474,
           -0.3270526315789474,
           -0.3270526315789474,
           -0.3270526315789474,
           -0.3270526315789474,
           -0.3270526315789474,
           -0.3270526315789474,
           -0.3270526315789474,
           -0.3270526315789474,
           -0.3270526315789474
          ],
          [
           -0.20363684210526317,
           -0.20363684210526317,
           -0.20363684210526317,
           -0.20363684210526317,
           -0.20363684210526317,
           -0.20363684210526317,
           -0.20363684210526317,
           -0.20363684210526317,
           -0.20363684210526317,
           -0.20363684210526317,
           -0.20363684210526317,
           -0.20363684210526317,
           -0.20363684210526317,
           -0.20363684210526317,
           -0.20363684210526317,
           -0.20363684210526317,
           -0.20363684210526317,
           -0.20363684210526317,
           -0.20363684210526317,
           -0.20363684210526317
          ],
          [
           -0.08022105263157897,
           -0.08022105263157897,
           -0.08022105263157897,
           -0.08022105263157897,
           -0.08022105263157897,
           -0.08022105263157897,
           -0.08022105263157897,
           -0.08022105263157897,
           -0.08022105263157897,
           -0.08022105263157897,
           -0.08022105263157897,
           -0.08022105263157897,
           -0.08022105263157897,
           -0.08022105263157897,
           -0.08022105263157897,
           -0.08022105263157897,
           -0.08022105263157897,
           -0.08022105263157897,
           -0.08022105263157897,
           -0.08022105263157897
          ],
          [
           0.043194736842105286,
           0.043194736842105286,
           0.043194736842105286,
           0.043194736842105286,
           0.043194736842105286,
           0.043194736842105286,
           0.043194736842105286,
           0.043194736842105286,
           0.043194736842105286,
           0.043194736842105286,
           0.043194736842105286,
           0.043194736842105286,
           0.043194736842105286,
           0.043194736842105286,
           0.043194736842105286,
           0.043194736842105286,
           0.043194736842105286,
           0.043194736842105286,
           0.043194736842105286,
           0.043194736842105286
          ],
          [
           0.16661052631578943,
           0.16661052631578943,
           0.16661052631578943,
           0.16661052631578943,
           0.16661052631578943,
           0.16661052631578943,
           0.16661052631578943,
           0.16661052631578943,
           0.16661052631578943,
           0.16661052631578943,
           0.16661052631578943,
           0.16661052631578943,
           0.16661052631578943,
           0.16661052631578943,
           0.16661052631578943,
           0.16661052631578943,
           0.16661052631578943,
           0.16661052631578943,
           0.16661052631578943,
           0.16661052631578943
          ],
          [
           0.2900263157894737,
           0.2900263157894737,
           0.2900263157894737,
           0.2900263157894737,
           0.2900263157894737,
           0.2900263157894737,
           0.2900263157894737,
           0.2900263157894737,
           0.2900263157894737,
           0.2900263157894737,
           0.2900263157894737,
           0.2900263157894737,
           0.2900263157894737,
           0.2900263157894737,
           0.2900263157894737,
           0.2900263157894737,
           0.2900263157894737,
           0.2900263157894737,
           0.2900263157894737,
           0.2900263157894737
          ],
          [
           0.41344210526315783,
           0.41344210526315783,
           0.41344210526315783,
           0.41344210526315783,
           0.41344210526315783,
           0.41344210526315783,
           0.41344210526315783,
           0.41344210526315783,
           0.41344210526315783,
           0.41344210526315783,
           0.41344210526315783,
           0.41344210526315783,
           0.41344210526315783,
           0.41344210526315783,
           0.41344210526315783,
           0.41344210526315783,
           0.41344210526315783,
           0.41344210526315783,
           0.41344210526315783,
           0.41344210526315783
          ],
          [
           0.5368578947368421,
           0.5368578947368421,
           0.5368578947368421,
           0.5368578947368421,
           0.5368578947368421,
           0.5368578947368421,
           0.5368578947368421,
           0.5368578947368421,
           0.5368578947368421,
           0.5368578947368421,
           0.5368578947368421,
           0.5368578947368421,
           0.5368578947368421,
           0.5368578947368421,
           0.5368578947368421,
           0.5368578947368421,
           0.5368578947368421,
           0.5368578947368421,
           0.5368578947368421,
           0.5368578947368421
          ],
          [
           0.6602736842105263,
           0.6602736842105263,
           0.6602736842105263,
           0.6602736842105263,
           0.6602736842105263,
           0.6602736842105263,
           0.6602736842105263,
           0.6602736842105263,
           0.6602736842105263,
           0.6602736842105263,
           0.6602736842105263,
           0.6602736842105263,
           0.6602736842105263,
           0.6602736842105263,
           0.6602736842105263,
           0.6602736842105263,
           0.6602736842105263,
           0.6602736842105263,
           0.6602736842105263,
           0.6602736842105263
          ],
          [
           0.7836894736842106,
           0.7836894736842106,
           0.7836894736842106,
           0.7836894736842106,
           0.7836894736842106,
           0.7836894736842106,
           0.7836894736842106,
           0.7836894736842106,
           0.7836894736842106,
           0.7836894736842106,
           0.7836894736842106,
           0.7836894736842106,
           0.7836894736842106,
           0.7836894736842106,
           0.7836894736842106,
           0.7836894736842106,
           0.7836894736842106,
           0.7836894736842106,
           0.7836894736842106,
           0.7836894736842106
          ],
          [
           0.9071052631578949,
           0.9071052631578949,
           0.9071052631578949,
           0.9071052631578949,
           0.9071052631578949,
           0.9071052631578949,
           0.9071052631578949,
           0.9071052631578949,
           0.9071052631578949,
           0.9071052631578949,
           0.9071052631578949,
           0.9071052631578949,
           0.9071052631578949,
           0.9071052631578949,
           0.9071052631578949,
           0.9071052631578949,
           0.9071052631578949,
           0.9071052631578949,
           0.9071052631578949,
           0.9071052631578949
          ],
          [
           1.030521052631579,
           1.030521052631579,
           1.030521052631579,
           1.030521052631579,
           1.030521052631579,
           1.030521052631579,
           1.030521052631579,
           1.030521052631579,
           1.030521052631579,
           1.030521052631579,
           1.030521052631579,
           1.030521052631579,
           1.030521052631579,
           1.030521052631579,
           1.030521052631579,
           1.030521052631579,
           1.030521052631579,
           1.030521052631579,
           1.030521052631579,
           1.030521052631579
          ],
          [
           1.1539368421052631,
           1.1539368421052631,
           1.1539368421052631,
           1.1539368421052631,
           1.1539368421052631,
           1.1539368421052631,
           1.1539368421052631,
           1.1539368421052631,
           1.1539368421052631,
           1.1539368421052631,
           1.1539368421052631,
           1.1539368421052631,
           1.1539368421052631,
           1.1539368421052631,
           1.1539368421052631,
           1.1539368421052631,
           1.1539368421052631,
           1.1539368421052631,
           1.1539368421052631,
           1.1539368421052631
          ],
          [
           1.2773526315789474,
           1.2773526315789474,
           1.2773526315789474,
           1.2773526315789474,
           1.2773526315789474,
           1.2773526315789474,
           1.2773526315789474,
           1.2773526315789474,
           1.2773526315789474,
           1.2773526315789474,
           1.2773526315789474,
           1.2773526315789474,
           1.2773526315789474,
           1.2773526315789474,
           1.2773526315789474,
           1.2773526315789474,
           1.2773526315789474,
           1.2773526315789474,
           1.2773526315789474,
           1.2773526315789474
          ],
          [
           1.4007684210526314,
           1.4007684210526314,
           1.4007684210526314,
           1.4007684210526314,
           1.4007684210526314,
           1.4007684210526314,
           1.4007684210526314,
           1.4007684210526314,
           1.4007684210526314,
           1.4007684210526314,
           1.4007684210526314,
           1.4007684210526314,
           1.4007684210526314,
           1.4007684210526314,
           1.4007684210526314,
           1.4007684210526314,
           1.4007684210526314,
           1.4007684210526314,
           1.4007684210526314,
           1.4007684210526314
          ],
          [
           1.5241842105263157,
           1.5241842105263157,
           1.5241842105263157,
           1.5241842105263157,
           1.5241842105263157,
           1.5241842105263157,
           1.5241842105263157,
           1.5241842105263157,
           1.5241842105263157,
           1.5241842105263157,
           1.5241842105263157,
           1.5241842105263157,
           1.5241842105263157,
           1.5241842105263157,
           1.5241842105263157,
           1.5241842105263157,
           1.5241842105263157,
           1.5241842105263157,
           1.5241842105263157,
           1.5241842105263157
          ],
          [
           1.6476,
           1.6476,
           1.6476,
           1.6476,
           1.6476,
           1.6476,
           1.6476,
           1.6476,
           1.6476,
           1.6476,
           1.6476,
           1.6476,
           1.6476,
           1.6476,
           1.6476,
           1.6476,
           1.6476,
           1.6476,
           1.6476,
           1.6476
          ]
         ],
         "z": [
          [
           -2.4919359084884727,
           -1.9358865044351299,
           -1.3798371003817869,
           -0.8237876963284444,
           -0.26773829227510204,
           0.288311111778241,
           0.8443605158315833,
           1.4004099198849265,
           1.956459323938269,
           2.512508727991612,
           3.068558132044955,
           3.624607536098298,
           4.180656940151639,
           4.736706344204983,
           5.292755748258324,
           5.848805152311668,
           6.40485455636501,
           6.960903960418352,
           7.5169533644716955,
           8.073002768525036
          ],
          [
           -2.0402925051661427,
           -1.4842431011127997,
           -0.928193697059458,
           -0.3721442930061149,
           0.1839051110472281,
           0.7399545151005705,
           1.2960039191539128,
           1.8520533232072558,
           2.4081027272605984,
           2.9641521313139414,
           3.5202015353672844,
           4.0762509394206266,
           4.632300343473968,
           5.188349747527312,
           5.744399151580654,
           6.300448555633998,
           6.856497959687339,
           7.412547363740681,
           7.9685967677940255,
           8.524646171847367
          ],
          [
           -1.5886491018438138,
           -1.0325996977904708,
           -0.4765502937371284,
           0.07949911031621394,
           0.635548514369557,
           1.1915979184229,
           1.7476473224762423,
           2.303696726529585,
           2.859746130582928,
           3.415795534636271,
           3.971844938689613,
           4.5278943427429565,
           5.083943746796298,
           5.639993150849641,
           6.196042554902983,
           6.752091958956326,
           7.308141363009668,
           7.86419076706301,
           8.420240171116355,
           8.976289575169696
          ],
          [
           -1.1370056985214843,
           -0.5809562944681413,
           -0.024906890414798953,
           0.531142513638544,
           1.0871919176918865,
           1.6432413217452295,
           2.199290725798572,
           2.7553401298519145,
           3.311389533905257,
           3.8674389379586,
           4.423488342011943,
           4.979537746065286,
           5.535587150118627,
           6.091636554171971,
           6.6476859582253125,
           7.203735362278657,
           7.7597847663319985,
           8.31583417038534,
           8.871883574438684,
           9.427932978492025
          ],
          [
           -0.6853622951991548,
           -0.12931289114581185,
           0.4267365129075305,
           0.9827859169608736,
           1.5388353210142158,
           2.094884725067559,
           2.6509341291209014,
           3.2069835331742436,
           3.7630329372275866,
           4.31908234128093,
           4.875131745334273,
           5.431181149387615,
           5.9872305534409564,
           6.543279957494301,
           7.0993293615476425,
           7.655378765600985,
           8.211428169654328,
           8.76747757370767,
           9.323526977761013,
           9.879576381814354
          ],
          [
           -0.23371889187682537,
           0.32233051217651765,
           0.87837991622986,
           1.434429320283203,
           1.9904787243365454,
           2.546528128389888,
           3.102577532443231,
           3.658626936496574,
           4.214676340549916,
           4.77072574460326,
           5.326775148656601,
           5.882824552709945,
           6.438873956763286,
           6.994923360816629,
           7.5509727648699725,
           8.107022168923313,
           8.663071572976657,
           9.219120977029998,
           9.775170381083342,
           10.331219785136685
          ],
          [
           0.21792451144550412,
           0.7739739154988471,
           1.3300233195521896,
           1.8860727236055326,
           2.4421221276588754,
           2.998171531712218,
           3.55422093576556,
           4.1102703398189036,
           4.666319743872246,
           5.222369147925589,
           5.778418551978931,
           6.334467956032275,
           6.890517360085616,
           7.446566764138958,
           8.0026161681923,
           8.558665572245644,
           9.114714976298986,
           9.670764380352328,
           10.226813784405673,
           10.782863188459014
          ],
          [
           0.6695679147678336,
           1.2256173188211765,
           1.7816667228745189,
           2.337716126927862,
           2.8937655309812045,
           3.4498149350345466,
           4.00586433908789,
           4.561913743141232,
           5.117963147194575,
           5.674012551247918,
           6.23006195530126,
           6.786111359354604,
           7.3421607634079455,
           7.898210167461288,
           8.45425957151463,
           9.010308975567975,
           9.566358379621317,
           10.122407783674658,
           10.678457187728,
           11.234506591781342
          ],
          [
           1.121211318090163,
           1.677260722143506,
           2.2333101261968484,
           2.7893595302501915,
           3.345408934303534,
           3.901458338356877,
           4.457507742410219,
           5.013557146463562,
           5.569606550516904,
           6.125655954570248,
           6.68170535862359,
           7.237754762676932,
           7.793804166730274,
           8.349853570783619,
           8.90590297483696,
           9.461952378890302,
           10.018001782943646,
           10.574051186996988,
           11.130100591050331,
           11.686149995103671
          ],
          [
           1.5728547214124922,
           2.1289041254658354,
           2.6849535295191775,
           3.2410029335725206,
           3.7970523376258627,
           4.353101741679206,
           4.909151145732548,
           5.465200549785891,
           6.0212499538392334,
           6.577299357892577,
           7.1333487619459195,
           7.689398165999263,
           8.245447570052605,
           8.801496974105948,
           9.35754637815929,
           9.913595782212631,
           10.469645186265975,
           11.025694590319317,
           11.58174399437266,
           12.137793398426002
          ],
          [
           2.024498124734822,
           2.580547528788165,
           3.1365969328415075,
           3.6926463368948497,
           4.248695740948193,
           4.804745145001536,
           5.360794549054878,
           5.916843953108221,
           6.472893357161563,
           7.028942761214907,
           7.584992165268249,
           8.141041569321592,
           8.697090973374934,
           9.253140377428275,
           9.809189781481619,
           10.365239185534962,
           10.921288589588304,
           11.477337993641646,
           12.03338739769499,
           12.589436801748331
          ],
          [
           2.4761415280571515,
           3.0321909321104945,
           3.588240336163837,
           4.14428974021718,
           4.700339144270522,
           5.256388548323865,
           5.812437952377207,
           6.368487356430551,
           6.9245367604838926,
           7.480586164537237,
           8.036635568590578,
           8.592684972643921,
           9.148734376697263,
           9.704783780750606,
           10.260833184803948,
           10.816882588857291,
           11.372931992910635,
           11.928981396963977,
           12.48503080101732,
           13.041080205070662
          ],
          [
           2.927784931379481,
           3.483834335432824,
           4.039883739486166,
           4.595933143539509,
           5.151982547592852,
           5.708031951646195,
           6.2640813556995365,
           6.82013075975288,
           7.3761801638062225,
           7.932229567859566,
           8.488278971912909,
           9.04432837596625,
           9.600377780019592,
           10.156427184072937,
           10.712476588126279,
           11.26852599217962,
           11.824575396232964,
           12.380624800286306,
           12.936674204339651,
           13.492723608392993
          ],
          [
           3.379428334701811,
           3.935477738755154,
           4.491527142808496,
           5.047576546861839,
           5.603625950915182,
           6.159675354968525,
           6.7157247590218665,
           7.27177416307521,
           7.8278235671285525,
           8.383872971181896,
           8.93992237523524,
           9.495971779288581,
           10.052021183341923,
           10.608070587395266,
           11.164119991448608,
           11.720169395501953,
           12.276218799555295,
           12.832268203608637,
           13.388317607661978,
           13.94436701171532
          ],
          [
           3.83107173802414,
           4.387121142077483,
           4.943170546130825,
           5.499219950184168,
           6.0552693542375104,
           6.611318758290854,
           7.1673681623441965,
           7.723417566397538,
           8.279466970450882,
           8.835516374504225,
           9.391565778557567,
           9.94761518261091,
           10.503664586664252,
           11.059713990717594,
           11.615763394770939,
           12.17181279882428,
           12.727862202877622,
           13.283911606930964,
           13.839961010984307,
           14.396010415037649
          ],
          [
           4.282715141346469,
           4.838764545399813,
           5.394813949453155,
           5.950863353506498,
           6.506912757559841,
           7.062962161613183,
           7.619011565666526,
           8.175060969719869,
           8.73111037377321,
           9.287159777826554,
           9.843209181879896,
           10.39925858593324,
           10.955307989986581,
           11.511357394039925,
           12.067406798093266,
           12.62345620214661,
           13.179505606199951,
           13.735555010253293,
           14.291604414306638,
           14.84765381835998
          ],
          [
           4.734358544668799,
           5.290407948722142,
           5.846457352775485,
           6.402506756828827,
           6.9585561608821696,
           7.514605564935513,
           8.070654968988855,
           8.626704373042198,
           9.18275377709554,
           9.738803181148883,
           10.294852585202227,
           10.850901989255568,
           11.40695139330891,
           11.963000797362254,
           12.519050201415595,
           13.07509960546894,
           13.631149009522282,
           14.187198413575624,
           14.743247817628966,
           15.299297221682307
          ],
          [
           5.1860019479911275,
           5.742051352044471,
           6.298100756097813,
           6.854150160151155,
           7.410199564204499,
           7.966248968257841,
           8.522298372311184,
           9.078347776364527,
           9.634397180417869,
           10.190446584471212,
           10.746495988524556,
           11.302545392577898,
           11.858594796631241,
           12.414644200684583,
           12.970693604737926,
           13.526743008791268,
           14.08279241284461,
           14.638841816897951,
           15.194891220951297,
           15.750940625004638
          ],
          [
           5.6376453513134575,
           6.193694755366801,
           6.749744159420143,
           7.305793563473486,
           7.861842967526829,
           8.417892371580171,
           8.973941775633513,
           9.529991179686856,
           10.086040583740198,
           10.642089987793542,
           11.198139391846885,
           11.754188795900228,
           12.31023819995357,
           12.866287604006912,
           13.422337008060254,
           13.978386412113599,
           14.53443581616694,
           15.090485220220282,
           15.646534624273626,
           16.202584028326967
          ],
          [
           6.089288754635787,
           6.64533815868913,
           7.201387562742473,
           7.757436966795814,
           8.313486370849157,
           8.8695357749025,
           9.425585178955842,
           9.981634583009185,
           10.537683987062529,
           11.09373339111587,
           11.649782795169214,
           12.205832199222556,
           12.761881603275897,
           13.317931007329243,
           13.873980411382584,
           14.430029815435928,
           14.98607921948927,
           15.542128623542611,
           16.098178027595953,
           16.654227431649296
          ]
         ]
        },
        {
         "marker": {
          "color": [
           "red",
           "red",
           "red",
           "blue",
           "blue",
           "red",
           "blue",
           "red",
           "blue",
           "blue",
           "red",
           "blue",
           "red",
           "red",
           "red",
           "red",
           "blue",
           "blue",
           "blue",
           "blue",
           "red",
           "blue",
           "blue",
           "blue",
           "blue",
           "red",
           "red",
           "blue",
           "red",
           "blue"
          ],
          "line": {
           "color": "white",
           "width": 1
          },
          "opacity": 0.8,
          "size": 8
         },
         "mode": "markers",
         "name": "Amostras",
         "type": "scatter3d",
         "x": [
          -0.6508,
          -1.4492,
          2.085,
          0.2626,
          0.6418,
          0.2569,
          1.1155,
          0.0914,
          0.0121,
          -0.0429,
          0.434,
          0.2735,
          0.4839,
          0.4089,
          1.4391,
          -0.9115,
          0.3654,
          0.2144,
          0.2013,
          0.6483,
          -0.1147,
          -0.797,
          -1.0625,
          0.5307,
          -1.22,
          0.3957,
          -0.1013,
          2.4482,
          2.0149,
          0.2012
         ],
         "y": [
          0.1097,
          0.8896,
          0.6876,
          1.1476,
          1.0234,
          0.673,
          0.6043,
          0.3399,
          0.5256,
          0.466,
          0.687,
          1.0287,
          0.4851,
          -0.1267,
          0.1614,
          -0.1973,
          1.0475,
          0.7515,
          1.0014,
          0.2183,
          0.2242,
          0.8795,
          0.6366,
          0.1285,
          0.7777,
          0.1076,
          0.5989,
          0.9455,
          0.6192,
          0.2611
         ],
         "z": [
          4.0009,
          4.4005,
          12.071,
          7.7985,
          7.0427,
          8.3265,
          7.4446,
          7.0677,
          4.6316,
          5.4323,
          8.2287,
          7.1934,
          7.485,
          5.5019,
          8.5843,
          2.1962,
          7.4858,
          7.1699,
          6.5489,
          5.8991,
          7.2435,
          3.8762,
          2.4707,
          5.6883,
          1.7252,
          5.6623,
          7.1812,
          11.2095,
          10.9263,
          5.4631
         ]
        }
       ],
       "layout": {
        "height": 600,
        "scene": {
         "xaxis": {
          "title": {
           "text": "x1"
          }
         },
         "yaxis": {
          "title": {
           "text": "x2"
          }
         },
         "zaxis": {
          "title": {
           "text": "x3"
          }
         }
        },
        "template": {
         "data": {
          "bar": [
           {
            "error_x": {
             "color": "#2a3f5f"
            },
            "error_y": {
             "color": "#2a3f5f"
            },
            "marker": {
             "line": {
              "color": "#E5ECF6",
              "width": 0.5
             },
             "pattern": {
              "fillmode": "overlay",
              "size": 10,
              "solidity": 0.2
             }
            },
            "type": "bar"
           }
          ],
          "barpolar": [
           {
            "marker": {
             "line": {
              "color": "#E5ECF6",
              "width": 0.5
             },
             "pattern": {
              "fillmode": "overlay",
              "size": 10,
              "solidity": 0.2
             }
            },
            "type": "barpolar"
           }
          ],
          "carpet": [
           {
            "aaxis": {
             "endlinecolor": "#2a3f5f",
             "gridcolor": "white",
             "linecolor": "white",
             "minorgridcolor": "white",
             "startlinecolor": "#2a3f5f"
            },
            "baxis": {
             "endlinecolor": "#2a3f5f",
             "gridcolor": "white",
             "linecolor": "white",
             "minorgridcolor": "white",
             "startlinecolor": "#2a3f5f"
            },
            "type": "carpet"
           }
          ],
          "choropleth": [
           {
            "colorbar": {
             "outlinewidth": 0,
             "ticks": ""
            },
            "type": "choropleth"
           }
          ],
          "contour": [
           {
            "colorbar": {
             "outlinewidth": 0,
             "ticks": ""
            },
            "colorscale": [
             [
              0,
              "#0d0887"
             ],
             [
              0.1111111111111111,
              "#46039f"
             ],
             [
              0.2222222222222222,
              "#7201a8"
             ],
             [
              0.3333333333333333,
              "#9c179e"
             ],
             [
              0.4444444444444444,
              "#bd3786"
             ],
             [
              0.5555555555555556,
              "#d8576b"
             ],
             [
              0.6666666666666666,
              "#ed7953"
             ],
             [
              0.7777777777777778,
              "#fb9f3a"
             ],
             [
              0.8888888888888888,
              "#fdca26"
             ],
             [
              1,
              "#f0f921"
             ]
            ],
            "type": "contour"
           }
          ],
          "contourcarpet": [
           {
            "colorbar": {
             "outlinewidth": 0,
             "ticks": ""
            },
            "type": "contourcarpet"
           }
          ],
          "heatmap": [
           {
            "colorbar": {
             "outlinewidth": 0,
             "ticks": ""
            },
            "colorscale": [
             [
              0,
              "#0d0887"
             ],
             [
              0.1111111111111111,
              "#46039f"
             ],
             [
              0.2222222222222222,
              "#7201a8"
             ],
             [
              0.3333333333333333,
              "#9c179e"
             ],
             [
              0.4444444444444444,
              "#bd3786"
             ],
             [
              0.5555555555555556,
              "#d8576b"
             ],
             [
              0.6666666666666666,
              "#ed7953"
             ],
             [
              0.7777777777777778,
              "#fb9f3a"
             ],
             [
              0.8888888888888888,
              "#fdca26"
             ],
             [
              1,
              "#f0f921"
             ]
            ],
            "type": "heatmap"
           }
          ],
          "heatmapgl": [
           {
            "colorbar": {
             "outlinewidth": 0,
             "ticks": ""
            },
            "colorscale": [
             [
              0,
              "#0d0887"
             ],
             [
              0.1111111111111111,
              "#46039f"
             ],
             [
              0.2222222222222222,
              "#7201a8"
             ],
             [
              0.3333333333333333,
              "#9c179e"
             ],
             [
              0.4444444444444444,
              "#bd3786"
             ],
             [
              0.5555555555555556,
              "#d8576b"
             ],
             [
              0.6666666666666666,
              "#ed7953"
             ],
             [
              0.7777777777777778,
              "#fb9f3a"
             ],
             [
              0.8888888888888888,
              "#fdca26"
             ],
             [
              1,
              "#f0f921"
             ]
            ],
            "type": "heatmapgl"
           }
          ],
          "histogram": [
           {
            "marker": {
             "pattern": {
              "fillmode": "overlay",
              "size": 10,
              "solidity": 0.2
             }
            },
            "type": "histogram"
           }
          ],
          "histogram2d": [
           {
            "colorbar": {
             "outlinewidth": 0,
             "ticks": ""
            },
            "colorscale": [
             [
              0,
              "#0d0887"
             ],
             [
              0.1111111111111111,
              "#46039f"
             ],
             [
              0.2222222222222222,
              "#7201a8"
             ],
             [
              0.3333333333333333,
              "#9c179e"
             ],
             [
              0.4444444444444444,
              "#bd3786"
             ],
             [
              0.5555555555555556,
              "#d8576b"
             ],
             [
              0.6666666666666666,
              "#ed7953"
             ],
             [
              0.7777777777777778,
              "#fb9f3a"
             ],
             [
              0.8888888888888888,
              "#fdca26"
             ],
             [
              1,
              "#f0f921"
             ]
            ],
            "type": "histogram2d"
           }
          ],
          "histogram2dcontour": [
           {
            "colorbar": {
             "outlinewidth": 0,
             "ticks": ""
            },
            "colorscale": [
             [
              0,
              "#0d0887"
             ],
             [
              0.1111111111111111,
              "#46039f"
             ],
             [
              0.2222222222222222,
              "#7201a8"
             ],
             [
              0.3333333333333333,
              "#9c179e"
             ],
             [
              0.4444444444444444,
              "#bd3786"
             ],
             [
              0.5555555555555556,
              "#d8576b"
             ],
             [
              0.6666666666666666,
              "#ed7953"
             ],
             [
              0.7777777777777778,
              "#fb9f3a"
             ],
             [
              0.8888888888888888,
              "#fdca26"
             ],
             [
              1,
              "#f0f921"
             ]
            ],
            "type": "histogram2dcontour"
           }
          ],
          "mesh3d": [
           {
            "colorbar": {
             "outlinewidth": 0,
             "ticks": ""
            },
            "type": "mesh3d"
           }
          ],
          "parcoords": [
           {
            "line": {
             "colorbar": {
              "outlinewidth": 0,
              "ticks": ""
             }
            },
            "type": "parcoords"
           }
          ],
          "pie": [
           {
            "automargin": true,
            "type": "pie"
           }
          ],
          "scatter": [
           {
            "fillpattern": {
             "fillmode": "overlay",
             "size": 10,
             "solidity": 0.2
            },
            "type": "scatter"
           }
          ],
          "scatter3d": [
           {
            "line": {
             "colorbar": {
              "outlinewidth": 0,
              "ticks": ""
             }
            },
            "marker": {
             "colorbar": {
              "outlinewidth": 0,
              "ticks": ""
             }
            },
            "type": "scatter3d"
           }
          ],
          "scattercarpet": [
           {
            "marker": {
             "colorbar": {
              "outlinewidth": 0,
              "ticks": ""
             }
            },
            "type": "scattercarpet"
           }
          ],
          "scattergeo": [
           {
            "marker": {
             "colorbar": {
              "outlinewidth": 0,
              "ticks": ""
             }
            },
            "type": "scattergeo"
           }
          ],
          "scattergl": [
           {
            "marker": {
             "colorbar": {
              "outlinewidth": 0,
              "ticks": ""
             }
            },
            "type": "scattergl"
           }
          ],
          "scattermapbox": [
           {
            "marker": {
             "colorbar": {
              "outlinewidth": 0,
              "ticks": ""
             }
            },
            "type": "scattermapbox"
           }
          ],
          "scatterpolar": [
           {
            "marker": {
             "colorbar": {
              "outlinewidth": 0,
              "ticks": ""
             }
            },
            "type": "scatterpolar"
           }
          ],
          "scatterpolargl": [
           {
            "marker": {
             "colorbar": {
              "outlinewidth": 0,
              "ticks": ""
             }
            },
            "type": "scatterpolargl"
           }
          ],
          "scatterternary": [
           {
            "marker": {
             "colorbar": {
              "outlinewidth": 0,
              "ticks": ""
             }
            },
            "type": "scatterternary"
           }
          ],
          "surface": [
           {
            "colorbar": {
             "outlinewidth": 0,
             "ticks": ""
            },
            "colorscale": [
             [
              0,
              "#0d0887"
             ],
             [
              0.1111111111111111,
              "#46039f"
             ],
             [
              0.2222222222222222,
              "#7201a8"
             ],
             [
              0.3333333333333333,
              "#9c179e"
             ],
             [
              0.4444444444444444,
              "#bd3786"
             ],
             [
              0.5555555555555556,
              "#d8576b"
             ],
             [
              0.6666666666666666,
              "#ed7953"
             ],
             [
              0.7777777777777778,
              "#fb9f3a"
             ],
             [
              0.8888888888888888,
              "#fdca26"
             ],
             [
              1,
              "#f0f921"
             ]
            ],
            "type": "surface"
           }
          ],
          "table": [
           {
            "cells": {
             "fill": {
              "color": "#EBF0F8"
             },
             "line": {
              "color": "white"
             }
            },
            "header": {
             "fill": {
              "color": "#C8D4E3"
             },
             "line": {
              "color": "white"
             }
            },
            "type": "table"
           }
          ]
         },
         "layout": {
          "annotationdefaults": {
           "arrowcolor": "#2a3f5f",
           "arrowhead": 0,
           "arrowwidth": 1
          },
          "autotypenumbers": "strict",
          "coloraxis": {
           "colorbar": {
            "outlinewidth": 0,
            "ticks": ""
           }
          },
          "colorscale": {
           "diverging": [
            [
             0,
             "#8e0152"
            ],
            [
             0.1,
             "#c51b7d"
            ],
            [
             0.2,
             "#de77ae"
            ],
            [
             0.3,
             "#f1b6da"
            ],
            [
             0.4,
             "#fde0ef"
            ],
            [
             0.5,
             "#f7f7f7"
            ],
            [
             0.6,
             "#e6f5d0"
            ],
            [
             0.7,
             "#b8e186"
            ],
            [
             0.8,
             "#7fbc41"
            ],
            [
             0.9,
             "#4d9221"
            ],
            [
             1,
             "#276419"
            ]
           ],
           "sequential": [
            [
             0,
             "#0d0887"
            ],
            [
             0.1111111111111111,
             "#46039f"
            ],
            [
             0.2222222222222222,
             "#7201a8"
            ],
            [
             0.3333333333333333,
             "#9c179e"
            ],
            [
             0.4444444444444444,
             "#bd3786"
            ],
            [
             0.5555555555555556,
             "#d8576b"
            ],
            [
             0.6666666666666666,
             "#ed7953"
            ],
            [
             0.7777777777777778,
             "#fb9f3a"
            ],
            [
             0.8888888888888888,
             "#fdca26"
            ],
            [
             1,
             "#f0f921"
            ]
           ],
           "sequentialminus": [
            [
             0,
             "#0d0887"
            ],
            [
             0.1111111111111111,
             "#46039f"
            ],
            [
             0.2222222222222222,
             "#7201a8"
            ],
            [
             0.3333333333333333,
             "#9c179e"
            ],
            [
             0.4444444444444444,
             "#bd3786"
            ],
            [
             0.5555555555555556,
             "#d8576b"
            ],
            [
             0.6666666666666666,
             "#ed7953"
            ],
            [
             0.7777777777777778,
             "#fb9f3a"
            ],
            [
             0.8888888888888888,
             "#fdca26"
            ],
            [
             1,
             "#f0f921"
            ]
           ]
          },
          "colorway": [
           "#636efa",
           "#EF553B",
           "#00cc96",
           "#ab63fa",
           "#FFA15A",
           "#19d3f3",
           "#FF6692",
           "#B6E880",
           "#FF97FF",
           "#FECB52"
          ],
          "font": {
           "color": "#2a3f5f"
          },
          "geo": {
           "bgcolor": "white",
           "lakecolor": "white",
           "landcolor": "#E5ECF6",
           "showlakes": true,
           "showland": true,
           "subunitcolor": "white"
          },
          "hoverlabel": {
           "align": "left"
          },
          "hovermode": "closest",
          "mapbox": {
           "style": "light"
          },
          "paper_bgcolor": "white",
          "plot_bgcolor": "#E5ECF6",
          "polar": {
           "angularaxis": {
            "gridcolor": "white",
            "linecolor": "white",
            "ticks": ""
           },
           "bgcolor": "#E5ECF6",
           "radialaxis": {
            "gridcolor": "white",
            "linecolor": "white",
            "ticks": ""
           }
          },
          "scene": {
           "xaxis": {
            "backgroundcolor": "#E5ECF6",
            "gridcolor": "white",
            "gridwidth": 2,
            "linecolor": "white",
            "showbackground": true,
            "ticks": "",
            "zerolinecolor": "white"
           },
           "yaxis": {
            "backgroundcolor": "#E5ECF6",
            "gridcolor": "white",
            "gridwidth": 2,
            "linecolor": "white",
            "showbackground": true,
            "ticks": "",
            "zerolinecolor": "white"
           },
           "zaxis": {
            "backgroundcolor": "#E5ECF6",
            "gridcolor": "white",
            "gridwidth": 2,
            "linecolor": "white",
            "showbackground": true,
            "ticks": "",
            "zerolinecolor": "white"
           }
          },
          "shapedefaults": {
           "line": {
            "color": "#2a3f5f"
           }
          },
          "ternary": {
           "aaxis": {
            "gridcolor": "white",
            "linecolor": "white",
            "ticks": ""
           },
           "baxis": {
            "gridcolor": "white",
            "linecolor": "white",
            "ticks": ""
           },
           "bgcolor": "#E5ECF6",
           "caxis": {
            "gridcolor": "white",
            "linecolor": "white",
            "ticks": ""
           }
          },
          "title": {
           "x": 0.05
          },
          "xaxis": {
           "automargin": true,
           "gridcolor": "white",
           "linecolor": "white",
           "ticks": "",
           "title": {
            "standoff": 15
           },
           "zerolinecolor": "white",
           "zerolinewidth": 2
          },
          "yaxis": {
           "automargin": true,
           "gridcolor": "white",
           "linecolor": "white",
           "ticks": "",
           "title": {
            "standoff": 15
           },
           "zerolinecolor": "white",
           "zerolinewidth": 2
          }
         }
        },
        "title": {
         "text": "Classificação"
        },
        "width": 800
       }
      }
     },
     "metadata": {},
     "output_type": "display_data"
    }
   ],
   "source": [
    "#criar grafico 3d interativo\n",
    "colors = ['red' if y == -1 else 'blue' for y in yhat]\n",
    "\n",
    "#criar malha para o hiperplano\n",
    "x1_range = np.linspace(x[:, 0].min() - 0.5, x[:, 0].max() + 0.5, 20)\n",
    "x2_range = np.linspace(x[:, 1].min() - 0.5, x[:, 1].max() + 0.5, 20)\n",
    "x1_grid, x2_grid = np.meshgrid(x1_range, x2_range)\n",
    "\n",
    "#calcular x3 para o hiperplano: w0*x1 + w1*x2 + w2*x3 + w3*(-1) = 0\n",
    "#x3 = (w0*x1 + w1*x2 - w3) / (-w2)\n",
    "x3_grid = (w[0] * x1_grid + w[1] * x2_grid - w[3]) / (-w[2])\n",
    "\n",
    "fig = go.Figure()\n",
    "\n",
    "#adicionar o hiperplano\n",
    "fig.add_trace(go.Surface(\n",
    "   x=x1_grid,\n",
    "   y=x2_grid,\n",
    "   z=x3_grid,\n",
    "   colorscale='gray',\n",
    "   opacity=0.3,\n",
    "   showscale=False,\n",
    "   name='Hiperplano'\n",
    "))\n",
    "\n",
    "#adicionar os pontos\n",
    "fig.add_trace(go.Scatter3d(\n",
    "   x=x[:, 0],\n",
    "   y=x[:, 1],\n",
    "   z=x[:, 2],\n",
    "   mode='markers',\n",
    "   marker=dict(\n",
    "      size=8,\n",
    "      color=colors,\n",
    "      opacity=0.8,\n",
    "      line=dict(width=1, color='white')\n",
    "   ),\n",
    "   name='Amostras'\n",
    "))\n",
    "\n",
    "fig.update_layout(\n",
    "   title='Classificação',\n",
    "   scene=dict(\n",
    "      xaxis_title='x1',\n",
    "      yaxis_title='x2',\n",
    "      zaxis_title='x3'\n",
    "   ),\n",
    "   width=800,\n",
    "   height=600\n",
    ")"
   ]
  }
 ],
 "metadata": {
  "kernelspec": {
   "display_name": "rna",
   "language": "python",
   "name": "python3"
  },
  "language_info": {
   "codemirror_mode": {
    "name": "ipython",
    "version": 3
   },
   "file_extension": ".py",
   "mimetype": "text/x-python",
   "name": "python",
   "nbconvert_exporter": "python",
   "pygments_lexer": "ipython3",
   "version": "3.8.20"
  }
 },
 "nbformat": 4,
 "nbformat_minor": 5
}
