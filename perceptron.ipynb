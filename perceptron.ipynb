{
 "cells": [
  {
   "cell_type": "markdown",
   "id": "4e02addb",
   "metadata": {},
   "source": [
    "# Atividade: Perceptron\n",
    "\n",
    "**INSTITUTO FEDERAL DE MINAS GERAIS**\n",
    "\n",
    "*Departamento de Engenharia e Computação*   \n",
    "\n",
    "*Professor: Ciniro Nametala Leite*\n",
    "\n",
    "*Aluno: Luan Carlos dos Santos*\n",
    "\n",
    "---"
   ]
  },
  {
   "cell_type": "markdown",
   "id": "06e84c82",
   "metadata": {},
   "source": [
    "## Dependencias instaladas\n",
    "### **Perguntar pro Ciniro por que usando o conda install pygwalker é mais rapido do que o pip install pygwalker**"
   ]
  },
  {
   "cell_type": "code",
   "execution_count": 42,
   "id": "3f647004",
   "metadata": {},
   "outputs": [],
   "source": [
    "#importação de pacotes\n",
    "import numpy as np\n",
    "import pandas as pd\n",
    "import pygwalker as pyg #exploração de dados crocante\n",
    "import matplotlib.pyplot as plt\n",
    "from sklearn.metrics import confusion_matrix, classification_report # machinelearning\n",
    "import seaborn as sns\n",
    "import plotly.graph_objects as go"
   ]
  },
  {
   "cell_type": "code",
   "execution_count": 43,
   "id": "82a0c2f2",
   "metadata": {},
   "outputs": [],
   "source": [
    "#funcoes\n",
    "#degrau bipolar\n",
    "def degrau_bipolar(u):\n",
    "   if u >= 0:\n",
    "      y = 1\n",
    "   else:\n",
    "      y = -1\n",
    "   return y\n",
    "\n",
    "#funcao que classifica a amostra com base na rede ja treinada\n",
    "def previsao(w, x):\n",
    "   u = np.dot(w.T, x)\n",
    "   yhat = degrau_bipolar(u)\n",
    "   return yhat"
   ]
  },
  {
   "cell_type": "code",
   "execution_count": 44,
   "id": "619b49d8",
   "metadata": {},
   "outputs": [],
   "source": [
    "#Passo 1: OBTER O CONJUNTO DE DADOS DE TREINAMENTO X\n",
    "\n",
    "#carregar a tabela de dados\n",
    "dados = pd.read_csv('data-sets/dataset_iris.csv', sep=';')\n",
    "\n",
    "#Analise exploratoria de dados\n",
    "# walker = pyg.walk(dados))"
   ]
  },
  {
   "cell_type": "code",
   "execution_count": null,
   "id": "1755514d",
   "metadata": {},
   "outputs": [
    {
     "name": "stdout",
     "output_type": "stream",
     "text": [
      "30\n",
      "3\n",
      "[[-0.6508  0.1097  4.0009]\n",
      " [-1.4492  0.8896  4.4005]\n",
      " [ 2.085   0.6876 12.071 ]\n",
      " [ 0.2626  1.1476  7.7985]\n",
      " [ 0.6418  1.0234  7.0427]\n",
      " [ 0.2569  0.673   8.3265]\n",
      " [ 1.1155  0.6043  7.4446]\n",
      " [ 0.0914  0.3399  7.0677]\n",
      " [ 0.0121  0.5256  4.6316]\n",
      " [-0.0429  0.466   5.4323]\n",
      " [ 0.434   0.687   8.2287]\n",
      " [ 0.2735  1.0287  7.1934]\n",
      " [ 0.4839  0.4851  7.485 ]\n",
      " [ 0.4089 -0.1267  5.5019]\n",
      " [ 1.4391  0.1614  8.5843]\n",
      " [-0.9115 -0.1973  2.1962]\n",
      " [ 0.3654  1.0475  7.4858]\n",
      " [ 0.2144  0.7515  7.1699]\n",
      " [ 0.2013  1.0014  6.5489]\n",
      " [ 0.6483  0.2183  5.8991]\n",
      " [-0.1147  0.2242  7.2435]\n",
      " [-0.797   0.8795  3.8762]\n",
      " [-1.0625  0.6366  2.4707]\n",
      " [ 0.5307  0.1285  5.6883]\n",
      " [-1.22    0.7777  1.7252]\n",
      " [ 0.3957  0.1076  5.6623]\n",
      " [-0.1013  0.5989  7.1812]\n",
      " [ 2.4482  0.9455 11.2095]\n",
      " [ 2.0149  0.6192 10.9263]\n",
      " [ 0.2012  0.2611  5.4631]]\n"
     ]
    }
   ],
   "source": [
    "#quantidade de elementos na amostra\n",
    "n_amostras = dados.shape[0]\n",
    "\n",
    "#quantidade de variaveis de entrada (subtrair a coluna tipo)\n",
    "n_variaveis = dados.shape[1] -1\n",
    "\n",
    "#separando os dados contendo apenas as variáveis de entrada\n",
    "x = dados.iloc[:, 0:n_variaveis].values\n"
   ]
  },
  {
   "cell_type": "code",
   "execution_count": 46,
   "id": "d5e12333",
   "metadata": {},
   "outputs": [
    {
     "name": "stdout",
     "output_type": "stream",
     "text": [
      "[[-0.6508  0.1097  4.0009 -1.    ]\n",
      " [-1.4492  0.8896  4.4005 -1.    ]\n",
      " [ 2.085   0.6876 12.071  -1.    ]\n",
      " [ 0.2626  1.1476  7.7985 -1.    ]\n",
      " [ 0.6418  1.0234  7.0427 -1.    ]\n",
      " [ 0.2569  0.673   8.3265 -1.    ]\n",
      " [ 1.1155  0.6043  7.4446 -1.    ]\n",
      " [ 0.0914  0.3399  7.0677 -1.    ]\n",
      " [ 0.0121  0.5256  4.6316 -1.    ]\n",
      " [-0.0429  0.466   5.4323 -1.    ]\n",
      " [ 0.434   0.687   8.2287 -1.    ]\n",
      " [ 0.2735  1.0287  7.1934 -1.    ]\n",
      " [ 0.4839  0.4851  7.485  -1.    ]\n",
      " [ 0.4089 -0.1267  5.5019 -1.    ]\n",
      " [ 1.4391  0.1614  8.5843 -1.    ]\n",
      " [-0.9115 -0.1973  2.1962 -1.    ]\n",
      " [ 0.3654  1.0475  7.4858 -1.    ]\n",
      " [ 0.2144  0.7515  7.1699 -1.    ]\n",
      " [ 0.2013  1.0014  6.5489 -1.    ]\n",
      " [ 0.6483  0.2183  5.8991 -1.    ]\n",
      " [-0.1147  0.2242  7.2435 -1.    ]\n",
      " [-0.797   0.8795  3.8762 -1.    ]\n",
      " [-1.0625  0.6366  2.4707 -1.    ]\n",
      " [ 0.5307  0.1285  5.6883 -1.    ]\n",
      " [-1.22    0.7777  1.7252 -1.    ]\n",
      " [ 0.3957  0.1076  5.6623 -1.    ]\n",
      " [-0.1013  0.5989  7.1812 -1.    ]\n",
      " [ 2.4482  0.9455 11.2095 -1.    ]\n",
      " [ 2.0149  0.6192 10.9263 -1.    ]\n",
      " [ 0.2012  0.2611  5.4631 -1.    ]]\n"
     ]
    }
   ],
   "source": [
    "#inserindo bias\n",
    "bias = np.ones((n_amostras, 1)) * -1\n",
    "\n",
    "x = np.hstack((x, bias))\n",
    "\n",
    "print(x)"
   ]
  },
  {
   "cell_type": "code",
   "execution_count": 47,
   "id": "14b95ead",
   "metadata": {},
   "outputs": [
    {
     "name": "stdout",
     "output_type": "stream",
     "text": [
      "[-1. -1. -1.  1.  1. -1.  1. -1.  1.  1. -1.  1. -1. -1. -1. -1.  1.  1.\n",
      "  1.  1. -1.  1.  1.  1.  1. -1. -1.  1. -1.  1.]\n",
      "-1: 14\n",
      "-1: 30\n"
     ]
    }
   ],
   "source": [
    "#PASSO 2: do vetor de saida y, associar a saida esperada y para cada x\n",
    "y = dados.iloc[:, n_variaveis].values\n",
    "print(y)\n",
    "#contar quatas amostras de cada classe existem no dataset\n",
    "print(f\"-1: {(y == -1).sum()}\")\n",
    "print(f\"-1: {(x == -1).sum()}\")"
   ]
  },
  {
   "cell_type": "code",
   "execution_count": 48,
   "id": "f4e22a30",
   "metadata": {},
   "outputs": [
    {
     "name": "stdout",
     "output_type": "stream",
     "text": [
      "[-0.82380784  0.16898601  0.86124451 -0.89123477]\n"
     ]
    }
   ],
   "source": [
    "# inicializar o vetor de pesos w com valores aleatorios\n",
    "w = np.random.uniform(-1, 1, n_variaveis + 1)\n",
    "print(w)"
   ]
  },
  {
   "cell_type": "code",
   "execution_count": 49,
   "id": "04230c08",
   "metadata": {},
   "outputs": [],
   "source": [
    "#PASSO 4: DEFINIR A TAXA DE APRENDIZAGEM COM VALOR ENTRE 0 E 1\n",
    "#taxa de aprendizagem eta\n",
    "eta = 0.01\n",
    "\n",
    "#PASSO 5: CALCULAR O NUMERO DE AMOSTRAS EM X\n",
    "#ja foi feito e esta em n_amostras\n",
    "\n",
    "#PASSO 6: DEFINIR A TOLERÂNCIA AO ERRO - onde eu aceito que o resultado ta bom \n",
    "tolerancia = 0.01\n",
    "\n",
    "#PASSO 7: SETAR O ERRO INICIAL MAIOR QUE A TOLERANCIA\n",
    "erro_medio = tolerancia + 1 \n",
    "\n",
    "#PASSO 8: CRIAR O VETOR QUE IRA ARMAZENAR O ERRO DE TODAS AS EPOCAS, EPOCA A EPOCA\n",
    "erros_epocas = []\n",
    "\n",
    "#PASSO 9: INICIALIZA O CONTADOR DE EPOCAS\n",
    "epoca = 0\n",
    "\n",
    "#PASSO 10: DEFINE O MÁXIMO DE ÉPOCAS \n",
    "max_epocas = 160"
   ]
  },
  {
   "cell_type": "code",
   "execution_count": 50,
   "id": "508492a0",
   "metadata": {},
   "outputs": [
    {
     "name": "stdout",
     "output_type": "stream",
     "text": [
      "Época: 160\n"
     ]
    }
   ],
   "source": [
    "#PASSO 11 E 12: SETA OS CRITERIOS DE PARADA\n",
    "criterio_erro = True\n",
    "criterio_epoca = True\n",
    "\n",
    "#PASSO 13: ENQUANTO O ERRO FOR MAIOR QUE A TOLERANCIA E MAXEPOCAS NAO FOR ATINGIDO, CONTINUE O TREINO\n",
    "while criterio_erro and criterio_epoca:\n",
    "   #PASSO 14: SETA O ERRO DA EPOCA ATUAL COM ZERO NO INICIO DE CADA EPOCA\n",
    "   erro_atual = 0\n",
    "   \n",
    "   #PASSO 15: INCREMENTA O CONTADOR DE EPOCAS PARA SABER EM QUE ÉPOCA A RNA ESTA TREINANDO\n",
    "   epoca += 1\n",
    "   \n",
    "   #PASSO 16: EMBARALHA OS INDICES PARA BUSCAR AMOSTRAS ALEATORIAMENTE NO CONJUNTO X\n",
    "   indices_embaralhados = np.random.permutation(n_amostras) \n",
    "   \n",
    "   #PASSO 17: PARA CADA AMOSTRA NO CONJUNTO X FAÇA\n",
    "   for i in range(n_amostras):\n",
    "      #captura o indice da amostra atual a ser apresentada da RNA\n",
    "      indice_amostra = indices_embaralhados[i]\n",
    "      \n",
    "      #captura a amostra atual a ser apresentada a RNA\n",
    "      xi_amostra = x[indice_amostra, :]\n",
    "      \n",
    "      #PASSO 18: CALCULA O POTENCIAL DE ATIVAÇÃO U\n",
    "      u = np.dot(w.T, xi_amostra)\n",
    "      \n",
    "      #PASSO 19: CALCULA A SAÍDA PREVISTA COM BASE NA FUNCAO DE ATIVAÇAO\n",
    "      yhat = degrau_bipolar(u)\n",
    "      \n",
    "      #PASSO 20: CALCULA O ERRO ENTRE O VALOR ESPERADO E O VALOR PREVISTO\n",
    "      e = y[indice_amostra] - yhat\n",
    "      \n",
    "      #PASSO 21: ATUALIZA OS PESOS APLICANDO A REGRA DE HEBB\n",
    "      w = w + ((eta * e) * xi_amostra)\n",
    "      \n",
    "      #PASSO 22: ACUMULADOR DE ERROS DE TODAS AS AMOSTRAS\n",
    "      erro_atual = erro_atual + np.abs(e)\n",
    "   \n",
    "   #PASSO 23: CALCULA O ERRO MEDIO DA EPOCA\n",
    "   erro_medio = erro_atual/n_amostras\n",
    "   \n",
    "   #PASSO 24: ARMAZENA O ERRO MEDIO DA EPOCA ATUAL NO VETOR DE ERROS DE TODAS AS EPOCAS\n",
    "   erros_epocas.append(erro_medio)\n",
    "   \n",
    "   #PASSO 25 E 26: VERIFICA E ATUALIZA OS CRITERIOS DE PARADA\n",
    "   criterio_erro = (erro_medio > tolerancia)\n",
    "   criterio_epoca = (epoca < max_epocas)  \n",
    "print(f'Época: {epoca}')"
   ]
  },
  {
   "cell_type": "code",
   "execution_count": 51,
   "id": "5fbd5786",
   "metadata": {},
   "outputs": [
    {
     "data": {
      "image/png": "[encoded data removed]",
      "text/plain": [
       "<Figure size 600x400 with 1 Axes>"
      ]
     },
     "metadata": {},
     "output_type": "display_data"
    }
   ],
   "source": [
    "#PLOTANDO A CONVERGENCIA DO ALGORITMO COM BASE NO ERRO EPOCA A EPOCA\n",
    "plt.figure(figsize=(6,4))\n",
    "plt.plot((erros_epocas[:max_epocas]))\n",
    "plt.title('Gráfico de Convergência')\n",
    "plt.xlabel('Número de Épocas')\n",
    "plt.ylabel('Convergência do Erro')\n",
    "plt.grid(True)"
   ]
  },
  {
   "cell_type": "markdown",
   "id": "e415a720",
   "metadata": {},
   "source": [
    "## IMPLEMENTAÇÃO DO PERCEPTRON"
   ]
  },
  {
   "cell_type": "code",
   "execution_count": 52,
   "id": "9e31cde4",
   "metadata": {},
   "outputs": [
    {
     "name": "stdout",
     "output_type": "stream",
     "text": [
      "Conjunto ideal de pesos w*\n",
      "[ 1.07488616  1.96946401 -0.51740149 -2.17123477]\n",
      "Quantidade de épocas até convergir \"160\"\n"
     ]
    }
   ],
   "source": [
    "#exibindo os pesos calibrados pela regra Regra de Hebb\n",
    "print('Conjunto ideal de pesos w*')\n",
    "print(w)\n",
    "print(f'Quantidade de épocas até convergir \"{epoca}\"')"
   ]
  },
  {
   "cell_type": "code",
   "execution_count": 53,
   "id": "8b7d7ce5",
   "metadata": {},
   "outputs": [
    {
     "name": "stdout",
     "output_type": "stream",
     "text": [
      "[-1.  1. -1.  1.  1. -1.  1. -1.  1.  1. -1.  1. -1. -1. -1. -1.  1.  1.\n",
      "  1.  1. -1.  1.  1.  1.  1. -1. -1.  1. -1.  1.]\n"
     ]
    }
   ],
   "source": [
    "#cria um vetor para receber todas a previsões realizadas pela rna\n",
    "yhat = np.zeros(n_amostras)\n",
    "\n",
    "#armazenar todas a previsoes uma para cada amostras\n",
    "for i in range(n_amostras):\n",
    "   yhat[i] = previsao(w, x[i,:])\n",
    "   \n",
    "print(yhat)"
   ]
  },
  {
   "cell_type": "markdown",
   "id": "68d09ee6",
   "metadata": {},
   "source": [
    "## ANÁLISE DA QUALIDADE DE CLASSIFICAÇÃO"
   ]
  },
  {
   "cell_type": "code",
   "execution_count": 54,
   "id": "8ea39550",
   "metadata": {},
   "outputs": [
    {
     "name": "stdout",
     "output_type": "stream",
     "text": [
      "Matriz de Confusão\n",
      "[[13  1]\n",
      " [ 0 16]]\n"
     ]
    },
    {
     "data": {
      "image/png": "[encoded data removed]",
      "text/plain": [
       "<Figure size 600x400 with 2 Axes>"
      ]
     },
     "metadata": {},
     "output_type": "display_data"
    }
   ],
   "source": [
    "#converter -1 em 0 para melhor visualizar a matriz de confusão\n",
    "yhat_display = np.where(yhat == -1, 0, yhat)\n",
    "y_display = np.where(y == -1, 0, yhat)\n",
    "\n",
    "#gera a matriz de confusão\n",
    "cm = confusion_matrix(y_display, yhat_display)\n",
    "print(\"Matriz de Confusão\")\n",
    "print(cm)\n",
    "\n",
    "#plotar matriz de confusão crocante\n",
    "plt.figure(figsize=(6, 4))\n",
    "sns.heatmap(cm, annot=True, fmt='d', cmap='Blues',\n",
    "            xticklabels=['Setosa', 'Versicolor'],\n",
    "            yticklabels=['Setosa', 'Versicolor'])\n",
    "plt.title('Matriz de Confusão')\n",
    "plt.xlabel('Valor Predito')\n",
    "plt.ylabel('Valor Real')\n",
    "plt.show()\n"
   ]
  },
  {
   "cell_type": "code",
   "execution_count": 55,
   "id": "97a5b17a",
   "metadata": {},
   "outputs": [
    {
     "name": "stdout",
     "output_type": "stream",
     "text": [
      "96.66666666666667\n"
     ]
    }
   ],
   "source": [
    "#calculo acuracia\n",
    "\n",
    "acuracia = (np.sum(yhat == y) / n_amostras) * 100\n",
    "print(acuracia)"
   ]
  },
  {
   "cell_type": "code",
   "execution_count": 56,
   "id": "740a1969",
   "metadata": {},
   "outputs": [
    {
     "data": {
      "image/png": "[encoded data removed]",
      "text/plain": [
       "<Figure size 600x400 with 1 Axes>"
      ]
     },
     "metadata": {},
     "output_type": "display_data"
    }
   ],
   "source": [
    "if cm.shape == (2, 2):\n",
    "   resultado = [cm[0, 0], cm[0, 1], cm[1, 1], cm[1, 0]]\n",
    "   labels = ['VV', 'VS', 'SS', 'SV']\n",
    "   colors = ['green', 'red', 'green', 'red']\n",
    "   \n",
    "   plt.figure(figsize=(6, 4))\n",
    "   plt.bar(labels, resultado, color=colors)\n",
    "   plt.xlabel('Previsões')\n",
    "   plt.ylabel('Quantidade')\n",
    "   plt.title('Resultado das Classificações')\n",
    "   plt.ylim(0, 20)\n",
    "   for i, v in enumerate(resultado):\n",
    "      plt.text(i, v + 0.2, str(v), ha='center')\n",
    "   plt.show()"
   ]
  },
  {
   "cell_type": "code",
   "execution_count": 57,
   "id": "79a53a52",
   "metadata": {},
   "outputs": [
    {
     "data": {
      "application/vnd.plotly.v1+json": {
       "config": {
        "plotlyServerURL": "https://plot.ly"
       },
       "data": [
        {
         "colorscale": [
          [
           0,
           "rgb(0, 0, 0)"
          ],
          [
           0.09090909090909091,
           "rgb(16, 16, 16)"
          ],
          [
           0.18181818181818182,
           "rgb(38, 38, 38)"
          ],
          [
           0.2727272727272727,
           "rgb(59, 59, 59)"
          ],
          [
           0.36363636363636365,
           "rgb(81, 80, 80)"
          ],
          [
           0.45454545454545453,
           "rgb(102, 101, 101)"
          ],
          [
           0.5454545454545454,
           "rgb(124, 123, 122)"
          ],
          [
           0.6363636363636364,
           "rgb(146, 146, 145)"
          ],
          [
           0.7272727272727273,
           "rgb(171, 171, 170)"
          ],
          [
           0.8181818181818182,
           "rgb(197, 197, 195)"
          ],
          [
           0.9090909090909091,
           "rgb(224, 224, 223)"
          ],
          [
           1,
           "rgb(254, 254, 253)"
          ]
         ],
         "name": "Hiperplano",
         "opacity": 0.3,
         "showscale": false,
         "type": "surface",
         "x": [
          [
           -1.9492,
           -1.6914421052631579,
           -1.433684210526316,
           -1.1759263157894737,
           -0.9181684210526315,
           -0.6604105263157893,
           -0.4026526315789474,
           -0.1448947368421052,
           0.112863157894737,
           0.3706210526315792,
           0.6283789473684214,
           0.8861368421052636,
           1.1438947368421053,
           1.4016526315789475,
           1.6594105263157897,
           1.9171684210526319,
           2.174926315789474,
           2.4326842105263156,
           2.690442105263158,
           2.9482
          ],
          [
           -1.9492,
           -1.6914421052631579,
           -1.433684210526316,
           -1.1759263157894737,
           -0.9181684210526315,
           -0.6604105263157893,
           -0.4026526315789474,
           -0.1448947368421052,
           0.112863157894737,
           0.3706210526315792,
           0.6283789473684214,
           0.8861368421052636,
           1.1438947368421053,
           1.4016526315789475,
           1.6594105263157897,
           1.9171684210526319,
           2.174926315789474,
           2.4326842105263156,
           2.690442105263158,
           2.9482
          ],
          [
           -1.9492,
           -1.6914421052631579,
           -1.433684210526316,
           -1.1759263157894737,
           -0.9181684210526315,
           -0.6604105263157893,
           -0.4026526315789474,
           -0.1448947368421052,
           0.112863157894737,
           0.3706210526315792,
           0.6283789473684214,
           0.8861368421052636,
           1.1438947368421053,
           1.4016526315789475,
           1.6594105263157897,
           1.9171684210526319,
           2.174926315789474,
           2.4326842105263156,
           2.690442105263158,
           2.9482
          ],
          [
           -1.9492,
           -1.6914421052631579,
           -1.433684210526316,
           -1.1759263157894737,
           -0.9181684210526315,
           -0.6604105263157893,
           -0.4026526315789474,
           -0.1448947368421052,
           0.112863157894737,
           0.3706210526315792,
           0.6283789473684214,
           0.8861368421052636,
           1.1438947368421053,
           1.4016526315789475,
           1.6594105263157897,
           1.9171684210526319,
           2.174926315789474,
           2.4326842105263156,
           2.690442105263158,
           2.9482
          ],
          [
           -1.9492,
           -1.6914421052631579,
           -1.433684210526316,
           -1.1759263157894737,
           -0.9181684210526315,
           -0.6604105263157893,
           -0.4026526315789474,
           -0.1448947368421052,
           0.112863157894737,
           0.3706210526315792,
           0.6283789473684214,
           0.8861368421052636,
           1.1438947368421053,
           1.4016526315789475,
           1.6594105263157897,
           1.9171684210526319,
           2.174926315789474,
           2.4326842105263156,
           2.690442105263158,
           2.9482
          ],
          [
           -1.9492,
           -1.6914421052631579,
           -1.433684210526316,
           -1.1759263157894737,
           -0.9181684210526315,
           -0.6604105263157893,
           -0.4026526315789474,
           -0.1448947368421052,
           0.112863157894737,
           0.3706210526315792,
           0.6283789473684214,
           0.8861368421052636,
           1.1438947368421053,
           1.4016526315789475,
           1.6594105263157897,
           1.9171684210526319,
           2.174926315789474,
           2.4326842105263156,
           2.690442105263158,
           2.9482
          ],
          [
           -1.9492,
           -1.6914421052631579,
           -1.433684210526316,
           -1.1759263157894737,
           -0.9181684210526315,
           -0.6604105263157893,
           -0.4026526315789474,
           -0.1448947368421052,
           0.112863157894737,
           0.3706210526315792,
           0.6283789473684214,
           0.8861368421052636,
           1.1438947368421053,
           1.4016526315789475,
           1.6594105263157897,
           1.9171684210526319,
           2.174926315789474,
           2.4326842105263156,
           2.690442105263158,
           2.9482
          ],
          [
           -1.9492,
           -1.6914421052631579,
           -1.433684210526316,
           -1.1759263157894737,
           -0.9181684210526315,
           -0.6604105263157893,
           -0.4026526315789474,
           -0.1448947368421052,
           0.112863157894737,
           0.3706210526315792,
           0.6283789473684214,
           0.8861368421052636,
           1.1438947368421053,
           1.4016526315789475,
           1.6594105263157897,
           1.9171684210526319,
           2.174926315789474,
           2.4326842105263156,
           2.690442105263158,
           2.9482
          ],
          [
           -1.9492,
           -1.6914421052631579,
           -1.433684210526316,
           -1.1759263157894737,
           -0.9181684210526315,
           -0.6604105263157893,
           -0.4026526315789474,
           -0.1448947368421052,
           0.112863157894737,
           0.3706210526315792,
           0.6283789473684214,
           0.8861368421052636,
           1.1438947368421053,
           1.4016526315789475,
           1.6594105263157897,
           1.9171684210526319,
           2.174926315789474,
           2.4326842105263156,
           2.690442105263158,
           2.9482
          ],
          [
           -1.9492,
           -1.6914421052631579,
           -1.433684210526316,
           -1.1759263157894737,
           -0.9181684210526315,
           -0.6604105263157893,
           -0.4026526315789474,
           -0.1448947368421052,
           0.112863157894737,
           0.3706210526315792,
           0.6283789473684214,
           0.8861368421052636,
           1.1438947368421053,
           1.4016526315789475,
           1.6594105263157897,
           1.9171684210526319,
           2.174926315789474,
           2.4326842105263156,
           2.690442105263158,
           2.9482
          ],
          [
           -1.9492,
           -1.6914421052631579,
           -1.433684210526316,
           -1.1759263157894737,
           -0.9181684210526315,
           -0.6604105263157893,
           -0.4026526315789474,
           -0.1448947368421052,
           0.112863157894737,
           0.3706210526315792,
           0.6283789473684214,
           0.8861368421052636,
           1.1438947368421053,
           1.4016526315789475,
           1.6594105263157897,
           1.9171684210526319,
           2.174926315789474,
           2.4326842105263156,
           2.690442105263158,
           2.9482
          ],
          [
           -1.9492,
           -1.6914421052631579,
           -1.433684210526316,
           -1.1759263157894737,
           -0.9181684210526315,
           -0.6604105263157893,
           -0.4026526315789474,
           -0.1448947368421052,
           0.112863157894737,
           0.3706210526315792,
           0.6283789473684214,
           0.8861368421052636,
           1.1438947368421053,
           1.4016526315789475,
           1.6594105263157897,
           1.9171684210526319,
           2.174926315789474,
           2.4326842105263156,
           2.690442105263158,
           2.9482
          ],
          [
           -1.9492,
           -1.6914421052631579,
           -1.433684210526316,
           -1.1759263157894737,
           -0.9181684210526315,
           -0.6604105263157893,
           -0.4026526315789474,
           -0.1448947368421052,
           0.112863157894737,
           0.3706210526315792,
           0.6283789473684214,
           0.8861368421052636,
           1.1438947368421053,
           1.4016526315789475,
           1.6594105263157897,
           1.9171684210526319,
           2.174926315789474,
           2.4326842105263156,
           2.690442105263158,
           2.9482
          ],
          [
           -1.9492,
           -1.6914421052631579,
           -1.433684210526316,
           -1.1759263157894737,
           -0.9181684210526315,
           -0.6604105263157893,
           -0.4026526315789474,
           -0.1448947368421052,
           0.112863157894737,
           0.3706210526315792,
           0.6283789473684214,
           0.8861368421052636,
           1.1438947368421053,
           1.4016526315789475,
           1.6594105263157897,
           1.9171684210526319,
           2.174926315789474,
           2.4326842105263156,
           2.690442105263158,
           2.9482
          ],
          [
           -1.9492,
           -1.6914421052631579,
           -1.433684210526316,
           -1.1759263157894737,
           -0.9181684210526315,
           -0.6604105263157893,
           -0.4026526315789474,
           -0.1448947368421052,
           0.112863157894737,
           0.3706210526315792,
           0.6283789473684214,
           0.8861368421052636,
           1.1438947368421053,
           1.4016526315789475,
           1.6594105263157897,
           1.9171684210526319,
           2.174926315789474,
           2.4326842105263156,
           2.690442105263158,
           2.9482
          ],
          [
           -1.9492,
           -1.6914421052631579,
           -1.433684210526316,
           -1.1759263157894737,
           -0.9181684210526315,
           -0.6604105263157893,
           -0.4026526315789474,
           -0.1448947368421052,
           0.112863157894737,
           0.3706210526315792,
           0.6283789473684214,
           0.8861368421052636,
           1.1438947368421053,
           1.4016526315789475,
           1.6594105263157897,
           1.9171684210526319,
           2.174926315789474,
           2.4326842105263156,
           2.690442105263158,
           2.9482
          ],
          [
           -1.9492,
           -1.6914421052631579,
           -1.433684210526316,
           -1.1759263157894737,
           -0.9181684210526315,
           -0.6604105263157893,
           -0.4026526315789474,
           -0.1448947368421052,
           0.112863157894737,
           0.3706210526315792,
           0.6283789473684214,
           0.8861368421052636,
           1.1438947368421053,
           1.4016526315789475,
           1.6594105263157897,
           1.9171684210526319,
           2.174926315789474,
           2.4326842105263156,
           2.690442105263158,
           2.9482
          ],
          [
           -1.9492,
           -1.6914421052631579,
           -1.433684210526316,
           -1.1759263157894737,
           -0.9181684210526315,
           -0.6604105263157893,
           -0.4026526315789474,
           -0.1448947368421052,
           0.112863157894737,
           0.3706210526315792,
           0.6283789473684214,
           0.8861368421052636,
           1.1438947368421053,
           1.4016526315789475,
           1.6594105263157897,
           1.9171684210526319,
           2.174926315789474,
           2.4326842105263156,
           2.690442105263158,
           2.9482
          ],
          [
           -1.9492,
           -1.6914421052631579,
           -1.433684210526316,
           -1.1759263157894737,
           -0.9181684210526315,
           -0.6604105263157893,
           -0.4026526315789474,
           -0.1448947368421052,
           0.112863157894737,
           0.3706210526315792,
           0.6283789473684214,
           0.8861368421052636,
           1.1438947368421053,
           1.4016526315789475,
           1.6594105263157897,
           1.9171684210526319,
           2.174926315789474,
           2.4326842105263156,
           2.690442105263158,
           2.9482
          ],
          [
           -1.9492,
           -1.6914421052631579,
           -1.433684210526316,
           -1.1759263157894737,
           -0.9181684210526315,
           -0.6604105263157893,
           -0.4026526315789474,
           -0.1448947368421052,
           0.112863157894737,
           0.3706210526315792,
           0.6283789473684214,
           0.8861368421052636,
           1.1438947368421053,
           1.4016526315789475,
           1.6594105263157897,
           1.9171684210526319,
           2.174926315789474,
           2.4326842105263156,
           2.690442105263158,
           2.9482
          ]
         ],
         "y": [
          [
           -0.6973,
           -0.6973,
           -0.6973,
           -0.6973,
           -0.6973,
           -0.6973,
           -0.6973,
           -0.6973,
           -0.6973,
           -0.6973,
           -0.6973,
           -0.6973,
           -0.6973,
           -0.6973,
           -0.6973,
           -0.6973,
           -0.6973,
           -0.6973,
           -0.6973,
           -0.6973
          ],
          [
           -0.5738842105263158,
           -0.5738842105263158,
           -0.5738842105263158,
           -0.5738842105263158,
           -0.5738842105263158,
           -0.5738842105263158,
           -0.5738842105263158,
           -0.5738842105263158,
           -0.5738842105263158,
           -0.5738842105263158,
           -0.5738842105263158,
           -0.5738842105263158,
           -0.5738842105263158,
           -0.5738842105263158,
           -0.5738842105263158,
           -0.5738842105263158,
           -0.5738842105263158,
           -0.5738842105263158,
           -0.5738842105263158,
           -0.5738842105263158
          ],
          [
           -0.45046842105263163,
           -0.45046842105263163,
           -0.45046842105263163,
           -0.45046842105263163,
           -0.45046842105263163,
           -0.45046842105263163,
           -0.45046842105263163,
           -0.45046842105263163,
           -0.45046842105263163,
           -0.45046842105263163,
           -0.45046842105263163,
           -0.45046842105263163,
           -0.45046842105263163,
           -0.45046842105263163,
           -0.45046842105263163,
           -0.45046842105263163,
           -0.45046842105263163,
           -0.45046842105263163,
           -0.45046842105263163,
           -0.45046842105263163
          ],
          [
           -0.3270526315789474,
           -0.3270526315789474,
           -0.3270526315789474,
           -0.3270526315789474,
           -0.3270526315789474,
           -0.3270526315789474,
           -0.3270526315789474,
           -0.3270526315789474,
           -0.3270526315789474,
           -0.3270526315789474,
           -0.3270526315789474,
           -0.3270526315789474,
           -0.3270526315789474,
           -0.3270526315789474,
           -0.3270526315789474,
           -0.3270526315789474,
           -0.3270526315789474,
           -0.3270526315789474,
           -0.3270526315789474,
           -0.3270526315789474
          ],
          [
           -0.20363684210526317,
           -0.20363684210526317,
           -0.20363684210526317,
           -0.20363684210526317,
           -0.20363684210526317,
           -0.20363684210526317,
           -0.20363684210526317,
           -0.20363684210526317,
           -0.20363684210526317,
           -0.20363684210526317,
           -0.20363684210526317,
           -0.20363684210526317,
           -0.20363684210526317,
           -0.20363684210526317,
           -0.20363684210526317,
           -0.20363684210526317,
           -0.20363684210526317,
           -0.20363684210526317,
           -0.20363684210526317,
           -0.20363684210526317
          ],
          [
           -0.08022105263157897,
           -0.08022105263157897,
           -0.08022105263157897,
           -0.08022105263157897,
           -0.08022105263157897,
           -0.08022105263157897,
           -0.08022105263157897,
           -0.08022105263157897,
           -0.08022105263157897,
           -0.08022105263157897,
           -0.08022105263157897,
           -0.08022105263157897,
           -0.08022105263157897,
           -0.08022105263157897,
           -0.08022105263157897,
           -0.08022105263157897,
           -0.08022105263157897,
           -0.08022105263157897,
           -0.08022105263157897,
           -0.08022105263157897
          ],
          [
           0.043194736842105286,
           0.043194736842105286,
           0.043194736842105286,
           0.043194736842105286,
           0.043194736842105286,
           0.043194736842105286,
           0.043194736842105286,
           0.043194736842105286,
           0.043194736842105286,
           0.043194736842105286,
           0.043194736842105286,
           0.043194736842105286,
           0.043194736842105286,
           0.043194736842105286,
           0.043194736842105286,
           0.043194736842105286,
           0.043194736842105286,
           0.043194736842105286,
           0.043194736842105286,
           0.043194736842105286
          ],
          [
           0.16661052631578943,
           0.16661052631578943,
           0.16661052631578943,
           0.16661052631578943,
           0.16661052631578943,
           0.16661052631578943,
           0.16661052631578943,
           0.16661052631578943,
           0.16661052631578943,
           0.16661052631578943,
           0.16661052631578943,
           0.16661052631578943,
           0.16661052631578943,
           0.16661052631578943,
           0.16661052631578943,
           0.16661052631578943,
           0.16661052631578943,
           0.16661052631578943,
           0.16661052631578943,
           0.16661052631578943
          ],
          [
           0.2900263157894737,
           0.2900263157894737,
           0.2900263157894737,
           0.2900263157894737,
           0.2900263157894737,
           0.2900263157894737,
           0.2900263157894737,
           0.2900263157894737,
           0.2900263157894737,
           0.2900263157894737,
           0.2900263157894737,
           0.2900263157894737,
           0.2900263157894737,
           0.2900263157894737,
           0.2900263157894737,
           0.2900263157894737,
           0.2900263157894737,
           0.2900263157894737,
           0.2900263157894737,
           0.2900263157894737
          ],
          [
           0.41344210526315783,
           0.41344210526315783,
           0.41344210526315783,
           0.41344210526315783,
           0.41344210526315783,
           0.41344210526315783,
           0.41344210526315783,
           0.41344210526315783,
           0.41344210526315783,
           0.41344210526315783,
           0.41344210526315783,
           0.41344210526315783,
           0.41344210526315783,
           0.41344210526315783,
           0.41344210526315783,
           0.41344210526315783,
           0.41344210526315783,
           0.41344210526315783,
           0.41344210526315783,
           0.41344210526315783
          ],
          [
           0.5368578947368421,
           0.5368578947368421,
           0.5368578947368421,
           0.5368578947368421,
           0.5368578947368421,
           0.5368578947368421,
           0.5368578947368421,
           0.5368578947368421,
           0.5368578947368421,
           0.5368578947368421,
           0.5368578947368421,
           0.5368578947368421,
           0.5368578947368421,
           0.5368578947368421,
           0.5368578947368421,
           0.5368578947368421,
           0.5368578947368421,
           0.5368578947368421,
           0.5368578947368421,
           0.5368578947368421
          ],
          [
           0.6602736842105263,
           0.6602736842105263,
           0.6602736842105263,
           0.6602736842105263,
           0.6602736842105263,
           0.6602736842105263,
           0.6602736842105263,
           0.6602736842105263,
           0.6602736842105263,
           0.6602736842105263,
           0.6602736842105263,
           0.6602736842105263,
           0.6602736842105263,
           0.6602736842105263,
           0.6602736842105263,
           0.6602736842105263,
           0.6602736842105263,
           0.6602736842105263,
           0.6602736842105263,
           0.6602736842105263
          ],
          [
           0.7836894736842106,
           0.7836894736842106,
           0.7836894736842106,
           0.7836894736842106,
           0.7836894736842106,
           0.7836894736842106,
           0.7836894736842106,
           0.7836894736842106,
           0.7836894736842106,
           0.7836894736842106,
           0.7836894736842106,
           0.7836894736842106,
           0.7836894736842106,
           0.7836894736842106,
           0.7836894736842106,
           0.7836894736842106,
           0.7836894736842106,
           0.7836894736842106,
           0.7836894736842106,
           0.7836894736842106
          ],
          [
           0.9071052631578949,
           0.9071052631578949,
           0.9071052631578949,
           0.9071052631578949,
           0.9071052631578949,
           0.9071052631578949,
           0.9071052631578949,
           0.9071052631578949,
           0.9071052631578949,
           0.9071052631578949,
           0.9071052631578949,
           0.9071052631578949,
           0.9071052631578949,
           0.9071052631578949,
           0.9071052631578949,
           0.9071052631578949,
           0.9071052631578949,
           0.9071052631578949,
           0.9071052631578949,
           0.9071052631578949
          ],
          [
           1.030521052631579,
           1.030521052631579,
           1.030521052631579,
           1.030521052631579,
           1.030521052631579,
           1.030521052631579,
           1.030521052631579,
           1.030521052631579,
           1.030521052631579,
           1.030521052631579,
           1.030521052631579,
           1.030521052631579,
           1.030521052631579,
           1.030521052631579,
           1.030521052631579,
           1.030521052631579,
           1.030521052631579,
           1.030521052631579,
           1.030521052631579,
           1.030521052631579
          ],
          [
           1.1539368421052631,
           1.1539368421052631,
           1.1539368421052631,
           1.1539368421052631,
           1.1539368421052631,
           1.1539368421052631,
           1.1539368421052631,
           1.1539368421052631,
           1.1539368421052631,
           1.1539368421052631,
           1.1539368421052631,
           1.1539368421052631,
           1.1539368421052631,
           1.1539368421052631,
           1.1539368421052631,
           1.1539368421052631,
           1.1539368421052631,
           1.1539368421052631,
           1.1539368421052631,
           1.1539368421052631
          ],
          [
           1.2773526315789474,
           1.2773526315789474,
           1.2773526315789474,
           1.2773526315789474,
           1.2773526315789474,
           1.2773526315789474,
           1.2773526315789474,
           1.2773526315789474,
           1.2773526315789474,
           1.2773526315789474,
           1.2773526315789474,
           1.2773526315789474,
           1.2773526315789474,
           1.2773526315789474,
           1.2773526315789474,
           1.2773526315789474,
           1.2773526315789474,
           1.2773526315789474,
           1.2773526315789474,
           1.2773526315789474
          ],
          [
           1.4007684210526314,
           1.4007684210526314,
           1.4007684210526314,
           1.4007684210526314,
           1.4007684210526314,
           1.4007684210526314,
           1.4007684210526314,
           1.4007684210526314,
           1.4007684210526314,
           1.4007684210526314,
           1.4007684210526314,
           1.4007684210526314,
           1.4007684210526314,
           1.4007684210526314,
           1.4007684210526314,
           1.4007684210526314,
           1.4007684210526314,
           1.4007684210526314,
           1.4007684210526314,
           1.4007684210526314
          ],
          [
           1.5241842105263157,
           1.5241842105263157,
           1.5241842105263157,
           1.5241842105263157,
           1.5241842105263157,
           1.5241842105263157,
           1.5241842105263157,
           1.5241842105263157,
           1.5241842105263157,
           1.5241842105263157,
           1.5241842105263157,
           1.5241842105263157,
           1.5241842105263157,
           1.5241842105263157,
           1.5241842105263157,
           1.5241842105263157,
           1.5241842105263157,
           1.5241842105263157,
           1.5241842105263157,
           1.5241842105263157
          ],
          [
           1.6476,
           1.6476,
           1.6476,
           1.6476,
           1.6476,
           1.6476,
           1.6476,
           1.6476,
           1.6476,
           1.6476,
           1.6476,
           1.6476,
           1.6476,
           1.6476,
           1.6476,
           1.6476,
           1.6476,
           1.6476,
           1.6476,
           1.6476
          ]
         ],
         "z": [
          [
           -2.507222352267819,
           -1.9717380198682695,
           -1.436253687468719,
           -0.9007693550691704,
           -0.36528502266962004,
           0.17019930972993036,
           0.7056836421294795,
           1.2411679745290294,
           1.7766523069285791,
           2.312136639328129,
           2.847620971727679,
           3.3831053041272288,
           3.9185896365267783,
           4.454073968926328,
           4.989558301325878,
           5.525042633725428,
           6.060526966124977,
           6.596011298524526,
           7.131495630924078,
           7.666979963323626
          ],
          [
           -2.037446059367361,
           -1.5019617269678114,
           -0.9664773945682618,
           -0.4309930621687122,
           0.10449127023083733,
           0.6399756026303878,
           1.1754599350299373,
           1.7109442674294872,
           2.2464285998290374,
           2.781912932228587,
           3.317397264628137,
           3.852881597027687,
           4.388365929427236,
           4.923850261826786,
           5.459334594226336,
           5.994818926625886,
           6.530303259025435,
           7.065787591424983,
           7.601271923824536,
           8.136756256224084
          ],
          [
           -1.5676697664669035,
           -1.032185434067353,
           -0.4967011016678035,
           0.03878323073174603,
           0.5742675631312956,
           1.109751895530846,
           1.6452362279303951,
           2.180720560329945,
           2.716204892729495,
           3.251689225129045,
           3.7871735575285945,
           4.322657889928145,
           4.858142222327694,
           5.393626554727244,
           5.929110887126794,
           6.464595219526343,
           7.000079551925893,
           7.535563884325441,
           8.071048216724993,
           8.606532549124541
          ],
          [
           -1.0978934735664452,
           -0.5624091411668957,
           -0.026924808767345286,
           0.5085595236322038,
           1.0440438560317538,
           1.5795281884313037,
           2.1150125208308532,
           2.650496853230403,
           3.1859811856299527,
           3.721465518029503,
           4.256949850429053,
           4.792434182828602,
           5.327918515228152,
           5.863402847627701,
           6.398887180027252,
           6.934371512426801,
           7.469855844826351,
           8.0053401772259,
           8.54082450962545,
           9.076308842024998
          ],
          [
           -0.628117180665987,
           -0.09263284826643746,
           0.4428514841331121,
           0.9783358165326617,
           1.513820148932212,
           2.049304481331762,
           2.5847888137313113,
           3.1202731461308613,
           3.655757478530411,
           4.19124181092996,
           4.726726143329511,
           5.262210475729061,
           5.79769480812861,
           6.33317914052816,
           6.868663472927709,
           7.40414780532726,
           7.93963213772681,
           8.475116470126359,
           9.010600802525909,
           9.546085134925457
          ],
          [
           -0.15834088776552963,
           0.3771434446340208,
           0.9126277770335703,
           1.44811210943312,
           1.98359644183267,
           2.51908077423222,
           3.0545651066317694,
           3.590049439031319,
           4.125533771430869,
           4.661018103830419,
           5.196502436229968,
           5.731986768629519,
           6.267471101029067,
           6.802955433428618,
           7.338439765828167,
           7.873924098227717,
           8.409408430627268,
           8.944892763026816,
           9.480377095426368,
           10.015861427825916
          ],
          [
           0.3114354051349286,
           0.846919737534479,
           1.3824040699340285,
           1.917888402333578,
           2.453372734733128,
           2.988857067132678,
           3.5243413995322275,
           4.059825731931777,
           4.595310064331327,
           5.130794396730877,
           5.666278729130427,
           6.201763061529977,
           6.737247393929526,
           7.272731726329076,
           7.808216058728626,
           8.343700391128177,
           8.879184723527725,
           9.414669055927273,
           9.950153388326825,
           10.485637720726375
          ],
          [
           0.7812116980353868,
           1.3166960304349369,
           1.8521803628344864,
           2.387664695234036,
           2.923149027633586,
           3.458633360033136,
           3.994117692432685,
           4.5296020248322355,
           5.065086357231785,
           5.6005706896313345,
           6.136055022030885,
           6.671539354430435,
           7.207023686829984,
           7.742508019229534,
           8.277992351629083,
           8.813476684028634,
           9.348961016428182,
           9.88444534882773,
           10.419929681227282,
           10.955414013626832
          ],
          [
           1.250987990935845,
           1.7864723233353947,
           2.3219566557349443,
           2.8574409881344938,
           3.392925320534044,
           3.9284096529335937,
           4.463893985333144,
           4.999378317732693,
           5.5348626501322435,
           6.0703469825317935,
           6.6058313149313435,
           7.1413156473308925,
           7.6767999797304425,
           8.212284312129992,
           8.747768644529542,
           9.283252976929091,
           9.818737309328641,
           10.35422164172819,
           10.889705974127741,
           11.42519030652729
          ],
          [
           1.7207642838363024,
           2.256248616235853,
           2.7917329486354023,
           3.327217281034952,
           3.8627016134345014,
           4.398185945834052,
           4.933670278233602,
           5.469154610633151,
           6.004638943032701,
           6.540123275432251,
           7.075607607831801,
           7.611091940231351,
           8.146576272630899,
           8.68206060503045,
           9.21754493743,
           9.753029269829549,
           10.288513602229099,
           10.823997934628647,
           11.359482267028199,
           11.894966599427747
          ],
          [
           2.190540576736761,
           2.726024909136311,
           3.2615092415358604,
           3.79699357393541,
           4.33247790633496,
           4.86796223873451,
           5.403446571134059,
           5.93893090353361,
           6.474415235933159,
           7.009899568332709,
           7.545383900732259,
           8.080868233131808,
           8.616352565531358,
           9.151836897930908,
           9.687321230330458,
           10.222805562730008,
           10.758289895129558,
           11.293774227529106,
           11.829258559928657,
           12.364742892328207
          ],
          [
           2.660316869637219,
           3.195801202036769,
           3.7312855344363185,
           4.266769866835869,
           4.802254199235418,
           5.337738531634968,
           5.873222864034518,
           6.408707196434068,
           6.944191528833617,
           7.479675861233168,
           8.015160193632717,
           8.550644526032269,
           9.086128858431817,
           9.621613190831365,
           10.157097523230915,
           10.692581855630467,
           11.228066188030015,
           11.763550520429565,
           12.299034852829116,
           12.834519185228665
          ],
          [
           3.130093162537677,
           3.665577494937227,
           4.201061827336777,
           4.736546159736326,
           5.272030492135876,
           5.807514824535427,
           6.342999156934975,
           6.878483489334526,
           7.413967821734075,
           7.949452154133625,
           8.484936486533176,
           9.020420818932726,
           9.555905151332274,
           10.091389483731824,
           10.626873816131376,
           11.162358148530924,
           11.697842480930472,
           12.233326813330022,
           12.768811145729574,
           13.304295478129122
          ],
          [
           3.5998694554381356,
           4.135353787837686,
           4.670838120237234,
           5.206322452636785,
           5.741806785036334,
           6.277291117435884,
           6.812775449835435,
           7.348259782234984,
           7.883744114634534,
           8.419228447034085,
           8.954712779433635,
           9.490197111833183,
           10.025681444232731,
           10.561165776632285,
           11.096650109031833,
           11.632134441431381,
           12.167618773830933,
           12.703103106230483,
           13.23858743863003,
           13.774071771029579
          ],
          [
           4.069645748338593,
           4.605130080738143,
           5.140614413137692,
           5.676098745537242,
           6.211583077936792,
           6.747067410336341,
           7.282551742735892,
           7.818036075135442,
           8.35352040753499,
           8.889004739934542,
           9.424489072334092,
           9.95997340473364,
           10.49545773713319,
           11.030942069532742,
           11.56642640193229,
           12.101910734331838,
           12.637395066731392,
           13.17287939913094,
           13.708363731530488,
           14.243848063930036
          ],
          [
           4.539422041239051,
           5.0749063736386,
           5.610390706038151,
           6.1458750384376994,
           6.68135937083725,
           7.2168437032368,
           7.752328035636349,
           8.2878123680359,
           8.82329670043545,
           9.358781032835001,
           9.89426536523455,
           10.429749697634097,
           10.965234030033649,
           11.500718362433199,
           12.036202694832747,
           12.571687027232299,
           13.107171359631849,
           13.642655692031397,
           14.178140024430949,
           14.713624356830497
          ],
          [
           5.009198334139509,
           5.544682666539059,
           6.0801669989386085,
           6.615651331338158,
           7.151135663737708,
           7.686619996137258,
           8.222104328536808,
           8.757588660936356,
           9.293072993335908,
           9.828557325735458,
           10.364041658135006,
           10.899525990534558,
           11.435010322934108,
           11.970494655333656,
           12.505978987733204,
           13.041463320132756,
           13.576947652532306,
           14.112431984931854,
           14.647916317331406,
           15.183400649730956
          ],
          [
           5.478974627039967,
           6.0144589594395175,
           6.549943291839066,
           7.0854276242386165,
           7.620911956638166,
           8.156396289037717,
           8.691880621437265,
           9.227364953836814,
           9.762849286236365,
           10.298333618635915,
           10.833817951035464,
           11.369302283435015,
           11.904786615834565,
           12.440270948234113,
           12.975755280633662,
           13.511239613033215,
           14.046723945432763,
           14.582208277832311,
           15.117692610231863,
           15.653176942631413
          ],
          [
           5.948750919940425,
           6.484235252339975,
           7.019719584739525,
           7.555203917139074,
           8.090688249538625,
           8.626172581938174,
           9.161656914337723,
           9.697141246737274,
           10.232625579136824,
           10.768109911536373,
           11.303594243935922,
           11.839078576335474,
           12.374562908735022,
           12.91004724113457,
           13.445531573534122,
           13.981015905933672,
           14.51650023833322,
           15.051984570732769,
           15.58746890313232,
           16.12295323553187
          ],
          [
           6.418527212840883,
           6.954011545240434,
           7.489495877639983,
           8.024980210039534,
           8.560464542439084,
           9.095948874838632,
           9.63143320723818,
           10.166917539637733,
           10.702401872037282,
           11.237886204436832,
           11.773370536836381,
           12.308854869235931,
           12.84433920163548,
           13.379823534035031,
           13.91530786643458,
           14.45079219883413,
           14.986276531233681,
           15.52176086363323,
           16.057245196032778,
           16.592729528432326
          ]
         ]
        },
        {
         "marker": {
          "color": [
           "red",
           "blue",
           "red",
           "blue",
           "blue",
           "red",
           "blue",
           "red",
           "blue",
           "blue",
           "red",
           "blue",
           "red",
           "red",
           "red",
           "red",
           "blue",
           "blue",
           "blue",
           "blue",
           "red",
           "blue",
           "blue",
           "blue",
           "blue",
           "red",
           "red",
           "blue",
           "red",
           "blue"
          ],
          "line": {
           "color": "white",
           "width": 1
          },
          "opacity": 0.8,
          "size": 8
         },
         "mode": "markers",
         "name": "Amostras",
         "type": "scatter3d",
         "x": [
          -0.6508,
          -1.4492,
          2.085,
          0.2626,
          0.6418,
          0.2569,
          1.1155,
          0.0914,
          0.0121,
          -0.0429,
          0.434,
          0.2735,
          0.4839,
          0.4089,
          1.4391,
          -0.9115,
          0.3654,
          0.2144,
          0.2013,
          0.6483,
          -0.1147,
          -0.797,
          -1.0625,
          0.5307,
          -1.22,
          0.3957,
          -0.1013,
          2.4482,
          2.0149,
          0.2012
         ],
         "y": [
          0.1097,
          0.8896,
          0.6876,
          1.1476,
          1.0234,
          0.673,
          0.6043,
          0.3399,
          0.5256,
          0.466,
          0.687,
          1.0287,
          0.4851,
          -0.1267,
          0.1614,
          -0.1973,
          1.0475,
          0.7515,
          1.0014,
          0.2183,
          0.2242,
          0.8795,
          0.6366,
          0.1285,
          0.7777,
          0.1076,
          0.5989,
          0.9455,
          0.6192,
          0.2611
         ],
         "z": [
          4.0009,
          4.4005,
          12.071,
          7.7985,
          7.0427,
          8.3265,
          7.4446,
          7.0677,
          4.6316,
          5.4323,
          8.2287,
          7.1934,
          7.485,
          5.5019,
          8.5843,
          2.1962,
          7.4858,
          7.1699,
          6.5489,
          5.8991,
          7.2435,
          3.8762,
          2.4707,
          5.6883,
          1.7252,
          5.6623,
          7.1812,
          11.2095,
          10.9263,
          5.4631
         ]
        }
       ],
       "layout": {
        "height": 600,
        "scene": {
         "xaxis": {
          "title": {
           "text": "x1"
          }
         },
         "yaxis": {
          "title": {
           "text": "x2"
          }
         },
         "zaxis": {
          "title": {
           "text": "x3"
          }
         }
        },
        "template": {
         "data": {
          "bar": [
           {
            "error_x": {
             "color": "#2a3f5f"
            },
            "error_y": {
             "color": "#2a3f5f"
            },
            "marker": {
             "line": {
              "color": "#E5ECF6",
              "width": 0.5
             },
             "pattern": {
              "fillmode": "overlay",
              "size": 10,
              "solidity": 0.2
             }
            },
            "type": "bar"
           }
          ],
          "barpolar": [
           {
            "marker": {
             "line": {
              "color": "#E5ECF6",
              "width": 0.5
             },
             "pattern": {
              "fillmode": "overlay",
              "size": 10,
              "solidity": 0.2
             }
            },
            "type": "barpolar"
           }
          ],
          "carpet": [
           {
            "aaxis": {
             "endlinecolor": "#2a3f5f",
             "gridcolor": "white",
             "linecolor": "white",
             "minorgridcolor": "white",
             "startlinecolor": "#2a3f5f"
            },
            "baxis": {
             "endlinecolor": "#2a3f5f",
             "gridcolor": "white",
             "linecolor": "white",
             "minorgridcolor": "white",
             "startlinecolor": "#2a3f5f"
            },
            "type": "carpet"
           }
          ],
          "choropleth": [
           {
            "colorbar": {
             "outlinewidth": 0,
             "ticks": ""
            },
            "type": "choropleth"
           }
          ],
          "contour": [
           {
            "colorbar": {
             "outlinewidth": 0,
             "ticks": ""
            },
            "colorscale": [
             [
              0,
              "#0d0887"
             ],
             [
              0.1111111111111111,
              "#46039f"
             ],
             [
              0.2222222222222222,
              "#7201a8"
             ],
             [
              0.3333333333333333,
              "#9c179e"
             ],
             [
              0.4444444444444444,
              "#bd3786"
             ],
             [
              0.5555555555555556,
              "#d8576b"
             ],
             [
              0.6666666666666666,
              "#ed7953"
             ],
             [
              0.7777777777777778,
              "#fb9f3a"
             ],
             [
              0.8888888888888888,
              "#fdca26"
             ],
             [
              1,
              "#f0f921"
             ]
            ],
            "type": "contour"
           }
          ],
          "contourcarpet": [
           {
            "colorbar": {
             "outlinewidth": 0,
             "ticks": ""
            },
            "type": "contourcarpet"
           }
          ],
          "heatmap": [
           {
            "colorbar": {
             "outlinewidth": 0,
             "ticks": ""
            },
            "colorscale": [
             [
              0,
              "#0d0887"
             ],
             [
              0.1111111111111111,
              "#46039f"
             ],
             [
              0.2222222222222222,
              "#7201a8"
             ],
             [
              0.3333333333333333,
              "#9c179e"
             ],
             [
              0.4444444444444444,
              "#bd3786"
             ],
             [
              0.5555555555555556,
              "#d8576b"
             ],
             [
              0.6666666666666666,
              "#ed7953"
             ],
             [
              0.7777777777777778,
              "#fb9f3a"
             ],
             [
              0.8888888888888888,
              "#fdca26"
             ],
             [
              1,
              "#f0f921"
             ]
            ],
            "type": "heatmap"
           }
          ],
          "heatmapgl": [
           {
            "colorbar": {
             "outlinewidth": 0,
             "ticks": ""
            },
            "colorscale": [
             [
              0,
              "#0d0887"
             ],
             [
              0.1111111111111111,
              "#46039f"
             ],
             [
              0.2222222222222222,
              "#7201a8"
             ],
             [
              0.3333333333333333,
              "#9c179e"
             ],
             [
              0.4444444444444444,
              "#bd3786"
             ],
             [
              0.5555555555555556,
              "#d8576b"
             ],
             [
              0.6666666666666666,
              "#ed7953"
             ],
             [
              0.7777777777777778,
              "#fb9f3a"
             ],
             [
              0.8888888888888888,
              "#fdca26"
             ],
             [
              1,
              "#f0f921"
             ]
            ],
            "type": "heatmapgl"
           }
          ],
          "histogram": [
           {
            "marker": {
             "pattern": {
              "fillmode": "overlay",
              "size": 10,
              "solidity": 0.2
             }
            },
            "type": "histogram"
           }
          ],
          "histogram2d": [
           {
            "colorbar": {
             "outlinewidth": 0,
             "ticks": ""
            },
            "colorscale": [
             [
              0,
              "#0d0887"
             ],
             [
              0.1111111111111111,
              "#46039f"
             ],
             [
              0.2222222222222222,
              "#7201a8"
             ],
             [
              0.3333333333333333,
              "#9c179e"
             ],
             [
              0.4444444444444444,
              "#bd3786"
             ],
             [
              0.5555555555555556,
              "#d8576b"
             ],
             [
              0.6666666666666666,
              "#ed7953"
             ],
             [
              0.7777777777777778,
              "#fb9f3a"
             ],
             [
              0.8888888888888888,
              "#fdca26"
             ],
             [
              1,
              "#f0f921"
             ]
            ],
            "type": "histogram2d"
           }
          ],
          "histogram2dcontour": [
           {
            "colorbar": {
             "outlinewidth": 0,
             "ticks": ""
            },
            "colorscale": [
             [
              0,
              "#0d0887"
             ],
             [
              0.1111111111111111,
              "#46039f"
             ],
             [
              0.2222222222222222,
              "#7201a8"
             ],
             [
              0.3333333333333333,
              "#9c179e"
             ],
             [
              0.4444444444444444,
              "#bd3786"
             ],
             [
              0.5555555555555556,
              "#d8576b"
             ],
             [
              0.6666666666666666,
              "#ed7953"
             ],
             [
              0.7777777777777778,
              "#fb9f3a"
             ],
             [
              0.8888888888888888,
              "#fdca26"
             ],
             [
              1,
              "#f0f921"
             ]
            ],
            "type": "histogram2dcontour"
           }
          ],
          "mesh3d": [
           {
            "colorbar": {
             "outlinewidth": 0,
             "ticks": ""
            },
            "type": "mesh3d"
           }
          ],
          "parcoords": [
           {
            "line": {
             "colorbar": {
              "outlinewidth": 0,
              "ticks": ""
             }
            },
            "type": "parcoords"
           }
          ],
          "pie": [
           {
            "automargin": true,
            "type": "pie"
           }
          ],
          "scatter": [
           {
            "fillpattern": {
             "fillmode": "overlay",
             "size": 10,
             "solidity": 0.2
            },
            "type": "scatter"
           }
          ],
          "scatter3d": [
           {
            "line": {
             "colorbar": {
              "outlinewidth": 0,
              "ticks": ""
             }
            },
            "marker": {
             "colorbar": {
              "outlinewidth": 0,
              "ticks": ""
             }
            },
            "type": "scatter3d"
           }
          ],
          "scattercarpet": [
           {
            "marker": {
             "colorbar": {
              "outlinewidth": 0,
              "ticks": ""
             }
            },
            "type": "scattercarpet"
           }
          ],
          "scattergeo": [
           {
            "marker": {
             "colorbar": {
              "outlinewidth": 0,
              "ticks": ""
             }
            },
            "type": "scattergeo"
           }
          ],
          "scattergl": [
           {
            "marker": {
             "colorbar": {
              "outlinewidth": 0,
              "ticks": ""
             }
            },
            "type": "scattergl"
           }
          ],
          "scattermapbox": [
           {
            "marker": {
             "colorbar": {
              "outlinewidth": 0,
              "ticks": ""
             }
            },
            "type": "scattermapbox"
           }
          ],
          "scatterpolar": [
           {
            "marker": {
             "colorbar": {
              "outlinewidth": 0,
              "ticks": ""
             }
            },
            "type": "scatterpolar"
           }
          ],
          "scatterpolargl": [
           {
            "marker": {
             "colorbar": {
              "outlinewidth": 0,
              "ticks": ""
             }
            },
            "type": "scatterpolargl"
           }
          ],
          "scatterternary": [
           {
            "marker": {
             "colorbar": {
              "outlinewidth": 0,
              "ticks": ""
             }
            },
            "type": "scatterternary"
           }
          ],
          "surface": [
           {
            "colorbar": {
             "outlinewidth": 0,
             "ticks": ""
            },
            "colorscale": [
             [
              0,
              "#0d0887"
             ],
             [
              0.1111111111111111,
              "#46039f"
             ],
             [
              0.2222222222222222,
              "#7201a8"
             ],
             [
              0.3333333333333333,
              "#9c179e"
             ],
             [
              0.4444444444444444,
              "#bd3786"
             ],
             [
              0.5555555555555556,
              "#d8576b"
             ],
             [
              0.6666666666666666,
              "#ed7953"
             ],
             [
              0.7777777777777778,
              "#fb9f3a"
             ],
             [
              0.8888888888888888,
              "#fdca26"
             ],
             [
              1,
              "#f0f921"
             ]
            ],
            "type": "surface"
           }
          ],
          "table": [
           {
            "cells": {
             "fill": {
              "color": "#EBF0F8"
             },
             "line": {
              "color": "white"
             }
            },
            "header": {
             "fill": {
              "color": "#C8D4E3"
             },
             "line": {
              "color": "white"
             }
            },
            "type": "table"
           }
          ]
         },
         "layout": {
          "annotationdefaults": {
           "arrowcolor": "#2a3f5f",
           "arrowhead": 0,
           "arrowwidth": 1
          },
          "autotypenumbers": "strict",
          "coloraxis": {
           "colorbar": {
            "outlinewidth": 0,
            "ticks": ""
           }
          },
          "colorscale": {
           "diverging": [
            [
             0,
             "#8e0152"
            ],
            [
             0.1,
             "#c51b7d"
            ],
            [
             0.2,
             "#de77ae"
            ],
            [
             0.3,
             "#f1b6da"
            ],
            [
             0.4,
             "#fde0ef"
            ],
            [
             0.5,
             "#f7f7f7"
            ],
            [
             0.6,
             "#e6f5d0"
            ],
            [
             0.7,
             "#b8e186"
            ],
            [
             0.8,
             "#7fbc41"
            ],
            [
             0.9,
             "#4d9221"
            ],
            [
             1,
             "#276419"
            ]
           ],
           "sequential": [
            [
             0,
             "#0d0887"
            ],
            [
             0.1111111111111111,
             "#46039f"
            ],
            [
             0.2222222222222222,
             "#7201a8"
            ],
            [
             0.3333333333333333,
             "#9c179e"
            ],
            [
             0.4444444444444444,
             "#bd3786"
            ],
            [
             0.5555555555555556,
             "#d8576b"
            ],
            [
             0.6666666666666666,
             "#ed7953"
            ],
            [
             0.7777777777777778,
             "#fb9f3a"
            ],
            [
             0.8888888888888888,
             "#fdca26"
            ],
            [
             1,
             "#f0f921"
            ]
           ],
           "sequentialminus": [
            [
             0,
             "#0d0887"
            ],
            [
             0.1111111111111111,
             "#46039f"
            ],
            [
             0.2222222222222222,
             "#7201a8"
            ],
            [
             0.3333333333333333,
             "#9c179e"
            ],
            [
             0.4444444444444444,
             "#bd3786"
            ],
            [
             0.5555555555555556,
             "#d8576b"
            ],
            [
             0.6666666666666666,
             "#ed7953"
            ],
            [
             0.7777777777777778,
             "#fb9f3a"
            ],
            [
             0.8888888888888888,
             "#fdca26"
            ],
            [
             1,
             "#f0f921"
            ]
           ]
          },
          "colorway": [
           "#636efa",
           "#EF553B",
           "#00cc96",
           "#ab63fa",
           "#FFA15A",
           "#19d3f3",
           "#FF6692",
           "#B6E880",
           "#FF97FF",
           "#FECB52"
          ],
          "font": {
           "color": "#2a3f5f"
          },
          "geo": {
           "bgcolor": "white",
           "lakecolor": "white",
           "landcolor": "#E5ECF6",
           "showlakes": true,
           "showland": true,
           "subunitcolor": "white"
          },
          "hoverlabel": {
           "align": "left"
          },
          "hovermode": "closest",
          "mapbox": {
           "style": "light"
          },
          "paper_bgcolor": "white",
          "plot_bgcolor": "#E5ECF6",
          "polar": {
           "angularaxis": {
            "gridcolor": "white",
            "linecolor": "white",
            "ticks": ""
           },
           "bgcolor": "#E5ECF6",
           "radialaxis": {
            "gridcolor": "white",
            "linecolor": "white",
            "ticks": ""
           }
          },
          "scene": {
           "xaxis": {
            "backgroundcolor": "#E5ECF6",
            "gridcolor": "white",
            "gridwidth": 2,
            "linecolor": "white",
            "showbackground": true,
            "ticks": "",
            "zerolinecolor": "white"
           },
           "yaxis": {
            "backgroundcolor": "#E5ECF6",
            "gridcolor": "white",
            "gridwidth": 2,
            "linecolor": "white",
            "showbackground": true,
            "ticks": "",
            "zerolinecolor": "white"
           },
           "zaxis": {
            "backgroundcolor": "#E5ECF6",
            "gridcolor": "white",
            "gridwidth": 2,
            "linecolor": "white",
            "showbackground": true,
            "ticks": "",
            "zerolinecolor": "white"
           }
          },
          "shapedefaults": {
           "line": {
            "color": "#2a3f5f"
           }
          },
          "ternary": {
           "aaxis": {
            "gridcolor": "white",
            "linecolor": "white",
            "ticks": ""
           },
           "baxis": {
            "gridcolor": "white",
            "linecolor": "white",
            "ticks": ""
           },
           "bgcolor": "#E5ECF6",
           "caxis": {
            "gridcolor": "white",
            "linecolor": "white",
            "ticks": ""
           }
          },
          "title": {
           "x": 0.05
          },
          "xaxis": {
           "automargin": true,
           "gridcolor": "white",
           "linecolor": "white",
           "ticks": "",
           "title": {
            "standoff": 15
           },
           "zerolinecolor": "white",
           "zerolinewidth": 2
          },
          "yaxis": {
           "automargin": true,
           "gridcolor": "white",
           "linecolor": "white",
           "ticks": "",
           "title": {
            "standoff": 15
           },
           "zerolinecolor": "white",
           "zerolinewidth": 2
          }
         }
        },
        "title": {
         "text": "Classificação"
        },
        "width": 800
       }
      }
     },
     "metadata": {},
     "output_type": "display_data"
    }
   ],
   "source": [
    "#criar grafico 3d interativo\n",
    "colors = ['red' if y == -1 else 'blue' for y in yhat]\n",
    "\n",
    "#criar malha para o hiperplano\n",
    "x1_range = np.linspace(x[:, 0].min() - 0.5, x[:, 0].max() + 0.5, 20)\n",
    "x2_range = np.linspace(x[:, 1].min() - 0.5, x[:, 1].max() + 0.5, 20)\n",
    "x1_grid, x2_grid = np.meshgrid(x1_range, x2_range)\n",
    "\n",
    "#calcular x3 para o hiperplano: w0*x1 + w1*x2 + w2*x3 + w3*(-1) = 0\n",
    "#x3 = (w0*x1 + w1*x2 - w3) / (-w2)\n",
    "x3_grid = (w[0] * x1_grid + w[1] * x2_grid - w[3]) / (-w[2])\n",
    "\n",
    "fig = go.Figure()\n",
    "\n",
    "#adicionar o hiperplano\n",
    "fig.add_trace(go.Surface(\n",
    "   x=x1_grid,\n",
    "   y=x2_grid,\n",
    "   z=x3_grid,\n",
    "   colorscale='gray',\n",
    "   opacity=0.3,\n",
    "   showscale=False,\n",
    "   name='Hiperplano'\n",
    "))\n",
    "\n",
    "#adicionar os pontos\n",
    "fig.add_trace(go.Scatter3d(\n",
    "   x=x[:, 0],\n",
    "   y=x[:, 1],\n",
    "   z=x[:, 2],\n",
    "   mode='markers',\n",
    "   marker=dict(\n",
    "      size=8,\n",
    "      color=colors,\n",
    "      opacity=0.8,\n",
    "      line=dict(width=1, color='white')\n",
    "   ),\n",
    "   name='Amostras'\n",
    "))\n",
    "\n",
    "fig.update_layout(\n",
    "   title='Classificação',\n",
    "   scene=dict(\n",
    "      xaxis_title='x1',\n",
    "      yaxis_title='x2',\n",
    "      zaxis_title='x3'\n",
    "   ),\n",
    "   width=800,\n",
    "   height=600\n",
    ")"
   ]
  }
 ],
 "metadata": {
  "kernelspec": {
   "display_name": "rna",
   "language": "python",
   "name": "python3"
  },
  "language_info": {
   "codemirror_mode": {
    "name": "ipython",
    "version": 3
   },
   "file_extension": ".py",
   "mimetype": "text/x-python",
   "name": "python",
   "nbconvert_exporter": "python",
   "pygments_lexer": "ipython3",
   "version": "3.8.20"
  }
 },
 "nbformat": 4,
 "nbformat_minor": 5
}
