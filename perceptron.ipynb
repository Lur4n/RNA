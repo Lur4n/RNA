{
 "cells": [
  {
   "cell_type": "markdown",
   "id": "4e02addb",
   "metadata": {},
   "source": [
    "# Atividade: Perceptron\n",
    "\n",
    "**INSTITUTO FEDERAL DE MINAS GERAIS**\n",
    "\n",
    "*Departamento de Engenharia e Computação*   \n",
    "\n",
    "*Professor: Ciniro Nametala Leite*\n",
    "\n",
    "*Aluno: Luan Carlos dos Santos*\n",
    "\n",
    "---"
   ]
  },
  {
   "cell_type": "markdown",
   "id": "06e84c82",
   "metadata": {},
   "source": [
    "## Dependencias instaladas\n",
    "### **Perguntar pro Ciniro por que usando o conda install pygwalker é mais rapido do que o pip install pygwalker**"
   ]
  },
  {
   "cell_type": "code",
   "execution_count": 2612,
   "id": "3f647004",
   "metadata": {},
   "outputs": [],
   "source": [
    "#importação de pacotes\n",
    "import numpy as np\n",
    "import pandas as pd\n",
    "import pygwalker as pyg #exploração de dados crocante\n",
    "import matplotlib.pyplot as plt\n",
    "from sklearn.metrics import confusion_matrix, classification_report # machinelearning\n",
    "import seaborn as sns\n",
    "import plotly.graph_objects as go"
   ]
  },
  {
   "cell_type": "code",
   "execution_count": 2613,
   "id": "82a0c2f2",
   "metadata": {},
   "outputs": [],
   "source": [
    "#funcoes\n",
    "#degrau bipolar\n",
    "def degrau_bipolar(u):\n",
    "   if u >= 0:\n",
    "      y = 1\n",
    "   else:\n",
    "      y = -1\n",
    "   return y\n",
    "\n",
    "#funcao que classifica a amostra com base na rede ja treinada\n",
    "def previsao(w, x):\n",
    "   u = np.dot(w.T, x)\n",
    "   yhat = degrau_bipolar(u)\n",
    "   return yhat"
   ]
  },
  {
   "cell_type": "code",
   "execution_count": 2614,
   "id": "619b49d8",
   "metadata": {},
   "outputs": [],
   "source": [
    "#Passo 1: OBTER O CONJUNTO DE DADOS DE TREINAMENTO X\n",
    "\n",
    "#carregar a tabela de dados\n",
    "dados = pd.read_csv('data-sets/dataset_iris.csv', sep=';')\n",
    "\n",
    "#Analise exploratoria de dados\n",
    "# walker = pyg.walk(dados))"
   ]
  },
  {
   "cell_type": "code",
   "execution_count": 2615,
   "id": "1755514d",
   "metadata": {},
   "outputs": [
    {
     "name": "stdout",
     "output_type": "stream",
     "text": [
      "30\n",
      "3\n",
      "[[-0.6508  0.1097  4.0009]\n",
      " [-1.4492  0.8896  4.4005]\n",
      " [ 2.085   0.6876 12.071 ]\n",
      " [ 0.2626  1.1476  7.7985]\n",
      " [ 0.6418  1.0234  7.0427]\n",
      " [ 0.2569  0.673   8.3265]\n",
      " [ 1.1155  0.6043  7.4446]\n",
      " [ 0.0914  0.3399  7.0677]\n",
      " [ 0.0121  0.5256  4.6316]\n",
      " [-0.0429  0.466   5.4323]\n",
      " [ 0.434   0.687   8.2287]\n",
      " [ 0.2735  1.0287  7.1934]\n",
      " [ 0.4839  0.4851  7.485 ]\n",
      " [ 0.4089 -0.1267  5.5019]\n",
      " [ 1.4391  0.1614  8.5843]\n",
      " [-0.9115 -0.1973  2.1962]\n",
      " [ 0.3654  1.0475  7.4858]\n",
      " [ 0.2144  0.7515  7.1699]\n",
      " [ 0.2013  1.0014  6.5489]\n",
      " [ 0.6483  0.2183  5.8991]\n",
      " [-0.1147  0.2242  7.2435]\n",
      " [-0.797   0.8795  3.8762]\n",
      " [-1.0625  0.6366  2.4707]\n",
      " [ 0.5307  0.1285  5.6883]\n",
      " [-1.22    0.7777  1.7252]\n",
      " [ 0.3957  0.1076  5.6623]\n",
      " [-0.1013  0.5989  7.1812]\n",
      " [ 2.4482  0.9455 11.2095]\n",
      " [ 2.0149  0.6192 10.9263]\n",
      " [ 0.2012  0.2611  5.4631]]\n"
     ]
    }
   ],
   "source": [
    "#quantidade de elementos na amostra\n",
    "n_amostras = dados.shape[0]\n",
    "print(n_amostras)\n",
    "\n",
    "#quantidade de variaveis de entrada (subtrair a coluna tipo)\n",
    "n_variaveis = dados.shape[1] -1\n",
    "print(n_variaveis)\n",
    "\n",
    "#separando os dadso contendo apenas as variáveis de entrada\n",
    "x = dados.iloc[:, 0:n_variaveis].values\n",
    "print(x)"
   ]
  },
  {
   "cell_type": "code",
   "execution_count": 2616,
   "id": "d5e12333",
   "metadata": {},
   "outputs": [
    {
     "name": "stdout",
     "output_type": "stream",
     "text": [
      "[[-0.6508  0.1097  4.0009 -1.    ]\n",
      " [-1.4492  0.8896  4.4005 -1.    ]\n",
      " [ 2.085   0.6876 12.071  -1.    ]\n",
      " [ 0.2626  1.1476  7.7985 -1.    ]\n",
      " [ 0.6418  1.0234  7.0427 -1.    ]\n",
      " [ 0.2569  0.673   8.3265 -1.    ]\n",
      " [ 1.1155  0.6043  7.4446 -1.    ]\n",
      " [ 0.0914  0.3399  7.0677 -1.    ]\n",
      " [ 0.0121  0.5256  4.6316 -1.    ]\n",
      " [-0.0429  0.466   5.4323 -1.    ]\n",
      " [ 0.434   0.687   8.2287 -1.    ]\n",
      " [ 0.2735  1.0287  7.1934 -1.    ]\n",
      " [ 0.4839  0.4851  7.485  -1.    ]\n",
      " [ 0.4089 -0.1267  5.5019 -1.    ]\n",
      " [ 1.4391  0.1614  8.5843 -1.    ]\n",
      " [-0.9115 -0.1973  2.1962 -1.    ]\n",
      " [ 0.3654  1.0475  7.4858 -1.    ]\n",
      " [ 0.2144  0.7515  7.1699 -1.    ]\n",
      " [ 0.2013  1.0014  6.5489 -1.    ]\n",
      " [ 0.6483  0.2183  5.8991 -1.    ]\n",
      " [-0.1147  0.2242  7.2435 -1.    ]\n",
      " [-0.797   0.8795  3.8762 -1.    ]\n",
      " [-1.0625  0.6366  2.4707 -1.    ]\n",
      " [ 0.5307  0.1285  5.6883 -1.    ]\n",
      " [-1.22    0.7777  1.7252 -1.    ]\n",
      " [ 0.3957  0.1076  5.6623 -1.    ]\n",
      " [-0.1013  0.5989  7.1812 -1.    ]\n",
      " [ 2.4482  0.9455 11.2095 -1.    ]\n",
      " [ 2.0149  0.6192 10.9263 -1.    ]\n",
      " [ 0.2012  0.2611  5.4631 -1.    ]]\n"
     ]
    }
   ],
   "source": [
    "#inserindo bias\n",
    "bias = np.ones((n_amostras, 1)) * -1\n",
    "\n",
    "x = np.hstack((x, bias))\n",
    "\n",
    "print(x)"
   ]
  },
  {
   "cell_type": "code",
   "execution_count": 2617,
   "id": "14b95ead",
   "metadata": {},
   "outputs": [
    {
     "name": "stdout",
     "output_type": "stream",
     "text": [
      "[-1. -1. -1.  1.  1. -1.  1. -1.  1.  1. -1.  1. -1. -1. -1. -1.  1.  1.\n",
      "  1.  1. -1.  1.  1.  1.  1. -1. -1.  1. -1.  1.]\n",
      "-1: 14\n",
      "-1: 30\n"
     ]
    }
   ],
   "source": [
    "#PASSO 2: do vetor de saida y, associar a saida esperada y para cada x\n",
    "y = dados.iloc[:, n_variaveis].values\n",
    "print(y)\n",
    "#contar quatas amostras de cada classe existem no dataset\n",
    "print(f\"-1: {(y == -1).sum()}\")\n",
    "print(f\"-1: {(x == -1).sum()}\")"
   ]
  },
  {
   "cell_type": "code",
   "execution_count": 2618,
   "id": "f4e22a30",
   "metadata": {},
   "outputs": [
    {
     "name": "stdout",
     "output_type": "stream",
     "text": [
      "[-0.47735388  0.66101093  0.09659783 -0.13625429]\n"
     ]
    }
   ],
   "source": [
    "# inicializar o vetor de pesos w com valores aleatorios\n",
    "w = np.random.uniform(-1, 1, n_variaveis + 1)\n",
    "print(w)"
   ]
  },
  {
   "cell_type": "code",
   "execution_count": 2619,
   "id": "04230c08",
   "metadata": {},
   "outputs": [],
   "source": [
    "#PASSO 4: DEFINIR A TAXA DE APRENDIZAGEM COM VALOR ENTRE 0 E 1\n",
    "#taxa de aprendizagem eta\n",
    "eta = 0.01\n",
    "\n",
    "#PASSO 5: CALCULAR O NUMERO DE AMOSTRAS EM X\n",
    "#ja foi feito e esta em n_amostras\n",
    "\n",
    "#PASSO 6: DEFINIR A TOLERÂNCIA AO ERRO - onde eu aceito que o resultado ta bom \n",
    "tolerancia = 0.01\n",
    "\n",
    "#PASSO 7: SETAR O ERRO INICIAL MAIOR QUE A TOLERANCIA\n",
    "erro_medio = tolerancia + 1 \n",
    "\n",
    "#PASSO 8: CRIAR O VETOR QUE IRA ARMAZENAR O ERRO DE TODAS AS EPOCAS, EPOCA A EPOCA\n",
    "erros_epocas = []\n",
    "\n",
    "#PASSO 9: INICIALIZA O CONTADOR DE EPOCAS\n",
    "epoca = 0\n",
    "\n",
    "#PASSO 10: DEFINE O MÁXIMO DE ÉPOCAS \n",
    "max_epocas = 160"
   ]
  },
  {
   "cell_type": "code",
   "execution_count": 2620,
   "id": "508492a0",
   "metadata": {},
   "outputs": [
    {
     "name": "stdout",
     "output_type": "stream",
     "text": [
      "Época: 134\n"
     ]
    }
   ],
   "source": [
    "#PASSO 11 E 12: SETA OS CRITERIOS DE PARADA\n",
    "criterio_erro = True\n",
    "criterio_epoca = True\n",
    "\n",
    "#PASSO 13: ENQUANTO O ERRO FOR MAIOR QUE A TOLERANCIA E MAXEPOCAS NAO FOR ATINGIDO, CONTINUE O TREINO\n",
    "while criterio_erro and criterio_epoca:\n",
    "   #PASSO 14: SETA O ERRO DA EPOCA ATUAL COM ZERO NO INICIO DE CADA EPOCA\n",
    "   erro_atual = 0\n",
    "   \n",
    "   #PASSO 15: INCREMENTA O CONTADOR DE EPOCAS PARA SABER EM QUE ÉPOCA A RNA ESTA TREINANDO\n",
    "   epoca += 1\n",
    "   \n",
    "   #PASSO 16: EMBARALHA OS INDICES PARA BUSCAR AMOSTRAS ALEATORIAMENTE NO CONJUNTO X\n",
    "   indices_embaralhados = np.random.permutation(n_amostras) \n",
    "   \n",
    "   #PASSO 17: PARA CADA AMOSTRA NO CONJUNTO X FAÇA\n",
    "   for i in range(n_amostras):\n",
    "      #captura o indice da amostra atual a ser apresentada da RNA\n",
    "      indice_amostra = indices_embaralhados[i]\n",
    "      \n",
    "      #captura a amostra atual a ser apresentada a RNA\n",
    "      xi_amostra = x[indice_amostra, :]\n",
    "      \n",
    "      #PASSO 18: CALCULA O POTENCIAL DE ATIVAÇÃO U\n",
    "      u = np.dot(w.T, xi_amostra)\n",
    "      \n",
    "      #PASSO 19: CALCULA A SAÍDA PREVISTA COM BASE NA FUNCAO DE ATIVAÇAO\n",
    "      yhat = degrau_bipolar(u)\n",
    "      \n",
    "      #PASSO 20: CALCULA O ERRO ENTRE O VALOR ESPERADO E O VALOR PREVISTO\n",
    "      e = y[indice_amostra] - yhat\n",
    "      \n",
    "      #PASSO 21: ATUALIZA OS PESOS APLICANDO A REGRA DE HEBB\n",
    "      w = w + ((eta * e) * xi_amostra)\n",
    "      \n",
    "      #PASSO 22: ACUMULADOR DE ERROS DE TODAS AS AMOSTRAS\n",
    "      erro_atual = erro_atual + np.abs(e)\n",
    "   \n",
    "   #PASSO 23: CALCULA O ERRO MEDIO DA EPOCA\n",
    "   erro_medio = erro_atual/n_amostras\n",
    "   \n",
    "   #PASSO 24: ARMAZENA O ERRO MEDIO DA EPOCA ATUAL NO VETOR DE ERROS DE TODAS AS EPOCAS\n",
    "   erros_epocas.append(erro_medio)\n",
    "   \n",
    "   #PASSO 25 E 26: VERIFICA E ATUALIZA OS CRITERIOS DE PARADA\n",
    "   criterio_erro = (erro_medio > tolerancia)\n",
    "   criterio_epoca = (epoca < max_epocas)  \n",
    "print(f'Época: {epoca}')"
   ]
  },
  {
   "cell_type": "code",
   "execution_count": 2628,
   "id": "5fbd5786",
   "metadata": {},
   "outputs": [
    {
     "data": {
      "image/png": "[encoded data removed]",
      "text/plain": [
       "<Figure size 600x400 with 1 Axes>"
      ]
     },
     "metadata": {},
     "output_type": "display_data"
    }
   ],
   "source": [
    "#PLOTANDO A CONVERGENCIA DO ALGORITMO COM BASE NO ERRO EPOCA A EPOCA\n",
    "plt.figure(figsize=(6,4))\n",
    "plt.plot((erros_epocas[:max_epocas]))\n",
    "plt.title('Gráfico de Convergência')\n",
    "plt.xlabel('Número de Épocas')\n",
    "plt.ylabel('Convergência do Erro')\n",
    "plt.grid(True)"
   ]
  },
  {
   "cell_type": "markdown",
   "id": "e415a720",
   "metadata": {},
   "source": [
    "## IMPLEMENTAÇÃO DO PERCEPTRON"
   ]
  },
  {
   "cell_type": "code",
   "execution_count": 2622,
   "id": "9e31cde4",
   "metadata": {},
   "outputs": [
    {
     "name": "stdout",
     "output_type": "stream",
     "text": [
      "Conjunto ideal de pesos w*\n",
      "[ 1.03095612  1.76510293 -0.47496217 -1.99625429]\n",
      "Quantidade de épocas até convergir \"134\"\n"
     ]
    }
   ],
   "source": [
    "#exibindo os pesos calibrados pela regra Regra de Hebb\n",
    "print('Conjunto ideal de pesos w*')\n",
    "print(w)\n",
    "print(f'Quantidade de épocas até convergir \"{epoca}\"')"
   ]
  },
  {
   "cell_type": "code",
   "execution_count": 2623,
   "id": "8b7d7ce5",
   "metadata": {},
   "outputs": [
    {
     "name": "stdout",
     "output_type": "stream",
     "text": [
      "[-1. -1. -1.  1.  1. -1.  1. -1.  1.  1. -1.  1. -1. -1. -1. -1.  1.  1.\n",
      "  1.  1. -1.  1.  1.  1.  1. -1. -1.  1. -1.  1.]\n"
     ]
    }
   ],
   "source": [
    "#cria um vetor para receber todas a previsões realizadas pela rna\n",
    "yhat = np.zeros(n_amostras)\n",
    "\n",
    "#armazenar todas a previsoes uma para cada amostras\n",
    "for i in range(n_amostras):\n",
    "   yhat[i] = previsao(w, x[i,:])\n",
    "   \n",
    "print(yhat)"
   ]
  },
  {
   "cell_type": "markdown",
   "id": "68d09ee6",
   "metadata": {},
   "source": [
    "## ANÁLISE DA QUALIDADE DE CLASSIFICAÇÃO"
   ]
  },
  {
   "cell_type": "code",
   "execution_count": 2630,
   "id": "8ea39550",
   "metadata": {},
   "outputs": [
    {
     "name": "stdout",
     "output_type": "stream",
     "text": [
      "Matriz de Confusão\n",
      "[[14  0]\n",
      " [ 0 16]]\n"
     ]
    },
    {
     "data": {
      "image/png": "[encoded data removed]",
      "text/plain": [
       "<Figure size 600x400 with 2 Axes>"
      ]
     },
     "metadata": {},
     "output_type": "display_data"
    }
   ],
   "source": [
    "#converter -1 em 0 para melhor visualizar a matriz de confusão\n",
    "yhat_display = np.where(yhat == -1, 0, yhat)\n",
    "y_display = np.where(y == -1, 0, yhat)\n",
    "\n",
    "#gera a matriz de confusão\n",
    "cm = confusion_matrix(y_display, yhat_display)\n",
    "print(\"Matriz de Confusão\")\n",
    "print(cm)\n",
    "\n",
    "#plotar matriz de confusão crocante\n",
    "plt.figure(figsize=(6, 4))\n",
    "sns.heatmap(cm, annot=True, fmt='d', cmap='Blues',\n",
    "            xticklabels=['Setosa', 'Versicolor'],\n",
    "            yticklabels=['Setosa', 'Versicolor'])\n",
    "plt.title('Matriz de Confusão')\n",
    "plt.xlabel('Valor Predito')\n",
    "plt.ylabel('Valor Real')\n",
    "plt.show()\n"
   ]
  },
  {
   "cell_type": "code",
   "execution_count": 2625,
   "id": "97a5b17a",
   "metadata": {},
   "outputs": [
    {
     "name": "stdout",
     "output_type": "stream",
     "text": [
      "100.0\n"
     ]
    }
   ],
   "source": [
    "#calculo acuracia\n",
    "\n",
    "acuracia = (np.sum(yhat == y) / n_amostras) * 100\n",
    "print(acuracia)"
   ]
  },
  {
   "cell_type": "code",
   "execution_count": 2631,
   "id": "740a1969",
   "metadata": {},
   "outputs": [
    {
     "data": {
      "image/png": "[encoded data removed]",
      "text/plain": [
       "<Figure size 600x400 with 1 Axes>"
      ]
     },
     "metadata": {},
     "output_type": "display_data"
    }
   ],
   "source": [
    "if cm.shape == (2, 2):\n",
    "   resultado = [cm[0, 0], cm[0, 1], cm[1, 1], cm[1, 0]]\n",
    "   labels = ['VV', 'VS', 'SS', 'SV']\n",
    "   colors = ['green', 'red', 'green', 'red']\n",
    "   \n",
    "   plt.figure(figsize=(6, 4))\n",
    "   plt.bar(labels, resultado, color=colors)\n",
    "   plt.xlabel('Previsões')\n",
    "   plt.ylabel('Quantidade')\n",
    "   plt.title('Resultado das Classificações')\n",
    "   plt.ylim(0, 20)\n",
    "   for i, v in enumerate(resultado):\n",
    "      plt.text(i, v + 0.2, str(v), ha='center')\n",
    "   plt.show()"
   ]
  },
  {
   "cell_type": "code",
   "execution_count": 2627,
   "id": "79a53a52",
   "metadata": {},
   "outputs": [
    {
     "data": {
      "application/vnd.plotly.v1+json": {
       "config": {
        "plotlyServerURL": "https://plot.ly"
       },
       "data": [
        {
         "colorscale": [
          [
           0,
           "rgb(0, 0, 0)"
          ],
          [
           0.09090909090909091,
           "rgb(16, 16, 16)"
          ],
          [
           0.18181818181818182,
           "rgb(38, 38, 38)"
          ],
          [
           0.2727272727272727,
           "rgb(59, 59, 59)"
          ],
          [
           0.36363636363636365,
           "rgb(81, 80, 80)"
          ],
          [
           0.45454545454545453,
           "rgb(102, 101, 101)"
          ],
          [
           0.5454545454545454,
           "rgb(124, 123, 122)"
          ],
          [
           0.6363636363636364,
           "rgb(146, 146, 145)"
          ],
          [
           0.7272727272727273,
           "rgb(171, 171, 170)"
          ],
          [
           0.8181818181818182,
           "rgb(197, 197, 195)"
          ],
          [
           0.9090909090909091,
           "rgb(224, 224, 223)"
          ],
          [
           1,
           "rgb(254, 254, 253)"
          ]
         ],
         "name": "Hiperplano",
         "opacity": 0.3,
         "showscale": false,
         "type": "surface",
         "x": [
          [
           -1.9492,
           -1.6914421052631579,
           -1.433684210526316,
           -1.1759263157894737,
           -0.9181684210526315,
           -0.6604105263157893,
           -0.4026526315789474,
           -0.1448947368421052,
           0.112863157894737,
           0.3706210526315792,
           0.6283789473684214,
           0.8861368421052636,
           1.1438947368421053,
           1.4016526315789475,
           1.6594105263157897,
           1.9171684210526319,
           2.174926315789474,
           2.4326842105263156,
           2.690442105263158,
           2.9482
          ],
          [
           -1.9492,
           -1.6914421052631579,
           -1.433684210526316,
           -1.1759263157894737,
           -0.9181684210526315,
           -0.6604105263157893,
           -0.4026526315789474,
           -0.1448947368421052,
           0.112863157894737,
           0.3706210526315792,
           0.6283789473684214,
           0.8861368421052636,
           1.1438947368421053,
           1.4016526315789475,
           1.6594105263157897,
           1.9171684210526319,
           2.174926315789474,
           2.4326842105263156,
           2.690442105263158,
           2.9482
          ],
          [
           -1.9492,
           -1.6914421052631579,
           -1.433684210526316,
           -1.1759263157894737,
           -0.9181684210526315,
           -0.6604105263157893,
           -0.4026526315789474,
           -0.1448947368421052,
           0.112863157894737,
           0.3706210526315792,
           0.6283789473684214,
           0.8861368421052636,
           1.1438947368421053,
           1.4016526315789475,
           1.6594105263157897,
           1.9171684210526319,
           2.174926315789474,
           2.4326842105263156,
           2.690442105263158,
           2.9482
          ],
          [
           -1.9492,
           -1.6914421052631579,
           -1.433684210526316,
           -1.1759263157894737,
           -0.9181684210526315,
           -0.6604105263157893,
           -0.4026526315789474,
           -0.1448947368421052,
           0.112863157894737,
           0.3706210526315792,
           0.6283789473684214,
           0.8861368421052636,
           1.1438947368421053,
           1.4016526315789475,
           1.6594105263157897,
           1.9171684210526319,
           2.174926315789474,
           2.4326842105263156,
           2.690442105263158,
           2.9482
          ],
          [
           -1.9492,
           -1.6914421052631579,
           -1.433684210526316,
           -1.1759263157894737,
           -0.9181684210526315,
           -0.6604105263157893,
           -0.4026526315789474,
           -0.1448947368421052,
           0.112863157894737,
           0.3706210526315792,
           0.6283789473684214,
           0.8861368421052636,
           1.1438947368421053,
           1.4016526315789475,
           1.6594105263157897,
           1.9171684210526319,
           2.174926315789474,
           2.4326842105263156,
           2.690442105263158,
           2.9482
          ],
          [
           -1.9492,
           -1.6914421052631579,
           -1.433684210526316,
           -1.1759263157894737,
           -0.9181684210526315,
           -0.6604105263157893,
           -0.4026526315789474,
           -0.1448947368421052,
           0.112863157894737,
           0.3706210526315792,
           0.6283789473684214,
           0.8861368421052636,
           1.1438947368421053,
           1.4016526315789475,
           1.6594105263157897,
           1.9171684210526319,
           2.174926315789474,
           2.4326842105263156,
           2.690442105263158,
           2.9482
          ],
          [
           -1.9492,
           -1.6914421052631579,
           -1.433684210526316,
           -1.1759263157894737,
           -0.9181684210526315,
           -0.6604105263157893,
           -0.4026526315789474,
           -0.1448947368421052,
           0.112863157894737,
           0.3706210526315792,
           0.6283789473684214,
           0.8861368421052636,
           1.1438947368421053,
           1.4016526315789475,
           1.6594105263157897,
           1.9171684210526319,
           2.174926315789474,
           2.4326842105263156,
           2.690442105263158,
           2.9482
          ],
          [
           -1.9492,
           -1.6914421052631579,
           -1.433684210526316,
           -1.1759263157894737,
           -0.9181684210526315,
           -0.6604105263157893,
           -0.4026526315789474,
           -0.1448947368421052,
           0.112863157894737,
           0.3706210526315792,
           0.6283789473684214,
           0.8861368421052636,
           1.1438947368421053,
           1.4016526315789475,
           1.6594105263157897,
           1.9171684210526319,
           2.174926315789474,
           2.4326842105263156,
           2.690442105263158,
           2.9482
          ],
          [
           -1.9492,
           -1.6914421052631579,
           -1.433684210526316,
           -1.1759263157894737,
           -0.9181684210526315,
           -0.6604105263157893,
           -0.4026526315789474,
           -0.1448947368421052,
           0.112863157894737,
           0.3706210526315792,
           0.6283789473684214,
           0.8861368421052636,
           1.1438947368421053,
           1.4016526315789475,
           1.6594105263157897,
           1.9171684210526319,
           2.174926315789474,
           2.4326842105263156,
           2.690442105263158,
           2.9482
          ],
          [
           -1.9492,
           -1.6914421052631579,
           -1.433684210526316,
           -1.1759263157894737,
           -0.9181684210526315,
           -0.6604105263157893,
           -0.4026526315789474,
           -0.1448947368421052,
           0.112863157894737,
           0.3706210526315792,
           0.6283789473684214,
           0.8861368421052636,
           1.1438947368421053,
           1.4016526315789475,
           1.6594105263157897,
           1.9171684210526319,
           2.174926315789474,
           2.4326842105263156,
           2.690442105263158,
           2.9482
          ],
          [
           -1.9492,
           -1.6914421052631579,
           -1.433684210526316,
           -1.1759263157894737,
           -0.9181684210526315,
           -0.6604105263157893,
           -0.4026526315789474,
           -0.1448947368421052,
           0.112863157894737,
           0.3706210526315792,
           0.6283789473684214,
           0.8861368421052636,
           1.1438947368421053,
           1.4016526315789475,
           1.6594105263157897,
           1.9171684210526319,
           2.174926315789474,
           2.4326842105263156,
           2.690442105263158,
           2.9482
          ],
          [
           -1.9492,
           -1.6914421052631579,
           -1.433684210526316,
           -1.1759263157894737,
           -0.9181684210526315,
           -0.6604105263157893,
           -0.4026526315789474,
           -0.1448947368421052,
           0.112863157894737,
           0.3706210526315792,
           0.6283789473684214,
           0.8861368421052636,
           1.1438947368421053,
           1.4016526315789475,
           1.6594105263157897,
           1.9171684210526319,
           2.174926315789474,
           2.4326842105263156,
           2.690442105263158,
           2.9482
          ],
          [
           -1.9492,
           -1.6914421052631579,
           -1.433684210526316,
           -1.1759263157894737,
           -0.9181684210526315,
           -0.6604105263157893,
           -0.4026526315789474,
           -0.1448947368421052,
           0.112863157894737,
           0.3706210526315792,
           0.6283789473684214,
           0.8861368421052636,
           1.1438947368421053,
           1.4016526315789475,
           1.6594105263157897,
           1.9171684210526319,
           2.174926315789474,
           2.4326842105263156,
           2.690442105263158,
           2.9482
          ],
          [
           -1.9492,
           -1.6914421052631579,
           -1.433684210526316,
           -1.1759263157894737,
           -0.9181684210526315,
           -0.6604105263157893,
           -0.4026526315789474,
           -0.1448947368421052,
           0.112863157894737,
           0.3706210526315792,
           0.6283789473684214,
           0.8861368421052636,
           1.1438947368421053,
           1.4016526315789475,
           1.6594105263157897,
           1.9171684210526319,
           2.174926315789474,
           2.4326842105263156,
           2.690442105263158,
           2.9482
          ],
          [
           -1.9492,
           -1.6914421052631579,
           -1.433684210526316,
           -1.1759263157894737,
           -0.9181684210526315,
           -0.6604105263157893,
           -0.4026526315789474,
           -0.1448947368421052,
           0.112863157894737,
           0.3706210526315792,
           0.6283789473684214,
           0.8861368421052636,
           1.1438947368421053,
           1.4016526315789475,
           1.6594105263157897,
           1.9171684210526319,
           2.174926315789474,
           2.4326842105263156,
           2.690442105263158,
           2.9482
          ],
          [
           -1.9492,
           -1.6914421052631579,
           -1.433684210526316,
           -1.1759263157894737,
           -0.9181684210526315,
           -0.6604105263157893,
           -0.4026526315789474,
           -0.1448947368421052,
           0.112863157894737,
           0.3706210526315792,
           0.6283789473684214,
           0.8861368421052636,
           1.1438947368421053,
           1.4016526315789475,
           1.6594105263157897,
           1.9171684210526319,
           2.174926315789474,
           2.4326842105263156,
           2.690442105263158,
           2.9482
          ],
          [
           -1.9492,
           -1.6914421052631579,
           -1.433684210526316,
           -1.1759263157894737,
           -0.9181684210526315,
           -0.6604105263157893,
           -0.4026526315789474,
           -0.1448947368421052,
           0.112863157894737,
           0.3706210526315792,
           0.6283789473684214,
           0.8861368421052636,
           1.1438947368421053,
           1.4016526315789475,
           1.6594105263157897,
           1.9171684210526319,
           2.174926315789474,
           2.4326842105263156,
           2.690442105263158,
           2.9482
          ],
          [
           -1.9492,
           -1.6914421052631579,
           -1.433684210526316,
           -1.1759263157894737,
           -0.9181684210526315,
           -0.6604105263157893,
           -0.4026526315789474,
           -0.1448947368421052,
           0.112863157894737,
           0.3706210526315792,
           0.6283789473684214,
           0.8861368421052636,
           1.1438947368421053,
           1.4016526315789475,
           1.6594105263157897,
           1.9171684210526319,
           2.174926315789474,
           2.4326842105263156,
           2.690442105263158,
           2.9482
          ],
          [
           -1.9492,
           -1.6914421052631579,
           -1.433684210526316,
           -1.1759263157894737,
           -0.9181684210526315,
           -0.6604105263157893,
           -0.4026526315789474,
           -0.1448947368421052,
           0.112863157894737,
           0.3706210526315792,
           0.6283789473684214,
           0.8861368421052636,
           1.1438947368421053,
           1.4016526315789475,
           1.6594105263157897,
           1.9171684210526319,
           2.174926315789474,
           2.4326842105263156,
           2.690442105263158,
           2.9482
          ],
          [
           -1.9492,
           -1.6914421052631579,
           -1.433684210526316,
           -1.1759263157894737,
           -0.9181684210526315,
           -0.6604105263157893,
           -0.4026526315789474,
           -0.1448947368421052,
           0.112863157894737,
           0.3706210526315792,
           0.6283789473684214,
           0.8861368421052636,
           1.1438947368421053,
           1.4016526315789475,
           1.6594105263157897,
           1.9171684210526319,
           2.174926315789474,
           2.4326842105263156,
           2.690442105263158,
           2.9482
          ]
         ],
         "y": [
          [
           -0.6973,
           -0.6973,
           -0.6973,
           -0.6973,
           -0.6973,
           -0.6973,
           -0.6973,
           -0.6973,
           -0.6973,
           -0.6973,
           -0.6973,
           -0.6973,
           -0.6973,
           -0.6973,
           -0.6973,
           -0.6973,
           -0.6973,
           -0.6973,
           -0.6973,
           -0.6973
          ],
          [
           -0.5738842105263158,
           -0.5738842105263158,
           -0.5738842105263158,
           -0.5738842105263158,
           -0.5738842105263158,
           -0.5738842105263158,
           -0.5738842105263158,
           -0.5738842105263158,
           -0.5738842105263158,
           -0.5738842105263158,
           -0.5738842105263158,
           -0.5738842105263158,
           -0.5738842105263158,
           -0.5738842105263158,
           -0.5738842105263158,
           -0.5738842105263158,
           -0.5738842105263158,
           -0.5738842105263158,
           -0.5738842105263158,
           -0.5738842105263158
          ],
          [
           -0.45046842105263163,
           -0.45046842105263163,
           -0.45046842105263163,
           -0.45046842105263163,
           -0.45046842105263163,
           -0.45046842105263163,
           -0.45046842105263163,
           -0.45046842105263163,
           -0.45046842105263163,
           -0.45046842105263163,
           -0.45046842105263163,
           -0.45046842105263163,
           -0.45046842105263163,
           -0.45046842105263163,
           -0.45046842105263163,
           -0.45046842105263163,
           -0.45046842105263163,
           -0.45046842105263163,
           -0.45046842105263163,
           -0.45046842105263163
          ],
          [
           -0.3270526315789474,
           -0.3270526315789474,
           -0.3270526315789474,
           -0.3270526315789474,
           -0.3270526315789474,
           -0.3270526315789474,
           -0.3270526315789474,
           -0.3270526315789474,
           -0.3270526315789474,
           -0.3270526315789474,
           -0.3270526315789474,
           -0.3270526315789474,
           -0.3270526315789474,
           -0.3270526315789474,
           -0.3270526315789474,
           -0.3270526315789474,
           -0.3270526315789474,
           -0.3270526315789474,
           -0.3270526315789474,
           -0.3270526315789474
          ],
          [
           -0.20363684210526317,
           -0.20363684210526317,
           -0.20363684210526317,
           -0.20363684210526317,
           -0.20363684210526317,
           -0.20363684210526317,
           -0.20363684210526317,
           -0.20363684210526317,
           -0.20363684210526317,
           -0.20363684210526317,
           -0.20363684210526317,
           -0.20363684210526317,
           -0.20363684210526317,
           -0.20363684210526317,
           -0.20363684210526317,
           -0.20363684210526317,
           -0.20363684210526317,
           -0.20363684210526317,
           -0.20363684210526317,
           -0.20363684210526317
          ],
          [
           -0.08022105263157897,
           -0.08022105263157897,
           -0.08022105263157897,
           -0.08022105263157897,
           -0.08022105263157897,
           -0.08022105263157897,
           -0.08022105263157897,
           -0.08022105263157897,
           -0.08022105263157897,
           -0.08022105263157897,
           -0.08022105263157897,
           -0.08022105263157897,
           -0.08022105263157897,
           -0.08022105263157897,
           -0.08022105263157897,
           -0.08022105263157897,
           -0.08022105263157897,
           -0.08022105263157897,
           -0.08022105263157897,
           -0.08022105263157897
          ],
          [
           0.043194736842105286,
           0.043194736842105286,
           0.043194736842105286,
           0.043194736842105286,
           0.043194736842105286,
           0.043194736842105286,
           0.043194736842105286,
           0.043194736842105286,
           0.043194736842105286,
           0.043194736842105286,
           0.043194736842105286,
           0.043194736842105286,
           0.043194736842105286,
           0.043194736842105286,
           0.043194736842105286,
           0.043194736842105286,
           0.043194736842105286,
           0.043194736842105286,
           0.043194736842105286,
           0.043194736842105286
          ],
          [
           0.16661052631578943,
           0.16661052631578943,
           0.16661052631578943,
           0.16661052631578943,
           0.16661052631578943,
           0.16661052631578943,
           0.16661052631578943,
           0.16661052631578943,
           0.16661052631578943,
           0.16661052631578943,
           0.16661052631578943,
           0.16661052631578943,
           0.16661052631578943,
           0.16661052631578943,
           0.16661052631578943,
           0.16661052631578943,
           0.16661052631578943,
           0.16661052631578943,
           0.16661052631578943,
           0.16661052631578943
          ],
          [
           0.2900263157894737,
           0.2900263157894737,
           0.2900263157894737,
           0.2900263157894737,
           0.2900263157894737,
           0.2900263157894737,
           0.2900263157894737,
           0.2900263157894737,
           0.2900263157894737,
           0.2900263157894737,
           0.2900263157894737,
           0.2900263157894737,
           0.2900263157894737,
           0.2900263157894737,
           0.2900263157894737,
           0.2900263157894737,
           0.2900263157894737,
           0.2900263157894737,
           0.2900263157894737,
           0.2900263157894737
          ],
          [
           0.41344210526315783,
           0.41344210526315783,
           0.41344210526315783,
           0.41344210526315783,
           0.41344210526315783,
           0.41344210526315783,
           0.41344210526315783,
           0.41344210526315783,
           0.41344210526315783,
           0.41344210526315783,
           0.41344210526315783,
           0.41344210526315783,
           0.41344210526315783,
           0.41344210526315783,
           0.41344210526315783,
           0.41344210526315783,
           0.41344210526315783,
           0.41344210526315783,
           0.41344210526315783,
           0.41344210526315783
          ],
          [
           0.5368578947368421,
           0.5368578947368421,
           0.5368578947368421,
           0.5368578947368421,
           0.5368578947368421,
           0.5368578947368421,
           0.5368578947368421,
           0.5368578947368421,
           0.5368578947368421,
           0.5368578947368421,
           0.5368578947368421,
           0.5368578947368421,
           0.5368578947368421,
           0.5368578947368421,
           0.5368578947368421,
           0.5368578947368421,
           0.5368578947368421,
           0.5368578947368421,
           0.5368578947368421,
           0.5368578947368421
          ],
          [
           0.6602736842105263,
           0.6602736842105263,
           0.6602736842105263,
           0.6602736842105263,
           0.6602736842105263,
           0.6602736842105263,
           0.6602736842105263,
           0.6602736842105263,
           0.6602736842105263,
           0.6602736842105263,
           0.6602736842105263,
           0.6602736842105263,
           0.6602736842105263,
           0.6602736842105263,
           0.6602736842105263,
           0.6602736842105263,
           0.6602736842105263,
           0.6602736842105263,
           0.6602736842105263,
           0.6602736842105263
          ],
          [
           0.7836894736842106,
           0.7836894736842106,
           0.7836894736842106,
           0.7836894736842106,
           0.7836894736842106,
           0.7836894736842106,
           0.7836894736842106,
           0.7836894736842106,
           0.7836894736842106,
           0.7836894736842106,
           0.7836894736842106,
           0.7836894736842106,
           0.7836894736842106,
           0.7836894736842106,
           0.7836894736842106,
           0.7836894736842106,
           0.7836894736842106,
           0.7836894736842106,
           0.7836894736842106,
           0.7836894736842106
          ],
          [
           0.9071052631578949,
           0.9071052631578949,
           0.9071052631578949,
           0.9071052631578949,
           0.9071052631578949,
           0.9071052631578949,
           0.9071052631578949,
           0.9071052631578949,
           0.9071052631578949,
           0.9071052631578949,
           0.9071052631578949,
           0.9071052631578949,
           0.9071052631578949,
           0.9071052631578949,
           0.9071052631578949,
           0.9071052631578949,
           0.9071052631578949,
           0.9071052631578949,
           0.9071052631578949,
           0.9071052631578949
          ],
          [
           1.030521052631579,
           1.030521052631579,
           1.030521052631579,
           1.030521052631579,
           1.030521052631579,
           1.030521052631579,
           1.030521052631579,
           1.030521052631579,
           1.030521052631579,
           1.030521052631579,
           1.030521052631579,
           1.030521052631579,
           1.030521052631579,
           1.030521052631579,
           1.030521052631579,
           1.030521052631579,
           1.030521052631579,
           1.030521052631579,
           1.030521052631579,
           1.030521052631579
          ],
          [
           1.1539368421052631,
           1.1539368421052631,
           1.1539368421052631,
           1.1539368421052631,
           1.1539368421052631,
           1.1539368421052631,
           1.1539368421052631,
           1.1539368421052631,
           1.1539368421052631,
           1.1539368421052631,
           1.1539368421052631,
           1.1539368421052631,
           1.1539368421052631,
           1.1539368421052631,
           1.1539368421052631,
           1.1539368421052631,
           1.1539368421052631,
           1.1539368421052631,
           1.1539368421052631,
           1.1539368421052631
          ],
          [
           1.2773526315789474,
           1.2773526315789474,
           1.2773526315789474,
           1.2773526315789474,
           1.2773526315789474,
           1.2773526315789474,
           1.2773526315789474,
           1.2773526315789474,
           1.2773526315789474,
           1.2773526315789474,
           1.2773526315789474,
           1.2773526315789474,
           1.2773526315789474,
           1.2773526315789474,
           1.2773526315789474,
           1.2773526315789474,
           1.2773526315789474,
           1.2773526315789474,
           1.2773526315789474,
           1.2773526315789474
          ],
          [
           1.4007684210526314,
           1.4007684210526314,
           1.4007684210526314,
           1.4007684210526314,
           1.4007684210526314,
           1.4007684210526314,
           1.4007684210526314,
           1.4007684210526314,
           1.4007684210526314,
           1.4007684210526314,
           1.4007684210526314,
           1.4007684210526314,
           1.4007684210526314,
           1.4007684210526314,
           1.4007684210526314,
           1.4007684210526314,
           1.4007684210526314,
           1.4007684210526314,
           1.4007684210526314,
           1.4007684210526314
          ],
          [
           1.5241842105263157,
           1.5241842105263157,
           1.5241842105263157,
           1.5241842105263157,
           1.5241842105263157,
           1.5241842105263157,
           1.5241842105263157,
           1.5241842105263157,
           1.5241842105263157,
           1.5241842105263157,
           1.5241842105263157,
           1.5241842105263157,
           1.5241842105263157,
           1.5241842105263157,
           1.5241842105263157,
           1.5241842105263157,
           1.5241842105263157,
           1.5241842105263157,
           1.5241842105263157,
           1.5241842105263157
          ],
          [
           1.6476,
           1.6476,
           1.6476,
           1.6476,
           1.6476,
           1.6476,
           1.6476,
           1.6476,
           1.6476,
           1.6476,
           1.6476,
           1.6476,
           1.6476,
           1.6476,
           1.6476,
           1.6476,
           1.6476,
           1.6476,
           1.6476,
           1.6476
          ]
         ],
         "z": [
          [
           -2.619348940196325,
           -2.0598578974369524,
           -1.5003668546775812,
           -0.9408758119182083,
           -0.38138476915883546,
           0.17810627360053696,
           0.7375973163599089,
           1.2970883591192812,
           1.8565794018786541,
           2.4160704446380263,
           2.975561487397399,
           3.5350525301567717,
           4.094543572916143,
           4.654034615675515,
           5.213525658434888,
           5.77301670119426,
           6.3325077439536335,
           6.891998786713004,
           7.4514898294723775,
           8.010980872231748
          ],
          [
           -2.160698574928553,
           -1.6012075321691814,
           -1.0417164894098094,
           -0.48222544665043665,
           0.07726559610893574,
           0.6367566388683081,
           1.1962476816276801,
           1.7557387243870524,
           2.315229767146425,
           2.874720809905798,
           3.43421185266517,
           3.9937028954245424,
           4.553193938183915,
           5.112684980943287,
           5.672176023702659,
           6.231667066462031,
           6.791158109221404,
           7.350649151980775,
           7.910140194740149,
           8.46963123749952
          ],
          [
           -1.7020482096607836,
           -1.1425571669014107,
           -0.5830661241420397,
           -0.023575081382666896,
           0.5359159613767059,
           1.0954070041360784,
           1.6548980468954504,
           2.214389089654823,
           2.7738801324141957,
           3.333371175173568,
           3.89286221793294,
           4.4523532606923135,
           5.011844303451684,
           5.5713353462110575,
           6.130826388970429,
           6.6903174317298015,
           7.249808474489175,
           7.8092995172485455,
           8.368790560007918,
           8.92828160276729
          ],
          [
           -1.243397844393012,
           -0.68390680163364,
           -0.12441575887426813,
           0.43507528388510475,
           0.9945663266444766,
           1.5540573694038495,
           2.1135484121632215,
           2.673039454922594,
           3.2325304976819664,
           3.792021540441339,
           4.351512583200711,
           4.911003625960084,
           5.470494668719455,
           6.029985711478828,
           6.5894767542382,
           7.148967796997573,
           7.708458839756945,
           8.267949882516316,
           8.82744092527569,
           9.386931968035062
          ],
          [
           -0.7847474791252412,
           -0.22525643636586937,
           0.33423460639350255,
           0.8937256491528754,
           1.4532166919122473,
           2.0127077346716202,
           2.5721987774309922,
           3.1316898201903647,
           3.691180862949737,
           4.25067190570911,
           4.810162948468482,
           5.369653991227855,
           5.929145033987226,
           6.488636076746599,
           7.048127119505971,
           7.607618162265343,
           8.167109205024715,
           8.726600247784088,
           9.28609129054346,
           9.845582333302833
          ],
          [
           -0.3260971138574706,
           0.2333939289019009,
           0.7928849716612728,
           1.3523760144206456,
           1.911867057180018,
           2.4713580999393905,
           3.030849142698763,
           3.590340185458135,
           4.149831228217508,
           4.70932227097688,
           5.268813313736253,
           5.828304356495625,
           6.387795399254997,
           6.947286442014369,
           7.506777484773741,
           8.066268527533113,
           8.625759570292487,
           9.185250613051858,
           9.74474165581123,
           10.304232698570603
          ],
          [
           0.1325532514103001,
           0.6920442941696721,
           1.251535336929044,
           1.811026379688417,
           2.3705174224477887,
           2.9300084652071616,
           3.4894995079665336,
           4.048990550725906,
           4.608481593485278,
           5.167972636244651,
           5.727463679004023,
           6.286954721763396,
           6.846445764522768,
           7.405936807282141,
           7.965427850041513,
           8.524918892800885,
           9.084409935560258,
           9.643900978319628,
           10.203392021079,
           10.762883063838375
          ],
          [
           0.5912036166780703,
           1.1506946594374423,
           1.7101857021968143,
           2.269676744956187,
           2.8291677877155594,
           3.388658830474932,
           3.948149873234304,
           4.507640915993676,
           5.067131958753049,
           5.626623001512422,
           6.186114044271794,
           6.745605087031167,
           7.305096129790538,
           7.864587172549911,
           8.424078215309283,
           8.983569258068655,
           9.543060300828028,
           10.102551343587399,
           10.662042386346773,
           11.221533429106143
          ],
          [
           1.0498539819458415,
           1.6093450247052135,
           2.1688360674645852,
           2.728327110223958,
           3.28781815298333,
           3.847309195742703,
           4.406800238502075,
           4.966291281261447,
           5.5257823240208195,
           6.085273366780193,
           6.644764409539564,
           7.204255452298938,
           7.763746495058308,
           8.32323753781768,
           8.882728580577055,
           9.442219623336426,
           10.001710666095798,
           10.56120170885517,
           11.120692751614543,
           11.680183794373916
          ],
          [
           1.5085043472136117,
           2.0679953899729835,
           2.6274864327323555,
           3.1869774754917284,
           3.746468518251101,
           4.305959561010474,
           4.865450603769846,
           5.424941646529217,
           5.984432689288591,
           6.543923732047963,
           7.1034147748073355,
           7.662905817566708,
           8.222396860326079,
           8.781887903085453,
           9.341378945844824,
           9.900869988604196,
           10.46036103136357,
           11.01985207412294,
           11.579343116882313,
           12.138834159641684
          ],
          [
           1.9671547124813824,
           2.526645755240754,
           3.086136798000126,
           3.645627840759499,
           4.205118883518872,
           4.764609926278244,
           5.324100969037615,
           5.883592011796988,
           6.443083054556361,
           7.002574097315734,
           7.562065140075106,
           8.121556182834478,
           8.68104722559385,
           9.240538268353223,
           9.800029311112594,
           10.359520353871968,
           10.91901139663134,
           11.478502439390711,
           12.037993482150084,
           12.597484524909456
          ],
          [
           2.4258050777491538,
           2.9852961205085258,
           3.5447871632678973,
           4.104278206027271,
           4.663769248786642,
           5.223260291546016,
           5.782751334305387,
           6.342242377064759,
           6.901733419824132,
           7.4612244625835045,
           8.020715505342878,
           8.580206548102248,
           9.139697590861621,
           9.699188633620995,
           10.258679676380368,
           10.818170719139738,
           11.37766176189911,
           11.937152804658481,
           12.496643847417856,
           13.056134890177228
          ],
          [
           2.8844554430169245,
           3.4439464857762965,
           4.0034375285356685,
           4.562928571295041,
           5.122419614054413,
           5.681910656813786,
           6.241401699573157,
           6.80089274233253,
           7.360383785091902,
           7.919874827851276,
           8.479365870610648,
           9.038856913370019,
           9.598347956129393,
           10.157838998888765,
           10.717330041648138,
           11.276821084407509,
           11.836312127166881,
           12.395803169926253,
           12.955294212685626,
           13.514785255444998
          ],
          [
           3.343105808284695,
           3.902596851044067,
           4.462087893803439,
           5.021578936562812,
           5.581069979322184,
           6.140561022081557,
           6.7000520648409285,
           7.2595431076003,
           7.819034150359673,
           8.378525193119046,
           8.938016235878418,
           9.49750727863779,
           10.056998321397163,
           10.616489364156536,
           11.175980406915908,
           11.735471449675279,
           12.294962492434653,
           12.854453535194024,
           13.413944577953396,
           13.973435620712769
          ],
          [
           3.8017561735524654,
           4.361247216311837,
           4.920738259071209,
           5.480229301830581,
           6.039720344589955,
           6.599211387349327,
           7.158702430108698,
           7.718193472868071,
           8.277684515627444,
           8.837175558386814,
           9.396666601146189,
           9.956157643905561,
           10.515648686664933,
           11.075139729424306,
           11.634630772183677,
           12.19412181494305,
           12.753612857702423,
           13.313103900461794,
           13.872594943221166,
           14.432085985980539
          ],
          [
           4.260406538820236,
           4.819897581579609,
           5.37938862433898,
           5.9388796670983535,
           6.498370709857725,
           7.057861752617098,
           7.61735279537647,
           8.176843838135841,
           8.736334880895214,
           9.295825923654588,
           9.85531696641396,
           10.414808009173331,
           10.974299051932704,
           11.533790094692078,
           12.09328113745145,
           12.652772180210821,
           13.212263222970194,
           13.771754265729564,
           14.331245308488938,
           14.89073635124831
          ],
          [
           4.719056904088007,
           5.278547946847379,
           5.838038989606751,
           6.397530032366124,
           6.957021075125496,
           7.516512117884869,
           8.076003160644241,
           8.635494203403614,
           9.194985246162986,
           9.754476288922358,
           10.31396733168173,
           10.873458374441102,
           11.432949417200476,
           11.992440459959848,
           12.55193150271922,
           13.111422545478591,
           13.670913588237964,
           14.230404630997336,
           14.789895673756709,
           15.349386716516081
          ],
          [
           5.177707269355777,
           5.737198312115149,
           6.296689354874521,
           6.856180397633894,
           7.415671440393266,
           7.975162483152638,
           8.53465352591201,
           9.094144568671384,
           9.653635611430754,
           10.213126654190127,
           10.7726176969495,
           11.332108739708874,
           11.891599782468244,
           12.451090825227617,
           13.01058186798699,
           13.570072910746362,
           14.129563953505734,
           14.689054996265106,
           15.248546039024479,
           15.80803708178385
          ],
          [
           5.636357634623548,
           6.195848677382919,
           6.755339720142292,
           7.314830762901664,
           7.874321805661038,
           8.433812848420411,
           8.993303891179782,
           9.552794933939154,
           10.112285976698525,
           10.671777019457897,
           11.231268062217271,
           11.790759104976644,
           12.350250147736014,
           12.909741190495387,
           13.46923223325476,
           14.028723276014134,
           14.588214318773504,
           15.147705361532877,
           15.70719640429225,
           16.26668744705162
          ],
          [
           6.095007999891318,
           6.6544990426506905,
           7.213990085410062,
           7.773481128169435,
           8.332972170928809,
           8.892463213688181,
           9.451954256447552,
           10.011445299206924,
           10.570936341966295,
           11.13042738472567,
           11.689918427485042,
           12.249409470244414,
           12.808900513003785,
           13.368391555763157,
           13.927882598522531,
           14.487373641281904,
           15.046864684041275,
           15.606355726800647,
           16.16584676956002,
           16.725337812319392
          ]
         ]
        },
        {
         "marker": {
          "color": [
           "red",
           "red",
           "red",
           "blue",
           "blue",
           "red",
           "blue",
           "red",
           "blue",
           "blue",
           "red",
           "blue",
           "red",
           "red",
           "red",
           "red",
           "blue",
           "blue",
           "blue",
           "blue",
           "red",
           "blue",
           "blue",
           "blue",
           "blue",
           "red",
           "red",
           "blue",
           "red",
           "blue"
          ],
          "line": {
           "color": "white",
           "width": 1
          },
          "opacity": 0.8,
          "size": 8
         },
         "mode": "markers",
         "name": "Amostras",
         "type": "scatter3d",
         "x": [
          -0.6508,
          -1.4492,
          2.085,
          0.2626,
          0.6418,
          0.2569,
          1.1155,
          0.0914,
          0.0121,
          -0.0429,
          0.434,
          0.2735,
          0.4839,
          0.4089,
          1.4391,
          -0.9115,
          0.3654,
          0.2144,
          0.2013,
          0.6483,
          -0.1147,
          -0.797,
          -1.0625,
          0.5307,
          -1.22,
          0.3957,
          -0.1013,
          2.4482,
          2.0149,
          0.2012
         ],
         "y": [
          0.1097,
          0.8896,
          0.6876,
          1.1476,
          1.0234,
          0.673,
          0.6043,
          0.3399,
          0.5256,
          0.466,
          0.687,
          1.0287,
          0.4851,
          -0.1267,
          0.1614,
          -0.1973,
          1.0475,
          0.7515,
          1.0014,
          0.2183,
          0.2242,
          0.8795,
          0.6366,
          0.1285,
          0.7777,
          0.1076,
          0.5989,
          0.9455,
          0.6192,
          0.2611
         ],
         "z": [
          4.0009,
          4.4005,
          12.071,
          7.7985,
          7.0427,
          8.3265,
          7.4446,
          7.0677,
          4.6316,
          5.4323,
          8.2287,
          7.1934,
          7.485,
          5.5019,
          8.5843,
          2.1962,
          7.4858,
          7.1699,
          6.5489,
          5.8991,
          7.2435,
          3.8762,
          2.4707,
          5.6883,
          1.7252,
          5.6623,
          7.1812,
          11.2095,
          10.9263,
          5.4631
         ]
        }
       ],
       "layout": {
        "height": 600,
        "scene": {
         "xaxis": {
          "title": {
           "text": "x1"
          }
         },
         "yaxis": {
          "title": {
           "text": "x2"
          }
         },
         "zaxis": {
          "title": {
           "text": "x3"
          }
         }
        },
        "template": {
         "data": {
          "bar": [
           {
            "error_x": {
             "color": "#2a3f5f"
            },
            "error_y": {
             "color": "#2a3f5f"
            },
            "marker": {
             "line": {
              "color": "#E5ECF6",
              "width": 0.5
             },
             "pattern": {
              "fillmode": "overlay",
              "size": 10,
              "solidity": 0.2
             }
            },
            "type": "bar"
           }
          ],
          "barpolar": [
           {
            "marker": {
             "line": {
              "color": "#E5ECF6",
              "width": 0.5
             },
             "pattern": {
              "fillmode": "overlay",
              "size": 10,
              "solidity": 0.2
             }
            },
            "type": "barpolar"
           }
          ],
          "carpet": [
           {
            "aaxis": {
             "endlinecolor": "#2a3f5f",
             "gridcolor": "white",
             "linecolor": "white",
             "minorgridcolor": "white",
             "startlinecolor": "#2a3f5f"
            },
            "baxis": {
             "endlinecolor": "#2a3f5f",
             "gridcolor": "white",
             "linecolor": "white",
             "minorgridcolor": "white",
             "startlinecolor": "#2a3f5f"
            },
            "type": "carpet"
           }
          ],
          "choropleth": [
           {
            "colorbar": {
             "outlinewidth": 0,
             "ticks": ""
            },
            "type": "choropleth"
           }
          ],
          "contour": [
           {
            "colorbar": {
             "outlinewidth": 0,
             "ticks": ""
            },
            "colorscale": [
             [
              0,
              "#0d0887"
             ],
             [
              0.1111111111111111,
              "#46039f"
             ],
             [
              0.2222222222222222,
              "#7201a8"
             ],
             [
              0.3333333333333333,
              "#9c179e"
             ],
             [
              0.4444444444444444,
              "#bd3786"
             ],
             [
              0.5555555555555556,
              "#d8576b"
             ],
             [
              0.6666666666666666,
              "#ed7953"
             ],
             [
              0.7777777777777778,
              "#fb9f3a"
             ],
             [
              0.8888888888888888,
              "#fdca26"
             ],
             [
              1,
              "#f0f921"
             ]
            ],
            "type": "contour"
           }
          ],
          "contourcarpet": [
           {
            "colorbar": {
             "outlinewidth": 0,
             "ticks": ""
            },
            "type": "contourcarpet"
           }
          ],
          "heatmap": [
           {
            "colorbar": {
             "outlinewidth": 0,
             "ticks": ""
            },
            "colorscale": [
             [
              0,
              "#0d0887"
             ],
             [
              0.1111111111111111,
              "#46039f"
             ],
             [
              0.2222222222222222,
              "#7201a8"
             ],
             [
              0.3333333333333333,
              "#9c179e"
             ],
             [
              0.4444444444444444,
              "#bd3786"
             ],
             [
              0.5555555555555556,
              "#d8576b"
             ],
             [
              0.6666666666666666,
              "#ed7953"
             ],
             [
              0.7777777777777778,
              "#fb9f3a"
             ],
             [
              0.8888888888888888,
              "#fdca26"
             ],
             [
              1,
              "#f0f921"
             ]
            ],
            "type": "heatmap"
           }
          ],
          "heatmapgl": [
           {
            "colorbar": {
             "outlinewidth": 0,
             "ticks": ""
            },
            "colorscale": [
             [
              0,
              "#0d0887"
             ],
             [
              0.1111111111111111,
              "#46039f"
             ],
             [
              0.2222222222222222,
              "#7201a8"
             ],
             [
              0.3333333333333333,
              "#9c179e"
             ],
             [
              0.4444444444444444,
              "#bd3786"
             ],
             [
              0.5555555555555556,
              "#d8576b"
             ],
             [
              0.6666666666666666,
              "#ed7953"
             ],
             [
              0.7777777777777778,
              "#fb9f3a"
             ],
             [
              0.8888888888888888,
              "#fdca26"
             ],
             [
              1,
              "#f0f921"
             ]
            ],
            "type": "heatmapgl"
           }
          ],
          "histogram": [
           {
            "marker": {
             "pattern": {
              "fillmode": "overlay",
              "size": 10,
              "solidity": 0.2
             }
            },
            "type": "histogram"
           }
          ],
          "histogram2d": [
           {
            "colorbar": {
             "outlinewidth": 0,
             "ticks": ""
            },
            "colorscale": [
             [
              0,
              "#0d0887"
             ],
             [
              0.1111111111111111,
              "#46039f"
             ],
             [
              0.2222222222222222,
              "#7201a8"
             ],
             [
              0.3333333333333333,
              "#9c179e"
             ],
             [
              0.4444444444444444,
              "#bd3786"
             ],
             [
              0.5555555555555556,
              "#d8576b"
             ],
             [
              0.6666666666666666,
              "#ed7953"
             ],
             [
              0.7777777777777778,
              "#fb9f3a"
             ],
             [
              0.8888888888888888,
              "#fdca26"
             ],
             [
              1,
              "#f0f921"
             ]
            ],
            "type": "histogram2d"
           }
          ],
          "histogram2dcontour": [
           {
            "colorbar": {
             "outlinewidth": 0,
             "ticks": ""
            },
            "colorscale": [
             [
              0,
              "#0d0887"
             ],
             [
              0.1111111111111111,
              "#46039f"
             ],
             [
              0.2222222222222222,
              "#7201a8"
             ],
             [
              0.3333333333333333,
              "#9c179e"
             ],
             [
              0.4444444444444444,
              "#bd3786"
             ],
             [
              0.5555555555555556,
              "#d8576b"
             ],
             [
              0.6666666666666666,
              "#ed7953"
             ],
             [
              0.7777777777777778,
              "#fb9f3a"
             ],
             [
              0.8888888888888888,
              "#fdca26"
             ],
             [
              1,
              "#f0f921"
             ]
            ],
            "type": "histogram2dcontour"
           }
          ],
          "mesh3d": [
           {
            "colorbar": {
             "outlinewidth": 0,
             "ticks": ""
            },
            "type": "mesh3d"
           }
          ],
          "parcoords": [
           {
            "line": {
             "colorbar": {
              "outlinewidth": 0,
              "ticks": ""
             }
            },
            "type": "parcoords"
           }
          ],
          "pie": [
           {
            "automargin": true,
            "type": "pie"
           }
          ],
          "scatter": [
           {
            "fillpattern": {
             "fillmode": "overlay",
             "size": 10,
             "solidity": 0.2
            },
            "type": "scatter"
           }
          ],
          "scatter3d": [
           {
            "line": {
             "colorbar": {
              "outlinewidth": 0,
              "ticks": ""
             }
            },
            "marker": {
             "colorbar": {
              "outlinewidth": 0,
              "ticks": ""
             }
            },
            "type": "scatter3d"
           }
          ],
          "scattercarpet": [
           {
            "marker": {
             "colorbar": {
              "outlinewidth": 0,
              "ticks": ""
             }
            },
            "type": "scattercarpet"
           }
          ],
          "scattergeo": [
           {
            "marker": {
             "colorbar": {
              "outlinewidth": 0,
              "ticks": ""
             }
            },
            "type": "scattergeo"
           }
          ],
          "scattergl": [
           {
            "marker": {
             "colorbar": {
              "outlinewidth": 0,
              "ticks": ""
             }
            },
            "type": "scattergl"
           }
          ],
          "scattermapbox": [
           {
            "marker": {
             "colorbar": {
              "outlinewidth": 0,
              "ticks": ""
             }
            },
            "type": "scattermapbox"
           }
          ],
          "scatterpolar": [
           {
            "marker": {
             "colorbar": {
              "outlinewidth": 0,
              "ticks": ""
             }
            },
            "type": "scatterpolar"
           }
          ],
          "scatterpolargl": [
           {
            "marker": {
             "colorbar": {
              "outlinewidth": 0,
              "ticks": ""
             }
            },
            "type": "scatterpolargl"
           }
          ],
          "scatterternary": [
           {
            "marker": {
             "colorbar": {
              "outlinewidth": 0,
              "ticks": ""
             }
            },
            "type": "scatterternary"
           }
          ],
          "surface": [
           {
            "colorbar": {
             "outlinewidth": 0,
             "ticks": ""
            },
            "colorscale": [
             [
              0,
              "#0d0887"
             ],
             [
              0.1111111111111111,
              "#46039f"
             ],
             [
              0.2222222222222222,
              "#7201a8"
             ],
             [
              0.3333333333333333,
              "#9c179e"
             ],
             [
              0.4444444444444444,
              "#bd3786"
             ],
             [
              0.5555555555555556,
              "#d8576b"
             ],
             [
              0.6666666666666666,
              "#ed7953"
             ],
             [
              0.7777777777777778,
              "#fb9f3a"
             ],
             [
              0.8888888888888888,
              "#fdca26"
             ],
             [
              1,
              "#f0f921"
             ]
            ],
            "type": "surface"
           }
          ],
          "table": [
           {
            "cells": {
             "fill": {
              "color": "#EBF0F8"
             },
             "line": {
              "color": "white"
             }
            },
            "header": {
             "fill": {
              "color": "#C8D4E3"
             },
             "line": {
              "color": "white"
             }
            },
            "type": "table"
           }
          ]
         },
         "layout": {
          "annotationdefaults": {
           "arrowcolor": "#2a3f5f",
           "arrowhead": 0,
           "arrowwidth": 1
          },
          "autotypenumbers": "strict",
          "coloraxis": {
           "colorbar": {
            "outlinewidth": 0,
            "ticks": ""
           }
          },
          "colorscale": {
           "diverging": [
            [
             0,
             "#8e0152"
            ],
            [
             0.1,
             "#c51b7d"
            ],
            [
             0.2,
             "#de77ae"
            ],
            [
             0.3,
             "#f1b6da"
            ],
            [
             0.4,
             "#fde0ef"
            ],
            [
             0.5,
             "#f7f7f7"
            ],
            [
             0.6,
             "#e6f5d0"
            ],
            [
             0.7,
             "#b8e186"
            ],
            [
             0.8,
             "#7fbc41"
            ],
            [
             0.9,
             "#4d9221"
            ],
            [
             1,
             "#276419"
            ]
           ],
           "sequential": [
            [
             0,
             "#0d0887"
            ],
            [
             0.1111111111111111,
             "#46039f"
            ],
            [
             0.2222222222222222,
             "#7201a8"
            ],
            [
             0.3333333333333333,
             "#9c179e"
            ],
            [
             0.4444444444444444,
             "#bd3786"
            ],
            [
             0.5555555555555556,
             "#d8576b"
            ],
            [
             0.6666666666666666,
             "#ed7953"
            ],
            [
             0.7777777777777778,
             "#fb9f3a"
            ],
            [
             0.8888888888888888,
             "#fdca26"
            ],
            [
             1,
             "#f0f921"
            ]
           ],
           "sequentialminus": [
            [
             0,
             "#0d0887"
            ],
            [
             0.1111111111111111,
             "#46039f"
            ],
            [
             0.2222222222222222,
             "#7201a8"
            ],
            [
             0.3333333333333333,
             "#9c179e"
            ],
            [
             0.4444444444444444,
             "#bd3786"
            ],
            [
             0.5555555555555556,
             "#d8576b"
            ],
            [
             0.6666666666666666,
             "#ed7953"
            ],
            [
             0.7777777777777778,
             "#fb9f3a"
            ],
            [
             0.8888888888888888,
             "#fdca26"
            ],
            [
             1,
             "#f0f921"
            ]
           ]
          },
          "colorway": [
           "#636efa",
           "#EF553B",
           "#00cc96",
           "#ab63fa",
           "#FFA15A",
           "#19d3f3",
           "#FF6692",
           "#B6E880",
           "#FF97FF",
           "#FECB52"
          ],
          "font": {
           "color": "#2a3f5f"
          },
          "geo": {
           "bgcolor": "white",
           "lakecolor": "white",
           "landcolor": "#E5ECF6",
           "showlakes": true,
           "showland": true,
           "subunitcolor": "white"
          },
          "hoverlabel": {
           "align": "left"
          },
          "hovermode": "closest",
          "mapbox": {
           "style": "light"
          },
          "paper_bgcolor": "white",
          "plot_bgcolor": "#E5ECF6",
          "polar": {
           "angularaxis": {
            "gridcolor": "white",
            "linecolor": "white",
            "ticks": ""
           },
           "bgcolor": "#E5ECF6",
           "radialaxis": {
            "gridcolor": "white",
            "linecolor": "white",
            "ticks": ""
           }
          },
          "scene": {
           "xaxis": {
            "backgroundcolor": "#E5ECF6",
            "gridcolor": "white",
            "gridwidth": 2,
            "linecolor": "white",
            "showbackground": true,
            "ticks": "",
            "zerolinecolor": "white"
           },
           "yaxis": {
            "backgroundcolor": "#E5ECF6",
            "gridcolor": "white",
            "gridwidth": 2,
            "linecolor": "white",
            "showbackground": true,
            "ticks": "",
            "zerolinecolor": "white"
           },
           "zaxis": {
            "backgroundcolor": "#E5ECF6",
            "gridcolor": "white",
            "gridwidth": 2,
            "linecolor": "white",
            "showbackground": true,
            "ticks": "",
            "zerolinecolor": "white"
           }
          },
          "shapedefaults": {
           "line": {
            "color": "#2a3f5f"
           }
          },
          "ternary": {
           "aaxis": {
            "gridcolor": "white",
            "linecolor": "white",
            "ticks": ""
           },
           "baxis": {
            "gridcolor": "white",
            "linecolor": "white",
            "ticks": ""
           },
           "bgcolor": "#E5ECF6",
           "caxis": {
            "gridcolor": "white",
            "linecolor": "white",
            "ticks": ""
           }
          },
          "title": {
           "x": 0.05
          },
          "xaxis": {
           "automargin": true,
           "gridcolor": "white",
           "linecolor": "white",
           "ticks": "",
           "title": {
            "standoff": 15
           },
           "zerolinecolor": "white",
           "zerolinewidth": 2
          },
          "yaxis": {
           "automargin": true,
           "gridcolor": "white",
           "linecolor": "white",
           "ticks": "",
           "title": {
            "standoff": 15
           },
           "zerolinecolor": "white",
           "zerolinewidth": 2
          }
         }
        },
        "title": {
         "text": "Classificação"
        },
        "width": 800
       }
      }
     },
     "metadata": {},
     "output_type": "display_data"
    }
   ],
   "source": [
    "#criar grafico 3d interativo\n",
    "colors = ['red' if y == -1 else 'blue' for y in yhat]\n",
    "\n",
    "#criar malha para o hiperplano\n",
    "x1_range = np.linspace(x[:, 0].min() - 0.5, x[:, 0].max() + 0.5, 20)\n",
    "x2_range = np.linspace(x[:, 1].min() - 0.5, x[:, 1].max() + 0.5, 20)\n",
    "x1_grid, x2_grid = np.meshgrid(x1_range, x2_range)\n",
    "\n",
    "#calcular x3 para o hiperplano: w0*x1 + w1*x2 + w2*x3 + w3*(-1) = 0\n",
    "#x3 = (w0*x1 + w1*x2 - w3) / (-w2)\n",
    "x3_grid = (w[0] * x1_grid + w[1] * x2_grid - w[3]) / (-w[2])\n",
    "\n",
    "fig = go.Figure()\n",
    "\n",
    "#adicionar o hiperplano\n",
    "fig.add_trace(go.Surface(\n",
    "   x=x1_grid,\n",
    "   y=x2_grid,\n",
    "   z=x3_grid,\n",
    "   colorscale='gray',\n",
    "   opacity=0.3,\n",
    "   showscale=False,\n",
    "   name='Hiperplano'\n",
    "))\n",
    "\n",
    "#adicionar os pontos\n",
    "fig.add_trace(go.Scatter3d(\n",
    "   x=x[:, 0],\n",
    "   y=x[:, 1],\n",
    "   z=x[:, 2],\n",
    "   mode='markers',\n",
    "   marker=dict(\n",
    "      size=8,\n",
    "      color=colors,\n",
    "      opacity=0.8,\n",
    "      line=dict(width=1, color='white')\n",
    "   ),\n",
    "   name='Amostras'\n",
    "))\n",
    "\n",
    "fig.update_layout(\n",
    "   title='Classificação',\n",
    "   scene=dict(\n",
    "      xaxis_title='x1',\n",
    "      yaxis_title='x2',\n",
    "      zaxis_title='x3'\n",
    "   ),\n",
    "   width=800,\n",
    "   height=600\n",
    ")"
   ]
  }
 ],
 "metadata": {
  "kernelspec": {
   "display_name": "rna",
   "language": "python",
   "name": "python3"
  },
  "language_info": {
   "codemirror_mode": {
    "name": "ipython",
    "version": 3
   },
   "file_extension": ".py",
   "mimetype": "text/x-python",
   "name": "python",
   "nbconvert_exporter": "python",
   "pygments_lexer": "ipython3",
   "version": "3.8.20"
  }
 },
 "nbformat": 4,
 "nbformat_minor": 5
}
